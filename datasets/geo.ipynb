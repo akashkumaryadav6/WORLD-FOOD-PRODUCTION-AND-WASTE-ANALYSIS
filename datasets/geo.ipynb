{
 "cells": [
  {
   "cell_type": "code",
   "execution_count": 5,
   "metadata": {},
   "outputs": [],
   "source": [
    "import pandas as p\n",
    "import plotly.express as px   "
   ]
  },
  {
   "cell_type": "code",
   "execution_count": 6,
   "metadata": {},
   "outputs": [
    {
     "data": {
      "text/html": [
       "<div>\n",
       "<style scoped>\n",
       "    .dataframe tbody tr th:only-of-type {\n",
       "        vertical-align: middle;\n",
       "    }\n",
       "\n",
       "    .dataframe tbody tr th {\n",
       "        vertical-align: top;\n",
       "    }\n",
       "\n",
       "    .dataframe thead th {\n",
       "        text-align: right;\n",
       "    }\n",
       "</style>\n",
       "<table border=\"1\" class=\"dataframe\">\n",
       "  <thead>\n",
       "    <tr style=\"text-align: right;\">\n",
       "      <th></th>\n",
       "      <th>Code</th>\n",
       "      <th>Country</th>\n",
       "      <th>Item</th>\n",
       "      <th>latitude</th>\n",
       "      <th>longitude</th>\n",
       "      <th>1961</th>\n",
       "      <th>1962</th>\n",
       "      <th>1963</th>\n",
       "      <th>1964</th>\n",
       "      <th>1965</th>\n",
       "      <th>...</th>\n",
       "      <th>2004</th>\n",
       "      <th>2005</th>\n",
       "      <th>2006</th>\n",
       "      <th>2007</th>\n",
       "      <th>2008</th>\n",
       "      <th>2009</th>\n",
       "      <th>2010</th>\n",
       "      <th>2011</th>\n",
       "      <th>2012</th>\n",
       "      <th>2013</th>\n",
       "    </tr>\n",
       "  </thead>\n",
       "  <tbody>\n",
       "    <tr>\n",
       "      <th>0</th>\n",
       "      <td>AFG</td>\n",
       "      <td>Afghanistan</td>\n",
       "      <td>Wheat</td>\n",
       "      <td>33.94</td>\n",
       "      <td>67.71</td>\n",
       "      <td>1928</td>\n",
       "      <td>1904</td>\n",
       "      <td>1666</td>\n",
       "      <td>1950</td>\n",
       "      <td>2001</td>\n",
       "      <td>...</td>\n",
       "      <td>3249</td>\n",
       "      <td>3486</td>\n",
       "      <td>3704</td>\n",
       "      <td>4164</td>\n",
       "      <td>4252</td>\n",
       "      <td>4538</td>\n",
       "      <td>4605</td>\n",
       "      <td>4711</td>\n",
       "      <td>4810</td>\n",
       "      <td>4895</td>\n",
       "    </tr>\n",
       "    <tr>\n",
       "      <th>1</th>\n",
       "      <td>AFG</td>\n",
       "      <td>Afghanistan</td>\n",
       "      <td>Rice</td>\n",
       "      <td>33.94</td>\n",
       "      <td>67.71</td>\n",
       "      <td>183</td>\n",
       "      <td>183</td>\n",
       "      <td>182</td>\n",
       "      <td>220</td>\n",
       "      <td>220</td>\n",
       "      <td>...</td>\n",
       "      <td>419</td>\n",
       "      <td>445</td>\n",
       "      <td>546</td>\n",
       "      <td>455</td>\n",
       "      <td>490</td>\n",
       "      <td>415</td>\n",
       "      <td>442</td>\n",
       "      <td>476</td>\n",
       "      <td>425</td>\n",
       "      <td>422</td>\n",
       "    </tr>\n",
       "    <tr>\n",
       "      <th>2</th>\n",
       "      <td>AFG</td>\n",
       "      <td>Afghanistan</td>\n",
       "      <td>Barley</td>\n",
       "      <td>33.94</td>\n",
       "      <td>67.71</td>\n",
       "      <td>237</td>\n",
       "      <td>237</td>\n",
       "      <td>237</td>\n",
       "      <td>238</td>\n",
       "      <td>238</td>\n",
       "      <td>...</td>\n",
       "      <td>185</td>\n",
       "      <td>43</td>\n",
       "      <td>44</td>\n",
       "      <td>48</td>\n",
       "      <td>62</td>\n",
       "      <td>55</td>\n",
       "      <td>60</td>\n",
       "      <td>72</td>\n",
       "      <td>78</td>\n",
       "      <td>89</td>\n",
       "    </tr>\n",
       "    <tr>\n",
       "      <th>3</th>\n",
       "      <td>AFG</td>\n",
       "      <td>Afghanistan</td>\n",
       "      <td>Maize</td>\n",
       "      <td>33.94</td>\n",
       "      <td>67.71</td>\n",
       "      <td>403</td>\n",
       "      <td>403</td>\n",
       "      <td>410</td>\n",
       "      <td>415</td>\n",
       "      <td>415</td>\n",
       "      <td>...</td>\n",
       "      <td>231</td>\n",
       "      <td>67</td>\n",
       "      <td>82</td>\n",
       "      <td>67</td>\n",
       "      <td>69</td>\n",
       "      <td>71</td>\n",
       "      <td>82</td>\n",
       "      <td>73</td>\n",
       "      <td>77</td>\n",
       "      <td>76</td>\n",
       "    </tr>\n",
       "    <tr>\n",
       "      <th>4</th>\n",
       "      <td>AFG</td>\n",
       "      <td>Afghanistan</td>\n",
       "      <td>Millet</td>\n",
       "      <td>33.94</td>\n",
       "      <td>67.71</td>\n",
       "      <td>17</td>\n",
       "      <td>18</td>\n",
       "      <td>19</td>\n",
       "      <td>20</td>\n",
       "      <td>21</td>\n",
       "      <td>...</td>\n",
       "      <td>15</td>\n",
       "      <td>21</td>\n",
       "      <td>11</td>\n",
       "      <td>19</td>\n",
       "      <td>21</td>\n",
       "      <td>18</td>\n",
       "      <td>14</td>\n",
       "      <td>14</td>\n",
       "      <td>14</td>\n",
       "      <td>12</td>\n",
       "    </tr>\n",
       "  </tbody>\n",
       "</table>\n",
       "<p>5 rows × 58 columns</p>\n",
       "</div>"
      ],
      "text/plain": [
       "  Code      Country    Item  latitude  longitude  1961  1962  1963  1964  \\\n",
       "0  AFG  Afghanistan   Wheat     33.94      67.71  1928  1904  1666  1950   \n",
       "1  AFG  Afghanistan    Rice     33.94      67.71   183   183   182   220   \n",
       "2  AFG  Afghanistan  Barley     33.94      67.71   237   237   237   238   \n",
       "3  AFG  Afghanistan   Maize     33.94      67.71   403   403   410   415   \n",
       "4  AFG  Afghanistan  Millet     33.94      67.71    17    18    19    20   \n",
       "\n",
       "   1965  ...  2004  2005  2006  2007  2008  2009  2010  2011  2012  2013  \n",
       "0  2001  ...  3249  3486  3704  4164  4252  4538  4605  4711  4810  4895  \n",
       "1   220  ...   419   445   546   455   490   415   442   476   425   422  \n",
       "2   238  ...   185    43    44    48    62    55    60    72    78    89  \n",
       "3   415  ...   231    67    82    67    69    71    82    73    77    76  \n",
       "4    21  ...    15    21    11    19    21    18    14    14    14    12  \n",
       "\n",
       "[5 rows x 58 columns]"
      ]
     },
     "execution_count": 6,
     "metadata": {},
     "output_type": "execute_result"
    }
   ],
   "source": [
    "geo=p.read_csv('foodorg.csv')\n",
    "geo.head()"
   ]
  },
  {
   "cell_type": "code",
   "execution_count": 4,
   "metadata": {},
   "outputs": [
    {
     "ename": "ValueError",
     "evalue": "All arguments should have the same length. The length of argument `locations` is 2, whereas the length of  previously-processed arguments ['Country'] is 16332",
     "output_type": "error",
     "traceback": [
      "\u001b[1;31m---------------------------------------------------------------------------\u001b[0m",
      "\u001b[1;31mValueError\u001b[0m                                Traceback (most recent call last)",
      "\u001b[1;32mc:\\Users\\asus\\Desktop\\WORLD-FOOD-SUPPLY-AND-WASTE-ANALYSIS--PROJECT-\\datasets\\geo.ipynb Cell 3'\u001b[0m in \u001b[0;36m<module>\u001b[1;34m\u001b[0m\n\u001b[1;32m----> <a href='vscode-notebook-cell:/c%3A/Users/asus/Desktop/WORLD-FOOD-SUPPLY-AND-WASTE-ANALYSIS--PROJECT-/datasets/geo.ipynb#ch0000002?line=0'>1</a>\u001b[0m px\u001b[39m.\u001b[39;49mchoropleth_mapbox(\n\u001b[0;32m      <a href='vscode-notebook-cell:/c%3A/Users/asus/Desktop/WORLD-FOOD-SUPPLY-AND-WASTE-ANALYSIS--PROJECT-/datasets/geo.ipynb#ch0000002?line=1'>2</a>\u001b[0m     geo,\n\u001b[0;32m      <a href='vscode-notebook-cell:/c%3A/Users/asus/Desktop/WORLD-FOOD-SUPPLY-AND-WASTE-ANALYSIS--PROJECT-/datasets/geo.ipynb#ch0000002?line=2'>3</a>\u001b[0m     locations\u001b[39m=\u001b[39;49m[geo\u001b[39m.\u001b[39;49mlatitude\u001b[39m.\u001b[39;49munique(),geo\u001b[39m.\u001b[39;49mlatitude\u001b[39m.\u001b[39;49munique()],\n\u001b[0;32m      <a href='vscode-notebook-cell:/c%3A/Users/asus/Desktop/WORLD-FOOD-SUPPLY-AND-WASTE-ANALYSIS--PROJECT-/datasets/geo.ipynb#ch0000002?line=3'>4</a>\u001b[0m     color\u001b[39m=\u001b[39;49m\u001b[39m'\u001b[39;49m\u001b[39mItem\u001b[39;49m\u001b[39m'\u001b[39;49m,\n\u001b[0;32m      <a href='vscode-notebook-cell:/c%3A/Users/asus/Desktop/WORLD-FOOD-SUPPLY-AND-WASTE-ANALYSIS--PROJECT-/datasets/geo.ipynb#ch0000002?line=4'>5</a>\u001b[0m     hover_name\u001b[39m=\u001b[39;49m\u001b[39m\"\u001b[39;49m\u001b[39mCountry\u001b[39;49m\u001b[39m\"\u001b[39;49m,\n\u001b[0;32m      <a href='vscode-notebook-cell:/c%3A/Users/asus/Desktop/WORLD-FOOD-SUPPLY-AND-WASTE-ANALYSIS--PROJECT-/datasets/geo.ipynb#ch0000002?line=5'>6</a>\u001b[0m     hover_data\u001b[39m=\u001b[39;49m\u001b[39m'\u001b[39;49m\u001b[39m2012\u001b[39;49m\u001b[39m'\u001b[39;49m,\n\u001b[0;32m      <a href='vscode-notebook-cell:/c%3A/Users/asus/Desktop/WORLD-FOOD-SUPPLY-AND-WASTE-ANALYSIS--PROJECT-/datasets/geo.ipynb#ch0000002?line=6'>7</a>\u001b[0m     mapbox_style\u001b[39m=\u001b[39;49m\u001b[39m\"\u001b[39;49m\u001b[39mcarto-positron\u001b[39;49m\u001b[39m\"\u001b[39;49m,\n\u001b[0;32m      <a href='vscode-notebook-cell:/c%3A/Users/asus/Desktop/WORLD-FOOD-SUPPLY-AND-WASTE-ANALYSIS--PROJECT-/datasets/geo.ipynb#ch0000002?line=7'>8</a>\u001b[0m     center\u001b[39m=\u001b[39;49m{\u001b[39m\"\u001b[39;49m\u001b[39mlat\u001b[39;49m\u001b[39m\"\u001b[39;49m: \u001b[39m24\u001b[39;49m, \u001b[39m\"\u001b[39;49m\u001b[39mlon\u001b[39;49m\u001b[39m\"\u001b[39;49m: \u001b[39m78\u001b[39;49m},\n\u001b[0;32m      <a href='vscode-notebook-cell:/c%3A/Users/asus/Desktop/WORLD-FOOD-SUPPLY-AND-WASTE-ANALYSIS--PROJECT-/datasets/geo.ipynb#ch0000002?line=8'>9</a>\u001b[0m     zoom\u001b[39m=\u001b[39;49m\u001b[39m3\u001b[39;49m,\n\u001b[0;32m     <a href='vscode-notebook-cell:/c%3A/Users/asus/Desktop/WORLD-FOOD-SUPPLY-AND-WASTE-ANALYSIS--PROJECT-/datasets/geo.ipynb#ch0000002?line=9'>10</a>\u001b[0m     opacity\u001b[39m=\u001b[39;49m\u001b[39m0.5\u001b[39;49m,\n\u001b[0;32m     <a href='vscode-notebook-cell:/c%3A/Users/asus/Desktop/WORLD-FOOD-SUPPLY-AND-WASTE-ANALYSIS--PROJECT-/datasets/geo.ipynb#ch0000002?line=10'>11</a>\u001b[0m     labels\u001b[39m=\u001b[39;49m{\u001b[39m\"\u001b[39;49m\u001b[39mpage\u001b[39;49m\u001b[39m\"\u001b[39;49m: \u001b[39m\"\u001b[39;49m\u001b[39mVisites\u001b[39;49m\u001b[39m\"\u001b[39;49m, \u001b[39m\"\u001b[39;49m\u001b[39mid\u001b[39;49m\u001b[39m\"\u001b[39;49m: \u001b[39m\"\u001b[39;49m\u001b[39mState ID\u001b[39;49m\u001b[39m\"\u001b[39;49m,},\n\u001b[0;32m     <a href='vscode-notebook-cell:/c%3A/Users/asus/Desktop/WORLD-FOOD-SUPPLY-AND-WASTE-ANALYSIS--PROJECT-/datasets/geo.ipynb#ch0000002?line=11'>12</a>\u001b[0m )\n",
      "File \u001b[1;32mc:\\Users\\asus\\AppData\\Local\\Programs\\Python\\Python39\\lib\\site-packages\\plotly\\express\\_chart_types.py:1281\u001b[0m, in \u001b[0;36mchoropleth_mapbox\u001b[1;34m(data_frame, geojson, featureidkey, locations, color, hover_name, hover_data, custom_data, animation_frame, animation_group, category_orders, labels, color_discrete_sequence, color_discrete_map, color_continuous_scale, range_color, color_continuous_midpoint, opacity, zoom, center, mapbox_style, title, template, width, height)\u001b[0m\n\u001b[0;32m   <a href='file:///c%3A/Users/asus/AppData/Local/Programs/Python/Python39/lib/site-packages/plotly/express/_chart_types.py?line=1249'>1250</a>\u001b[0m \u001b[39mdef\u001b[39;00m \u001b[39mchoropleth_mapbox\u001b[39m(\n\u001b[0;32m   <a href='file:///c%3A/Users/asus/AppData/Local/Programs/Python/Python39/lib/site-packages/plotly/express/_chart_types.py?line=1250'>1251</a>\u001b[0m     data_frame\u001b[39m=\u001b[39m\u001b[39mNone\u001b[39;00m,\n\u001b[0;32m   <a href='file:///c%3A/Users/asus/AppData/Local/Programs/Python/Python39/lib/site-packages/plotly/express/_chart_types.py?line=1251'>1252</a>\u001b[0m     geojson\u001b[39m=\u001b[39m\u001b[39mNone\u001b[39;00m,\n\u001b[1;32m   (...)\u001b[0m\n\u001b[0;32m   <a href='file:///c%3A/Users/asus/AppData/Local/Programs/Python/Python39/lib/site-packages/plotly/express/_chart_types.py?line=1274'>1275</a>\u001b[0m     height\u001b[39m=\u001b[39m\u001b[39mNone\u001b[39;00m,\n\u001b[0;32m   <a href='file:///c%3A/Users/asus/AppData/Local/Programs/Python/Python39/lib/site-packages/plotly/express/_chart_types.py?line=1275'>1276</a>\u001b[0m ) \u001b[39m-\u001b[39m\u001b[39m>\u001b[39m go\u001b[39m.\u001b[39mFigure:\n\u001b[0;32m   <a href='file:///c%3A/Users/asus/AppData/Local/Programs/Python/Python39/lib/site-packages/plotly/express/_chart_types.py?line=1276'>1277</a>\u001b[0m     \u001b[39m\"\"\"\u001b[39;00m\n\u001b[0;32m   <a href='file:///c%3A/Users/asus/AppData/Local/Programs/Python/Python39/lib/site-packages/plotly/express/_chart_types.py?line=1277'>1278</a>\u001b[0m \u001b[39m    In a Mapbox choropleth map, each row of `data_frame` is represented by a\u001b[39;00m\n\u001b[0;32m   <a href='file:///c%3A/Users/asus/AppData/Local/Programs/Python/Python39/lib/site-packages/plotly/express/_chart_types.py?line=1278'>1279</a>\u001b[0m \u001b[39m    colored region on a Mapbox map.\u001b[39;00m\n\u001b[0;32m   <a href='file:///c%3A/Users/asus/AppData/Local/Programs/Python/Python39/lib/site-packages/plotly/express/_chart_types.py?line=1279'>1280</a>\u001b[0m \u001b[39m    \"\"\"\u001b[39;00m\n\u001b[1;32m-> <a href='file:///c%3A/Users/asus/AppData/Local/Programs/Python/Python39/lib/site-packages/plotly/express/_chart_types.py?line=1280'>1281</a>\u001b[0m     \u001b[39mreturn\u001b[39;00m make_figure(args\u001b[39m=\u001b[39;49m\u001b[39mlocals\u001b[39;49m(), constructor\u001b[39m=\u001b[39;49mgo\u001b[39m.\u001b[39;49mChoroplethmapbox)\n",
      "File \u001b[1;32mc:\\Users\\asus\\AppData\\Local\\Programs\\Python\\Python39\\lib\\site-packages\\plotly\\express\\_core.py:1948\u001b[0m, in \u001b[0;36mmake_figure\u001b[1;34m(args, constructor, trace_patch, layout_patch)\u001b[0m\n\u001b[0;32m   <a href='file:///c%3A/Users/asus/AppData/Local/Programs/Python/Python39/lib/site-packages/plotly/express/_core.py?line=1944'>1945</a>\u001b[0m layout_patch \u001b[39m=\u001b[39m layout_patch \u001b[39mor\u001b[39;00m {}\n\u001b[0;32m   <a href='file:///c%3A/Users/asus/AppData/Local/Programs/Python/Python39/lib/site-packages/plotly/express/_core.py?line=1945'>1946</a>\u001b[0m apply_default_cascade(args)\n\u001b[1;32m-> <a href='file:///c%3A/Users/asus/AppData/Local/Programs/Python/Python39/lib/site-packages/plotly/express/_core.py?line=1947'>1948</a>\u001b[0m args \u001b[39m=\u001b[39m build_dataframe(args, constructor)\n\u001b[0;32m   <a href='file:///c%3A/Users/asus/AppData/Local/Programs/Python/Python39/lib/site-packages/plotly/express/_core.py?line=1948'>1949</a>\u001b[0m \u001b[39mif\u001b[39;00m constructor \u001b[39min\u001b[39;00m [go\u001b[39m.\u001b[39mTreemap, go\u001b[39m.\u001b[39mSunburst, go\u001b[39m.\u001b[39mIcicle] \u001b[39mand\u001b[39;00m args[\u001b[39m\"\u001b[39m\u001b[39mpath\u001b[39m\u001b[39m\"\u001b[39m] \u001b[39mis\u001b[39;00m \u001b[39mnot\u001b[39;00m \u001b[39mNone\u001b[39;00m:\n\u001b[0;32m   <a href='file:///c%3A/Users/asus/AppData/Local/Programs/Python/Python39/lib/site-packages/plotly/express/_core.py?line=1949'>1950</a>\u001b[0m     args \u001b[39m=\u001b[39m process_dataframe_hierarchy(args)\n",
      "File \u001b[1;32mc:\\Users\\asus\\AppData\\Local\\Programs\\Python\\Python39\\lib\\site-packages\\plotly\\express\\_core.py:1405\u001b[0m, in \u001b[0;36mbuild_dataframe\u001b[1;34m(args, constructor)\u001b[0m\n\u001b[0;32m   <a href='file:///c%3A/Users/asus/AppData/Local/Programs/Python/Python39/lib/site-packages/plotly/express/_core.py?line=1401'>1402</a>\u001b[0m     args[\u001b[39m\"\u001b[39m\u001b[39mcolor\u001b[39m\u001b[39m\"\u001b[39m] \u001b[39m=\u001b[39m \u001b[39mNone\u001b[39;00m\n\u001b[0;32m   <a href='file:///c%3A/Users/asus/AppData/Local/Programs/Python/Python39/lib/site-packages/plotly/express/_core.py?line=1402'>1403</a>\u001b[0m \u001b[39m# now that things have been prepped, we do the systematic rewriting of `args`\u001b[39;00m\n\u001b[1;32m-> <a href='file:///c%3A/Users/asus/AppData/Local/Programs/Python/Python39/lib/site-packages/plotly/express/_core.py?line=1404'>1405</a>\u001b[0m df_output, wide_id_vars \u001b[39m=\u001b[39m process_args_into_dataframe(\n\u001b[0;32m   <a href='file:///c%3A/Users/asus/AppData/Local/Programs/Python/Python39/lib/site-packages/plotly/express/_core.py?line=1405'>1406</a>\u001b[0m     args, wide_mode, var_name, value_name\n\u001b[0;32m   <a href='file:///c%3A/Users/asus/AppData/Local/Programs/Python/Python39/lib/site-packages/plotly/express/_core.py?line=1406'>1407</a>\u001b[0m )\n\u001b[0;32m   <a href='file:///c%3A/Users/asus/AppData/Local/Programs/Python/Python39/lib/site-packages/plotly/express/_core.py?line=1408'>1409</a>\u001b[0m \u001b[39m# now that `df_output` exists and `args` contains only references, we complete\u001b[39;00m\n\u001b[0;32m   <a href='file:///c%3A/Users/asus/AppData/Local/Programs/Python/Python39/lib/site-packages/plotly/express/_core.py?line=1409'>1410</a>\u001b[0m \u001b[39m# the special-case and wide-mode handling by further rewriting args and/or mutating\u001b[39;00m\n\u001b[0;32m   <a href='file:///c%3A/Users/asus/AppData/Local/Programs/Python/Python39/lib/site-packages/plotly/express/_core.py?line=1410'>1411</a>\u001b[0m \u001b[39m# df_output\u001b[39;00m\n\u001b[0;32m   <a href='file:///c%3A/Users/asus/AppData/Local/Programs/Python/Python39/lib/site-packages/plotly/express/_core.py?line=1412'>1413</a>\u001b[0m count_name \u001b[39m=\u001b[39m _escape_col_name(df_output, \u001b[39m\"\u001b[39m\u001b[39mcount\u001b[39m\u001b[39m\"\u001b[39m, [var_name, value_name])\n",
      "File \u001b[1;32mc:\\Users\\asus\\AppData\\Local\\Programs\\Python\\Python39\\lib\\site-packages\\plotly\\express\\_core.py:1245\u001b[0m, in \u001b[0;36mprocess_args_into_dataframe\u001b[1;34m(args, wide_mode, var_name, value_name)\u001b[0m\n\u001b[0;32m   <a href='file:///c%3A/Users/asus/AppData/Local/Programs/Python/Python39/lib/site-packages/plotly/express/_core.py?line=1241'>1242</a>\u001b[0m         col_name \u001b[39m=\u001b[39m _check_name_not_reserved(field, reserved_names)\n\u001b[0;32m   <a href='file:///c%3A/Users/asus/AppData/Local/Programs/Python/Python39/lib/site-packages/plotly/express/_core.py?line=1243'>1244</a>\u001b[0m     \u001b[39mif\u001b[39;00m length \u001b[39mand\u001b[39;00m \u001b[39mlen\u001b[39m(argument) \u001b[39m!=\u001b[39m length:\n\u001b[1;32m-> <a href='file:///c%3A/Users/asus/AppData/Local/Programs/Python/Python39/lib/site-packages/plotly/express/_core.py?line=1244'>1245</a>\u001b[0m         \u001b[39mraise\u001b[39;00m \u001b[39mValueError\u001b[39;00m(\n\u001b[0;32m   <a href='file:///c%3A/Users/asus/AppData/Local/Programs/Python/Python39/lib/site-packages/plotly/express/_core.py?line=1245'>1246</a>\u001b[0m             \u001b[39m\"\u001b[39m\u001b[39mAll arguments should have the same length. \u001b[39m\u001b[39m\"\u001b[39m\n\u001b[0;32m   <a href='file:///c%3A/Users/asus/AppData/Local/Programs/Python/Python39/lib/site-packages/plotly/express/_core.py?line=1246'>1247</a>\u001b[0m             \u001b[39m\"\u001b[39m\u001b[39mThe length of argument `\u001b[39m\u001b[39m%s\u001b[39;00m\u001b[39m` is \u001b[39m\u001b[39m%d\u001b[39;00m\u001b[39m, whereas the \u001b[39m\u001b[39m\"\u001b[39m\n\u001b[0;32m   <a href='file:///c%3A/Users/asus/AppData/Local/Programs/Python/Python39/lib/site-packages/plotly/express/_core.py?line=1247'>1248</a>\u001b[0m             \u001b[39m\"\u001b[39m\u001b[39mlength of  previously-processed arguments \u001b[39m\u001b[39m%s\u001b[39;00m\u001b[39m is \u001b[39m\u001b[39m%d\u001b[39;00m\u001b[39m\"\u001b[39m\n\u001b[0;32m   <a href='file:///c%3A/Users/asus/AppData/Local/Programs/Python/Python39/lib/site-packages/plotly/express/_core.py?line=1248'>1249</a>\u001b[0m             \u001b[39m%\u001b[39m (field, \u001b[39mlen\u001b[39m(argument), \u001b[39mstr\u001b[39m(\u001b[39mlist\u001b[39m(df_output\u001b[39m.\u001b[39mcolumns)), length)\n\u001b[0;32m   <a href='file:///c%3A/Users/asus/AppData/Local/Programs/Python/Python39/lib/site-packages/plotly/express/_core.py?line=1249'>1250</a>\u001b[0m         )\n\u001b[0;32m   <a href='file:///c%3A/Users/asus/AppData/Local/Programs/Python/Python39/lib/site-packages/plotly/express/_core.py?line=1250'>1251</a>\u001b[0m     df_output[\u001b[39mstr\u001b[39m(col_name)] \u001b[39m=\u001b[39m to_unindexed_series(argument)\n\u001b[0;32m   <a href='file:///c%3A/Users/asus/AppData/Local/Programs/Python/Python39/lib/site-packages/plotly/express/_core.py?line=1252'>1253</a>\u001b[0m \u001b[39m# Finally, update argument with column name now that column exists\u001b[39;00m\n",
      "\u001b[1;31mValueError\u001b[0m: All arguments should have the same length. The length of argument `locations` is 2, whereas the length of  previously-processed arguments ['Country'] is 16332"
     ]
    }
   ],
   "source": [
    "px.choropleth_mapbox(\n",
    "    geo,\n",
    "    locations=[geo.latitude.unique(),geo.latitude.unique()],\n",
    "    color='Item',\n",
    "    hover_name=\"Country\",\n",
    "    hover_data='2012',\n",
    "    mapbox_style=\"carto-positron\",\n",
    "    center={\"lat\": 24, \"lon\": 78},\n",
    "    zoom=3,\n",
    "    opacity=0.5,\n",
    "    labels={\"page\": \"Visites\", \"id\": \"State ID\",},\n",
    ")"
   ]
  },
  {
   "cell_type": "code",
   "execution_count": 22,
   "metadata": {},
   "outputs": [
    {
     "data": {
      "application/vnd.plotly.v1+json": {
       "config": {
        "plotlyServerURL": "https://plot.ly",
        "scrollZoom": false
       },
       "data": [
        {
         "customdata": [
          [
           4895,
           "Wheat"
          ],
          [
           440,
           "Wheat"
          ],
          [
           7270,
           "Wheat"
          ],
          [
           874,
           "Wheat"
          ],
          [
           6,
           "Wheat"
          ],
          [
           4273,
           "Wheat"
          ],
          [
           1645,
           "Wheat"
          ],
          [
           689,
           "Wheat"
          ],
          [
           15,
           "Wheat"
          ],
          [
           2736,
           "Wheat"
          ],
          [
           19,
           "Wheat"
          ],
          [
           18,
           "Wheat"
          ],
          [
           135,
           "Wheat"
          ],
          [
           4,
           "Wheat"
          ],
          [
           533,
           "Wheat"
          ],
          [
           77,
           "Wheat"
          ],
          [
           10620,
           "Wheat"
          ],
          [
           18,
           "Wheat"
          ],
          [
           875,
           "Wheat"
          ],
          [
           188,
           "Wheat"
          ],
          [
           19,
           "Wheat"
          ],
          [
           42,
           "Wheat"
          ],
          [
           503,
           "Wheat"
          ],
          [
           2989,
           "Wheat"
          ],
          [
           26,
           "Wheat"
          ],
          [
           119,
           "Wheat"
          ],
          [
           1845,
           "Wheat"
          ],
          [
           383,
           "Wheat"
          ],
          [
           32,
           "Wheat"
          ],
          [
           87783,
           "Wheat"
          ],
          [
           1188,
           "Wheat"
          ],
          [
           1439,
           "Wheat"
          ],
          [
           178,
           "Wheat"
          ],
          [
           192,
           "Wheat"
          ],
          [
           421,
           "Wheat"
          ],
          [
           615,
           "Wheat"
          ],
          [
           95,
           "Wheat"
          ],
          [
           532,
           "Wheat"
          ],
          [
           551,
           "Wheat"
          ],
          [
           104,
           "Wheat"
          ],
          [
           5,
           "Wheat"
          ],
          [
           315,
           "Wheat"
          ],
          [
           617,
           "Wheat"
          ],
          [
           12048,
           "Wheat"
          ],
          [
           179,
           "Wheat"
          ],
          [
           74,
           "Wheat"
          ],
          [
           445,
           "Wheat"
          ],
          [
           6971,
           "Wheat"
          ],
          [
           19,
           "Wheat"
          ],
          [
           105,
           "Wheat"
          ],
          [
           70,
           "Wheat"
          ],
          [
           6900,
           "Wheat"
          ],
          [
           374,
           "Wheat"
          ],
          [
           1380,
           "Wheat"
          ],
          [
           6,
           "Wheat"
          ],
          [
           555,
           "Wheat"
          ],
          [
           218,
           "Wheat"
          ],
          [
           19,
           "Wheat"
          ],
          [
           48,
           "Wheat"
          ],
          [
           166,
           "Wheat"
          ],
          [
           302,
           "Wheat"
          ],
          [
           1095,
           "Wheat"
          ],
          [
           24,
           "Wheat"
          ],
          [
           75833,
           "Wheat"
          ],
          [
           6360,
           "Wheat"
          ],
          [
           11873,
           "Wheat"
          ],
          [
           4608,
           "Wheat"
          ],
          [
           500,
           "Wheat"
          ],
          [
           857,
           "Wheat"
          ],
          [
           8927,
           "Wheat"
          ],
          [
           197,
           "Wheat"
          ],
          [
           5727,
           "Wheat"
          ],
          [
           995,
           "Wheat"
          ],
          [
           1537,
           "Wheat"
          ],
          [
           5,
           "Wheat"
          ],
          [
           326,
           "Wheat"
          ],
          [
           13,
           "Wheat"
          ],
          [
           577,
           "Wheat"
          ],
          [
           109,
           "Wheat"
          ],
          [
           47,
           "Wheat"
          ],
          [
           206,
           "Wheat"
          ],
          [
           193,
           "Wheat"
          ],
          [
           1517,
           "Wheat"
          ],
          [
           27,
           "Wheat"
          ],
          [
           191,
           "Wheat"
          ],
          [
           60,
           "Wheat"
          ],
          [
           392,
           "Wheat"
          ],
          [
           142,
           "Wheat"
          ],
          [
           4308,
           "Wheat"
          ],
          [
           354,
           "Wheat"
          ],
          [
           5932,
           "Wheat"
          ],
          [
           378,
           "Wheat"
          ],
          [
           331,
           "Wheat"
          ],
          [
           84,
           "Wheat"
          ],
          [
           1403,
           "Wheat"
          ],
          [
           1176,
           "Wheat"
          ],
          [
           21,
           "Wheat"
          ],
          [
           347,
           "Wheat"
          ],
          [
           171,
           "Wheat"
          ],
          [
           85,
           "Wheat"
          ],
          [
           3615,
           "Wheat"
          ],
          [
           490,
           "Wheat"
          ],
          [
           20696,
           "Wheat"
          ],
          [
           151,
           "Wheat"
          ],
          [
           214,
           "Wheat"
          ],
          [
           1705,
           "Wheat"
          ],
          [
           2275,
           "Wheat"
          ],
          [
           4159,
           "Wheat"
          ],
          [
           1000,
           "Wheat"
          ],
          [
           2505,
           "Wheat"
          ],
          [
           2926,
           "Wheat"
          ],
          [
           134,
           "Wheat"
          ],
          [
           3,
           "Wheat"
          ],
          [
           17,
           "Wheat"
          ],
          [
           8,
           "Wheat"
          ],
          [
           12,
           "Wheat"
          ],
          [
           11,
           "Wheat"
          ],
          [
           2579,
           "Wheat"
          ],
          [
           527,
           "Wheat"
          ],
          [
           53,
           "Wheat"
          ],
          [
           14,
           "Wheat"
          ],
          [
           3174,
           "Wheat"
          ],
          [
           4405,
           "Wheat"
          ],
          [
           787,
           "Wheat"
          ],
          [
           28,
           "Wheat"
          ],
          [
           46,
           "Wheat"
          ],
          [
           762,
           "Wheat"
          ],
          [
           723,
           "Wheat"
          ],
          [
           733,
           "Wheat"
          ],
          [
           16,
           "Wheat"
          ],
          [
           88,
           "Wheat"
          ],
          [
           121,
           "Wheat"
          ],
          [
           2172,
           "Wheat"
          ],
          [
           12736,
           "Wheat"
          ],
          [
           381,
           "Wheat"
          ],
          [
           947,
           "Wheat"
          ],
          [
           6251,
           "Wheat"
          ],
          [
           785,
           "Wheat"
          ],
          [
           25742,
           "Wheat"
          ],
          [
           372,
           "Wheat"
          ],
          [
           13,
           "Wheat"
          ],
          [
           1495,
           "Wheat"
          ],
          [
           962,
           "Wheat"
          ],
          [
           2691,
           "Wheat"
          ],
          [
           176,
           "Wheat"
          ],
          [
           443,
           "Wheat"
          ]
         ],
         "hovertemplate": "<b>%{hovertext}</b><br><br>latitude=%{lat}<br>longitude=%{lon}<br>2013=%{marker.color}<br>Item=%{customdata[1]}<extra></extra>",
         "hovertext": [
          "Afghanistan",
          "Albania",
          "Algeria",
          "Angola",
          "Antigua and Barbuda",
          "Argentina",
          "Australia",
          "Austria",
          "Bahamas",
          "Bangladesh",
          "Barbados",
          "Belize",
          "Benin",
          "Bermuda",
          "Bolivia",
          "Botswana",
          "Brazil",
          "Brunei Darussalam",
          "Bulgaria",
          "Burkina Faso",
          "Cabo Verde",
          "Cambodia",
          "Cameroon",
          "Canada",
          "Central Africa",
          "Chad",
          "Chile",
          "Hong Kong",
          "Macao",
          "China mainland",
          "Taiwan",
          "Colombia",
          "Congo",
          "Costa Rica",
          "Côte d'Ivoire",
          "Cuba",
          "Cyprus",
          "Korea",
          "Denmark",
          "Djibouti",
          "Dominica",
          "Dominican Republic",
          "Ecuador",
          "Egypt",
          "El Salvador",
          "Fiji",
          "Finland",
          "France",
          "French Polynesia",
          "Gabon",
          "Gambia",
          "Germany",
          "Ghana",
          "Greece",
          "Grenada",
          "Guatemala",
          "Guinea",
          "Guinea-Bissau",
          "Guyana",
          "Haiti",
          "Honduras",
          "Hungary",
          "Iceland",
          "India",
          "Indonesia",
          "Iran",
          "Iraq",
          "Ireland",
          "Israel",
          "Italy",
          "Jamaica",
          "Japan",
          "Jordan",
          "Kenya",
          "Kiribati",
          "Kuwait",
          "Lao",
          "Lebanon",
          "Lesotho",
          "Liberia",
          "Madagascar",
          "Malawi",
          "Malaysia",
          "Maldives",
          "Mali",
          "Malta",
          "Mauritania",
          "Mauritius",
          "Mexico",
          "Mongolia",
          "Morocco",
          "Mozambique",
          "Myanmar",
          "Namibia",
          "Nepal",
          "Netherlands",
          "New Caledonia",
          "New Zealand",
          "Nicaragua",
          "Niger",
          "Nigeria",
          "Norway",
          "Pakistan",
          "Panama",
          "Paraguay",
          "Peru",
          "Philippines",
          "Poland",
          "Portugal",
          "Korea",
          "Romania",
          "Rwanda",
          "SaintKitts&Nevis",
          "Saint Lucia",
          "Saint Vincent",
          "Samoa",
          "SaoTome&Principe",
          "Saudi Arabia",
          "Senegal",
          "Sierra Leone",
          "Solomon Islands",
          "South Africa",
          "Spain",
          "Sri Lanka",
          "Suriname",
          "Swaziland",
          "Sweden",
          "Switzerland",
          "Thailand",
          "Timor-Leste",
          "Togo",
          "Trinidad&Tobago",
          "Tunisia",
          "Turkey",
          "Uganda",
          "UAE",
          "United Kingdom",
          "Tanzania",
          "America",
          "Uruguay",
          "Vanuatu",
          "Venezuela",
          "Vietnam",
          "Yemen",
          "Zambia",
          "Zimbabwe"
         ],
         "lat": [
          33.94,
          41.15,
          28.03,
          -11.2,
          17.06,
          -38.42,
          -25.27,
          47.52,
          25.03,
          23.68,
          13.19,
          17.19,
          9.31,
          32.32,
          -16.29,
          -22.33,
          -14.24,
          4.54,
          42.73,
          12.24,
          16,
          12.57,
          7.37,
          56.13,
          6.61,
          15.45,
          -35.68,
          22.4,
          22.2,
          35.86,
          23.7,
          4.57,
          -0.23,
          9.75,
          7.54,
          21.52,
          35.13,
          40.34,
          56.26,
          11.83,
          15.41,
          18.74,
          -1.83,
          26.82,
          13.79,
          -16.58,
          61.92,
          46.23,
          -17.68,
          -0.8,
          13.44,
          51.17,
          7.95,
          39.07,
          12.26,
          15.78,
          9.95,
          11.8,
          4.86,
          18.97,
          15.2,
          47.16,
          64.96,
          20.59,
          -0.79,
          32.43,
          33.22,
          53.41,
          31.05,
          41.87,
          18.11,
          36.2,
          30.59,
          -0.02,
          -3.37,
          29.31,
          19.86,
          33.85,
          -29.61,
          6.43,
          -18.77,
          -13.25,
          4.21,
          3.2,
          17.57,
          35.94,
          21.01,
          -20.35,
          23.63,
          46.86,
          31.79,
          -18.67,
          21.91,
          -22.96,
          28.39,
          52.13,
          -20.9,
          -40.9,
          12.87,
          17.61,
          9.08,
          60.47,
          30.38,
          8.54,
          -23.44,
          -9.19,
          12.88,
          51.92,
          39.4,
          35.91,
          45.94,
          -1.94,
          17.36,
          13.91,
          12.98,
          -13.76,
          0.19,
          23.89,
          14.5,
          8.46,
          -9.65,
          -30.56,
          40.46,
          7.87,
          3.92,
          -26.52,
          60.13,
          46.82,
          15.87,
          -8.87,
          8.62,
          10.69,
          33.89,
          38.96,
          1.37,
          23.42,
          55.38,
          -6.37,
          37.09,
          -32.52,
          -15.38,
          6.42,
          14.06,
          15.55,
          -13.13,
          -19.02
         ],
         "legendgroup": "",
         "lon": [
          67.71,
          20.17,
          1.66,
          17.87,
          -61.8,
          -63.62,
          133.78,
          14.55,
          -77.4,
          90.36,
          -59.54,
          -88.5,
          2.32,
          -64.76,
          -63.59,
          24.68,
          -51.93,
          114.73,
          25.49,
          -1.56,
          -24.01,
          104.99,
          12.35,
          -106.35,
          20.94,
          18.73,
          -71.54,
          114.11,
          113.54,
          104.2,
          120.96,
          -74.3,
          15.83,
          -83.75,
          -5.55,
          -77.78,
          33.43,
          127.51,
          9.5,
          42.59,
          -61.37,
          -70.16,
          -78.18,
          30.8,
          -88.9,
          179.41,
          25.75,
          2.21,
          -149.41,
          11.61,
          -15.31,
          10.45,
          -1.02,
          21.82,
          -61.6,
          -90.23,
          -9.7,
          -15.18,
          -58.93,
          -72.29,
          -86.24,
          19.5,
          -19.02,
          78.96,
          113.92,
          53.69,
          43.68,
          -8.24,
          34.85,
          12.57,
          -77.3,
          138.25,
          36.24,
          37.91,
          -168.73,
          47.48,
          102.5,
          35.86,
          28.23,
          -9.43,
          46.87,
          34.3,
          101.98,
          73.22,
          -4,
          14.38,
          -10.94,
          57.55,
          -102.55,
          103.85,
          -7.09,
          35.53,
          95.96,
          18.49,
          84.12,
          5.29,
          165.62,
          174.89,
          -85.21,
          8.08,
          8.68,
          8.47,
          69.35,
          -80.78,
          -58.44,
          -75.02,
          121.77,
          19.15,
          -8.22,
          127.77,
          24.97,
          29.87,
          -62.78,
          -60.98,
          -61.29,
          -172.1,
          6.61,
          45.08,
          -14.45,
          -11.78,
          160.16,
          22.94,
          -3.75,
          80.77,
          -56.03,
          31.47,
          18.64,
          8.23,
          100.99,
          125.73,
          0.82,
          -61.22,
          9.54,
          35.24,
          32.29,
          53.85,
          -3.44,
          34.89,
          -95.71,
          -55.77,
          166.96,
          -66.59,
          108.28,
          48.52,
          27.85,
          29.15
         ],
         "marker": {
          "color": [
           4895,
           440,
           7270,
           874,
           6,
           4273,
           1645,
           689,
           15,
           2736,
           19,
           18,
           135,
           4,
           533,
           77,
           10620,
           18,
           875,
           188,
           19,
           42,
           503,
           2989,
           26,
           119,
           1845,
           383,
           32,
           87783,
           1188,
           1439,
           178,
           192,
           421,
           615,
           95,
           532,
           551,
           104,
           5,
           315,
           617,
           12048,
           179,
           74,
           445,
           6971,
           19,
           105,
           70,
           6900,
           374,
           1380,
           6,
           555,
           218,
           19,
           48,
           166,
           302,
           1095,
           24,
           75833,
           6360,
           11873,
           4608,
           500,
           857,
           8927,
           197,
           5727,
           995,
           1537,
           5,
           326,
           13,
           577,
           109,
           47,
           206,
           193,
           1517,
           27,
           191,
           60,
           392,
           142,
           4308,
           354,
           5932,
           378,
           331,
           84,
           1403,
           1176,
           21,
           347,
           171,
           85,
           3615,
           490,
           20696,
           151,
           214,
           1705,
           2275,
           4159,
           1000,
           2505,
           2926,
           134,
           3,
           17,
           8,
           12,
           11,
           2579,
           527,
           53,
           14,
           3174,
           4405,
           787,
           28,
           46,
           762,
           723,
           733,
           16,
           88,
           121,
           2172,
           12736,
           381,
           947,
           6251,
           785,
           25742,
           372,
           13,
           1495,
           962,
           2691,
           176,
           443
          ],
          "coloraxis": "coloraxis"
         },
         "mode": "markers",
         "name": "",
         "showlegend": false,
         "subplot": "mapbox",
         "type": "scattermapbox"
        }
       ],
       "layout": {
        "coloraxis": {
         "colorbar": {
          "title": {
           "text": "2013"
          }
         },
         "colorscale": [
          [
           0,
           "#0d0887"
          ],
          [
           0.1111111111111111,
           "#46039f"
          ],
          [
           0.2222222222222222,
           "#7201a8"
          ],
          [
           0.3333333333333333,
           "#9c179e"
          ],
          [
           0.4444444444444444,
           "#bd3786"
          ],
          [
           0.5555555555555556,
           "#d8576b"
          ],
          [
           0.6666666666666666,
           "#ed7953"
          ],
          [
           0.7777777777777778,
           "#fb9f3a"
          ],
          [
           0.8888888888888888,
           "#fdca26"
          ],
          [
           1,
           "#f0f921"
          ]
         ]
        },
        "height": 600,
        "legend": {
         "tracegroupgap": 0
        },
        "mapbox": {
         "center": {
          "lat": 14.784383561643835,
          "lon": 11.784246575342467
         },
         "domain": {
          "x": [
           0,
           1
          ],
          "y": [
           0,
           1
          ]
         },
         "style": "open-street-map",
         "zoom": 1
        },
        "template": {
         "data": {
          "bar": [
           {
            "error_x": {
             "color": "#2a3f5f"
            },
            "error_y": {
             "color": "#2a3f5f"
            },
            "marker": {
             "line": {
              "color": "#E5ECF6",
              "width": 0.5
             },
             "pattern": {
              "fillmode": "overlay",
              "size": 10,
              "solidity": 0.2
             }
            },
            "type": "bar"
           }
          ],
          "barpolar": [
           {
            "marker": {
             "line": {
              "color": "#E5ECF6",
              "width": 0.5
             },
             "pattern": {
              "fillmode": "overlay",
              "size": 10,
              "solidity": 0.2
             }
            },
            "type": "barpolar"
           }
          ],
          "carpet": [
           {
            "aaxis": {
             "endlinecolor": "#2a3f5f",
             "gridcolor": "white",
             "linecolor": "white",
             "minorgridcolor": "white",
             "startlinecolor": "#2a3f5f"
            },
            "baxis": {
             "endlinecolor": "#2a3f5f",
             "gridcolor": "white",
             "linecolor": "white",
             "minorgridcolor": "white",
             "startlinecolor": "#2a3f5f"
            },
            "type": "carpet"
           }
          ],
          "choropleth": [
           {
            "colorbar": {
             "outlinewidth": 0,
             "ticks": ""
            },
            "type": "choropleth"
           }
          ],
          "contour": [
           {
            "colorbar": {
             "outlinewidth": 0,
             "ticks": ""
            },
            "colorscale": [
             [
              0,
              "#0d0887"
             ],
             [
              0.1111111111111111,
              "#46039f"
             ],
             [
              0.2222222222222222,
              "#7201a8"
             ],
             [
              0.3333333333333333,
              "#9c179e"
             ],
             [
              0.4444444444444444,
              "#bd3786"
             ],
             [
              0.5555555555555556,
              "#d8576b"
             ],
             [
              0.6666666666666666,
              "#ed7953"
             ],
             [
              0.7777777777777778,
              "#fb9f3a"
             ],
             [
              0.8888888888888888,
              "#fdca26"
             ],
             [
              1,
              "#f0f921"
             ]
            ],
            "type": "contour"
           }
          ],
          "contourcarpet": [
           {
            "colorbar": {
             "outlinewidth": 0,
             "ticks": ""
            },
            "type": "contourcarpet"
           }
          ],
          "heatmap": [
           {
            "colorbar": {
             "outlinewidth": 0,
             "ticks": ""
            },
            "colorscale": [
             [
              0,
              "#0d0887"
             ],
             [
              0.1111111111111111,
              "#46039f"
             ],
             [
              0.2222222222222222,
              "#7201a8"
             ],
             [
              0.3333333333333333,
              "#9c179e"
             ],
             [
              0.4444444444444444,
              "#bd3786"
             ],
             [
              0.5555555555555556,
              "#d8576b"
             ],
             [
              0.6666666666666666,
              "#ed7953"
             ],
             [
              0.7777777777777778,
              "#fb9f3a"
             ],
             [
              0.8888888888888888,
              "#fdca26"
             ],
             [
              1,
              "#f0f921"
             ]
            ],
            "type": "heatmap"
           }
          ],
          "heatmapgl": [
           {
            "colorbar": {
             "outlinewidth": 0,
             "ticks": ""
            },
            "colorscale": [
             [
              0,
              "#0d0887"
             ],
             [
              0.1111111111111111,
              "#46039f"
             ],
             [
              0.2222222222222222,
              "#7201a8"
             ],
             [
              0.3333333333333333,
              "#9c179e"
             ],
             [
              0.4444444444444444,
              "#bd3786"
             ],
             [
              0.5555555555555556,
              "#d8576b"
             ],
             [
              0.6666666666666666,
              "#ed7953"
             ],
             [
              0.7777777777777778,
              "#fb9f3a"
             ],
             [
              0.8888888888888888,
              "#fdca26"
             ],
             [
              1,
              "#f0f921"
             ]
            ],
            "type": "heatmapgl"
           }
          ],
          "histogram": [
           {
            "marker": {
             "pattern": {
              "fillmode": "overlay",
              "size": 10,
              "solidity": 0.2
             }
            },
            "type": "histogram"
           }
          ],
          "histogram2d": [
           {
            "colorbar": {
             "outlinewidth": 0,
             "ticks": ""
            },
            "colorscale": [
             [
              0,
              "#0d0887"
             ],
             [
              0.1111111111111111,
              "#46039f"
             ],
             [
              0.2222222222222222,
              "#7201a8"
             ],
             [
              0.3333333333333333,
              "#9c179e"
             ],
             [
              0.4444444444444444,
              "#bd3786"
             ],
             [
              0.5555555555555556,
              "#d8576b"
             ],
             [
              0.6666666666666666,
              "#ed7953"
             ],
             [
              0.7777777777777778,
              "#fb9f3a"
             ],
             [
              0.8888888888888888,
              "#fdca26"
             ],
             [
              1,
              "#f0f921"
             ]
            ],
            "type": "histogram2d"
           }
          ],
          "histogram2dcontour": [
           {
            "colorbar": {
             "outlinewidth": 0,
             "ticks": ""
            },
            "colorscale": [
             [
              0,
              "#0d0887"
             ],
             [
              0.1111111111111111,
              "#46039f"
             ],
             [
              0.2222222222222222,
              "#7201a8"
             ],
             [
              0.3333333333333333,
              "#9c179e"
             ],
             [
              0.4444444444444444,
              "#bd3786"
             ],
             [
              0.5555555555555556,
              "#d8576b"
             ],
             [
              0.6666666666666666,
              "#ed7953"
             ],
             [
              0.7777777777777778,
              "#fb9f3a"
             ],
             [
              0.8888888888888888,
              "#fdca26"
             ],
             [
              1,
              "#f0f921"
             ]
            ],
            "type": "histogram2dcontour"
           }
          ],
          "mesh3d": [
           {
            "colorbar": {
             "outlinewidth": 0,
             "ticks": ""
            },
            "type": "mesh3d"
           }
          ],
          "parcoords": [
           {
            "line": {
             "colorbar": {
              "outlinewidth": 0,
              "ticks": ""
             }
            },
            "type": "parcoords"
           }
          ],
          "pie": [
           {
            "automargin": true,
            "type": "pie"
           }
          ],
          "scatter": [
           {
            "fillpattern": {
             "fillmode": "overlay",
             "size": 10,
             "solidity": 0.2
            },
            "type": "scatter"
           }
          ],
          "scatter3d": [
           {
            "line": {
             "colorbar": {
              "outlinewidth": 0,
              "ticks": ""
             }
            },
            "marker": {
             "colorbar": {
              "outlinewidth": 0,
              "ticks": ""
             }
            },
            "type": "scatter3d"
           }
          ],
          "scattercarpet": [
           {
            "marker": {
             "colorbar": {
              "outlinewidth": 0,
              "ticks": ""
             }
            },
            "type": "scattercarpet"
           }
          ],
          "scattergeo": [
           {
            "marker": {
             "colorbar": {
              "outlinewidth": 0,
              "ticks": ""
             }
            },
            "type": "scattergeo"
           }
          ],
          "scattergl": [
           {
            "marker": {
             "colorbar": {
              "outlinewidth": 0,
              "ticks": ""
             }
            },
            "type": "scattergl"
           }
          ],
          "scattermapbox": [
           {
            "marker": {
             "colorbar": {
              "outlinewidth": 0,
              "ticks": ""
             }
            },
            "type": "scattermapbox"
           }
          ],
          "scatterpolar": [
           {
            "marker": {
             "colorbar": {
              "outlinewidth": 0,
              "ticks": ""
             }
            },
            "type": "scatterpolar"
           }
          ],
          "scatterpolargl": [
           {
            "marker": {
             "colorbar": {
              "outlinewidth": 0,
              "ticks": ""
             }
            },
            "type": "scatterpolargl"
           }
          ],
          "scatterternary": [
           {
            "marker": {
             "colorbar": {
              "outlinewidth": 0,
              "ticks": ""
             }
            },
            "type": "scatterternary"
           }
          ],
          "surface": [
           {
            "colorbar": {
             "outlinewidth": 0,
             "ticks": ""
            },
            "colorscale": [
             [
              0,
              "#0d0887"
             ],
             [
              0.1111111111111111,
              "#46039f"
             ],
             [
              0.2222222222222222,
              "#7201a8"
             ],
             [
              0.3333333333333333,
              "#9c179e"
             ],
             [
              0.4444444444444444,
              "#bd3786"
             ],
             [
              0.5555555555555556,
              "#d8576b"
             ],
             [
              0.6666666666666666,
              "#ed7953"
             ],
             [
              0.7777777777777778,
              "#fb9f3a"
             ],
             [
              0.8888888888888888,
              "#fdca26"
             ],
             [
              1,
              "#f0f921"
             ]
            ],
            "type": "surface"
           }
          ],
          "table": [
           {
            "cells": {
             "fill": {
              "color": "#EBF0F8"
             },
             "line": {
              "color": "white"
             }
            },
            "header": {
             "fill": {
              "color": "#C8D4E3"
             },
             "line": {
              "color": "white"
             }
            },
            "type": "table"
           }
          ]
         },
         "layout": {
          "annotationdefaults": {
           "arrowcolor": "#2a3f5f",
           "arrowhead": 0,
           "arrowwidth": 1
          },
          "autotypenumbers": "strict",
          "coloraxis": {
           "colorbar": {
            "outlinewidth": 0,
            "ticks": ""
           }
          },
          "colorscale": {
           "diverging": [
            [
             0,
             "#8e0152"
            ],
            [
             0.1,
             "#c51b7d"
            ],
            [
             0.2,
             "#de77ae"
            ],
            [
             0.3,
             "#f1b6da"
            ],
            [
             0.4,
             "#fde0ef"
            ],
            [
             0.5,
             "#f7f7f7"
            ],
            [
             0.6,
             "#e6f5d0"
            ],
            [
             0.7,
             "#b8e186"
            ],
            [
             0.8,
             "#7fbc41"
            ],
            [
             0.9,
             "#4d9221"
            ],
            [
             1,
             "#276419"
            ]
           ],
           "sequential": [
            [
             0,
             "#0d0887"
            ],
            [
             0.1111111111111111,
             "#46039f"
            ],
            [
             0.2222222222222222,
             "#7201a8"
            ],
            [
             0.3333333333333333,
             "#9c179e"
            ],
            [
             0.4444444444444444,
             "#bd3786"
            ],
            [
             0.5555555555555556,
             "#d8576b"
            ],
            [
             0.6666666666666666,
             "#ed7953"
            ],
            [
             0.7777777777777778,
             "#fb9f3a"
            ],
            [
             0.8888888888888888,
             "#fdca26"
            ],
            [
             1,
             "#f0f921"
            ]
           ],
           "sequentialminus": [
            [
             0,
             "#0d0887"
            ],
            [
             0.1111111111111111,
             "#46039f"
            ],
            [
             0.2222222222222222,
             "#7201a8"
            ],
            [
             0.3333333333333333,
             "#9c179e"
            ],
            [
             0.4444444444444444,
             "#bd3786"
            ],
            [
             0.5555555555555556,
             "#d8576b"
            ],
            [
             0.6666666666666666,
             "#ed7953"
            ],
            [
             0.7777777777777778,
             "#fb9f3a"
            ],
            [
             0.8888888888888888,
             "#fdca26"
            ],
            [
             1,
             "#f0f921"
            ]
           ]
          },
          "colorway": [
           "#636efa",
           "#EF553B",
           "#00cc96",
           "#ab63fa",
           "#FFA15A",
           "#19d3f3",
           "#FF6692",
           "#B6E880",
           "#FF97FF",
           "#FECB52"
          ],
          "font": {
           "color": "#2a3f5f"
          },
          "geo": {
           "bgcolor": "white",
           "lakecolor": "white",
           "landcolor": "#E5ECF6",
           "showlakes": true,
           "showland": true,
           "subunitcolor": "white"
          },
          "hoverlabel": {
           "align": "left"
          },
          "hovermode": "closest",
          "mapbox": {
           "style": "light"
          },
          "paper_bgcolor": "white",
          "plot_bgcolor": "#E5ECF6",
          "polar": {
           "angularaxis": {
            "gridcolor": "white",
            "linecolor": "white",
            "ticks": ""
           },
           "bgcolor": "#E5ECF6",
           "radialaxis": {
            "gridcolor": "white",
            "linecolor": "white",
            "ticks": ""
           }
          },
          "scene": {
           "xaxis": {
            "backgroundcolor": "#E5ECF6",
            "gridcolor": "white",
            "gridwidth": 2,
            "linecolor": "white",
            "showbackground": true,
            "ticks": "",
            "zerolinecolor": "white"
           },
           "yaxis": {
            "backgroundcolor": "#E5ECF6",
            "gridcolor": "white",
            "gridwidth": 2,
            "linecolor": "white",
            "showbackground": true,
            "ticks": "",
            "zerolinecolor": "white"
           },
           "zaxis": {
            "backgroundcolor": "#E5ECF6",
            "gridcolor": "white",
            "gridwidth": 2,
            "linecolor": "white",
            "showbackground": true,
            "ticks": "",
            "zerolinecolor": "white"
           }
          },
          "shapedefaults": {
           "line": {
            "color": "#2a3f5f"
           }
          },
          "ternary": {
           "aaxis": {
            "gridcolor": "white",
            "linecolor": "white",
            "ticks": ""
           },
           "baxis": {
            "gridcolor": "white",
            "linecolor": "white",
            "ticks": ""
           },
           "bgcolor": "#E5ECF6",
           "caxis": {
            "gridcolor": "white",
            "linecolor": "white",
            "ticks": ""
           }
          },
          "title": {
           "x": 0.05
          },
          "xaxis": {
           "automargin": true,
           "gridcolor": "white",
           "linecolor": "white",
           "ticks": "",
           "title": {
            "standoff": 15
           },
           "zerolinecolor": "white",
           "zerolinewidth": 2
          },
          "yaxis": {
           "automargin": true,
           "gridcolor": "white",
           "linecolor": "white",
           "ticks": "",
           "title": {
            "standoff": 15
           },
           "zerolinecolor": "white",
           "zerolinewidth": 2
          }
         }
        },
        "title": {
         "text": "Map of area, check location"
        },
        "width": 900
       }
      }
     },
     "metadata": {},
     "output_type": "display_data"
    }
   ],
   "source": [
    "# create a map of area, where houses from data set located\n",
    "aks=geo[geo[\"Item\"]==\"Wheat\"]\n",
    "fig = px.scatter_mapbox(aks, #our data set\n",
    "                        lat=\"latitude\", lon=\"longitude\", #location\n",
    "                        color=\"2013\",\n",
    "                        hover_name=\"Country\", \n",
    "                        hover_data=[\"2013\", \"Item\"], \n",
    "                        size_max=150, \n",
    "                        zoom=1,\n",
    "                        width=900, height=600, #map size\n",
    "                        title =  'Map of area, check location')\n",
    "#style of map\n",
    "fig.update_layout(mapbox_style=\"open-street-map\")\n",
    "fig.show(config={'scrollZoom': False})"
   ]
  },
  {
   "cell_type": "code",
   "execution_count": 55,
   "metadata": {},
   "outputs": [
    {
     "data": {
      "application/vnd.plotly.v1+json": {
       "config": {
        "plotlyServerURL": "https://plot.ly",
        "scrollZoom": false
       },
       "data": [
        {
         "customdata": [
          [
           "Wheat",
           4810
          ],
          [
           "Wheat",
           440
          ],
          [
           "Wheat",
           7179
          ],
          [
           "Wheat",
           837
          ],
          [
           "Wheat",
           5
          ],
          [
           "Wheat",
           4040
          ],
          [
           "Wheat",
           1602
          ],
          [
           "Wheat",
           689
          ],
          [
           "Wheat",
           12
          ],
          [
           "Wheat",
           2639
          ],
          [
           "Wheat",
           18
          ],
          [
           "Wheat",
           16
          ],
          [
           "Wheat",
           133
          ],
          [
           "Wheat",
           4
          ],
          [
           "Wheat",
           529
          ],
          [
           "Wheat",
           75
          ],
          [
           "Wheat",
           10387
          ],
          [
           "Wheat",
           17
          ],
          [
           "Wheat",
           884
          ],
          [
           "Wheat",
           191
          ],
          [
           "Wheat",
           18
          ],
          [
           "Wheat",
           40
          ],
          [
           "Wheat",
           460
          ],
          [
           "Wheat",
           2992
          ],
          [
           "Wheat",
           50
          ],
          [
           "Wheat",
           112
          ],
          [
           "Wheat",
           1911
          ],
          [
           "Wheat",
           383
          ],
          [
           "Wheat",
           29
          ],
          [
           "Wheat",
           87212
          ],
          [
           "Wheat",
           1090
          ],
          [
           "Wheat",
           1528
          ],
          [
           "Wheat",
           178
          ],
          [
           "Wheat",
           193
          ],
          [
           "Wheat",
           418
          ],
          [
           "Wheat",
           611
          ],
          [
           "Wheat",
           93
          ],
          [
           "Wheat",
           525
          ],
          [
           "Wheat",
           538
          ],
          [
           "Wheat",
           104
          ],
          [
           "Wheat",
           5
          ],
          [
           "Wheat",
           305
          ],
          [
           "Wheat",
           604
          ],
          [
           "Wheat",
           11791
          ],
          [
           "Wheat",
           193
          ],
          [
           "Wheat",
           77
          ],
          [
           "Wheat",
           453
          ],
          [
           "Wheat",
           6984
          ],
          [
           "Wheat",
           19
          ],
          [
           "Wheat",
           103
          ],
          [
           "Wheat",
           91
          ],
          [
           "Wheat",
           6712
          ],
          [
           "Wheat",
           383
          ],
          [
           "Wheat",
           1362
          ],
          [
           "Wheat",
           6
          ],
          [
           "Wheat",
           553
          ],
          [
           "Wheat",
           175
          ],
          [
           "Wheat",
           17
          ],
          [
           "Wheat",
           48
          ],
          [
           "Wheat",
           181
          ],
          [
           "Wheat",
           310
          ],
          [
           "Wheat",
           1053
          ],
          [
           "Wheat",
           24
          ],
          [
           "Wheat",
           70589
          ],
          [
           "Wheat",
           6334
          ],
          [
           "Wheat",
           11716
          ],
          [
           "Wheat",
           4455
          ],
          [
           "Wheat",
           494
          ],
          [
           "Wheat",
           886
          ],
          [
           "Wheat",
           8906
          ],
          [
           "Wheat",
           180
          ],
          [
           "Wheat",
           5694
          ],
          [
           "Wheat",
           918
          ],
          [
           "Wheat",
           1479
          ],
          [
           "Wheat",
           5
          ],
          [
           "Wheat",
           309
          ],
          [
           "Wheat",
           12
          ],
          [
           "Wheat",
           570
          ],
          [
           "Wheat",
           95
          ],
          [
           "Wheat",
           65
          ],
          [
           "Wheat",
           190
          ],
          [
           "Wheat",
           141
          ],
          [
           "Wheat",
           1489
          ],
          [
           "Wheat",
           27
          ],
          [
           "Wheat",
           184
          ],
          [
           "Wheat",
           59
          ],
          [
           "Wheat",
           393
          ],
          [
           "Wheat",
           131
          ],
          [
           "Wheat",
           4104
          ],
          [
           "Wheat",
           352
          ],
          [
           "Wheat",
           5773
          ],
          [
           "Wheat",
           452
          ],
          [
           "Wheat",
           385
          ],
          [
           "Wheat",
           77
          ],
          [
           "Wheat",
           1391
          ],
          [
           "Wheat",
           1197
          ],
          [
           "Wheat",
           20
          ],
          [
           "Wheat",
           349
          ],
          [
           "Wheat",
           165
          ],
          [
           "Wheat",
           98
          ],
          [
           "Wheat",
           2821
          ],
          [
           "Wheat",
           487
          ],
          [
           "Wheat",
           20473
          ],
          [
           "Wheat",
           155
          ],
          [
           "Wheat",
           210
          ],
          [
           "Wheat",
           1658
          ],
          [
           "Wheat",
           1906
          ],
          [
           "Wheat",
           4147
          ],
          [
           "Wheat",
           994
          ],
          [
           "Wheat",
           2497
          ],
          [
           "Wheat",
           2915
          ],
          [
           "Wheat",
           117
          ],
          [
           "Wheat",
           3
          ],
          [
           "Wheat",
           16
          ],
          [
           "Wheat",
           8
          ],
          [
           "Wheat",
           11
          ],
          [
           "Wheat",
           10
          ],
          [
           "Wheat",
           2528
          ],
          [
           "Wheat",
           504
          ],
          [
           "Wheat",
           57
          ],
          [
           "Wheat",
           15
          ],
          [
           "Wheat",
           3143
          ],
          [
           "Wheat",
           4411
          ],
          [
           "Wheat",
           807
          ],
          [
           "Wheat",
           28
          ],
          [
           "Wheat",
           57
          ],
          [
           "Wheat",
           730
          ],
          [
           "Wheat",
           718
          ],
          [
           "Wheat",
           807
          ],
          [
           "Wheat",
           18
          ],
          [
           "Wheat",
           86
          ],
          [
           "Wheat",
           121
          ],
          [
           "Wheat",
           2226
          ],
          [
           "Wheat",
           12627
          ],
          [
           "Wheat",
           493
          ],
          [
           "Wheat",
           945
          ],
          [
           "Wheat",
           6145
          ],
          [
           "Wheat",
           750
          ],
          [
           "Wheat",
           25757
          ],
          [
           "Wheat",
           367
          ],
          [
           "Wheat",
           11
          ],
          [
           "Wheat",
           1504
          ],
          [
           "Wheat",
           1015
          ],
          [
           "Wheat",
           2604
          ],
          [
           "Wheat",
           175
          ],
          [
           "Wheat",
           433
          ]
         ],
         "hovertemplate": "<b>%{hovertext}</b><br><br>2012=%{marker.color}<br>latitude=%{lat}<br>longitude=%{lon}<br>Item=%{customdata[0]}<extra></extra>",
         "hovertext": [
          "Afghanistan",
          "Albania",
          "Algeria",
          "Angola",
          "Antigua and Barbuda",
          "Argentina",
          "Australia",
          "Austria",
          "Bahamas",
          "Bangladesh",
          "Barbados",
          "Belize",
          "Benin",
          "Bermuda",
          "Bolivia",
          "Botswana",
          "Brazil",
          "Brunei Darussalam",
          "Bulgaria",
          "Burkina Faso",
          "Cabo Verde",
          "Cambodia",
          "Cameroon",
          "Canada",
          "Central Africa",
          "Chad",
          "Chile",
          "Hong Kong",
          "Macao",
          "China mainland",
          "Taiwan",
          "Colombia",
          "Congo",
          "Costa Rica",
          "Côte d'Ivoire",
          "Cuba",
          "Cyprus",
          "Korea",
          "Denmark",
          "Djibouti",
          "Dominica",
          "Dominican Republic",
          "Ecuador",
          "Egypt",
          "El Salvador",
          "Fiji",
          "Finland",
          "France",
          "French Polynesia",
          "Gabon",
          "Gambia",
          "Germany",
          "Ghana",
          "Greece",
          "Grenada",
          "Guatemala",
          "Guinea",
          "Guinea-Bissau",
          "Guyana",
          "Haiti",
          "Honduras",
          "Hungary",
          "Iceland",
          "India",
          "Indonesia",
          "Iran",
          "Iraq",
          "Ireland",
          "Israel",
          "Italy",
          "Jamaica",
          "Japan",
          "Jordan",
          "Kenya",
          "Kiribati",
          "Kuwait",
          "Lao",
          "Lebanon",
          "Lesotho",
          "Liberia",
          "Madagascar",
          "Malawi",
          "Malaysia",
          "Maldives",
          "Mali",
          "Malta",
          "Mauritania",
          "Mauritius",
          "Mexico",
          "Mongolia",
          "Morocco",
          "Mozambique",
          "Myanmar",
          "Namibia",
          "Nepal",
          "Netherlands",
          "New Caledonia",
          "New Zealand",
          "Nicaragua",
          "Niger",
          "Nigeria",
          "Norway",
          "Pakistan",
          "Panama",
          "Paraguay",
          "Peru",
          "Philippines",
          "Poland",
          "Portugal",
          "Korea",
          "Romania",
          "Rwanda",
          "SaintKitts&Nevis",
          "Saint Lucia",
          "Saint Vincent",
          "Samoa",
          "SaoTome&Principe",
          "Saudi Arabia",
          "Senegal",
          "Sierra Leone",
          "Solomon Islands",
          "South Africa",
          "Spain",
          "Sri Lanka",
          "Suriname",
          "Swaziland",
          "Sweden",
          "Switzerland",
          "Thailand",
          "Timor-Leste",
          "Togo",
          "Trinidad&Tobago",
          "Tunisia",
          "Turkey",
          "Uganda",
          "UAE",
          "United Kingdom",
          "Tanzania",
          "America",
          "Uruguay",
          "Vanuatu",
          "Venezuela",
          "Vietnam",
          "Yemen",
          "Zambia",
          "Zimbabwe"
         ],
         "lat": [
          33.94,
          41.15,
          28.03,
          -11.2,
          17.06,
          -38.42,
          -25.27,
          47.52,
          25.03,
          23.68,
          13.19,
          17.19,
          9.31,
          32.32,
          -16.29,
          -22.33,
          -14.24,
          4.54,
          42.73,
          12.24,
          16,
          12.57,
          7.37,
          56.13,
          6.61,
          15.45,
          -35.68,
          22.4,
          22.2,
          35.86,
          23.7,
          4.57,
          -0.23,
          9.75,
          7.54,
          21.52,
          35.13,
          40.34,
          56.26,
          11.83,
          15.41,
          18.74,
          -1.83,
          26.82,
          13.79,
          -16.58,
          61.92,
          46.23,
          -17.68,
          -0.8,
          13.44,
          51.17,
          7.95,
          39.07,
          12.26,
          15.78,
          9.95,
          11.8,
          4.86,
          18.97,
          15.2,
          47.16,
          64.96,
          20.59,
          -0.79,
          32.43,
          33.22,
          53.41,
          31.05,
          41.87,
          18.11,
          36.2,
          30.59,
          -0.02,
          -3.37,
          29.31,
          19.86,
          33.85,
          -29.61,
          6.43,
          -18.77,
          -13.25,
          4.21,
          3.2,
          17.57,
          35.94,
          21.01,
          -20.35,
          23.63,
          46.86,
          31.79,
          -18.67,
          21.91,
          -22.96,
          28.39,
          52.13,
          -20.9,
          -40.9,
          12.87,
          17.61,
          9.08,
          60.47,
          30.38,
          8.54,
          -23.44,
          -9.19,
          12.88,
          51.92,
          39.4,
          35.91,
          45.94,
          -1.94,
          17.36,
          13.91,
          12.98,
          -13.76,
          0.19,
          23.89,
          14.5,
          8.46,
          -9.65,
          -30.56,
          40.46,
          7.87,
          3.92,
          -26.52,
          60.13,
          46.82,
          15.87,
          -8.87,
          8.62,
          10.69,
          33.89,
          38.96,
          1.37,
          23.42,
          55.38,
          -6.37,
          37.09,
          -32.52,
          -15.38,
          6.42,
          14.06,
          15.55,
          -13.13,
          -19.02
         ],
         "legendgroup": "",
         "lon": [
          67.71,
          20.17,
          1.66,
          17.87,
          -61.8,
          -63.62,
          133.78,
          14.55,
          -77.4,
          90.36,
          -59.54,
          -88.5,
          2.32,
          -64.76,
          -63.59,
          24.68,
          -51.93,
          114.73,
          25.49,
          -1.56,
          -24.01,
          104.99,
          12.35,
          -106.35,
          20.94,
          18.73,
          -71.54,
          114.11,
          113.54,
          104.2,
          120.96,
          -74.3,
          15.83,
          -83.75,
          -5.55,
          -77.78,
          33.43,
          127.51,
          9.5,
          42.59,
          -61.37,
          -70.16,
          -78.18,
          30.8,
          -88.9,
          179.41,
          25.75,
          2.21,
          -149.41,
          11.61,
          -15.31,
          10.45,
          -1.02,
          21.82,
          -61.6,
          -90.23,
          -9.7,
          -15.18,
          -58.93,
          -72.29,
          -86.24,
          19.5,
          -19.02,
          78.96,
          113.92,
          53.69,
          43.68,
          -8.24,
          34.85,
          12.57,
          -77.3,
          138.25,
          36.24,
          37.91,
          -168.73,
          47.48,
          102.5,
          35.86,
          28.23,
          -9.43,
          46.87,
          34.3,
          101.98,
          73.22,
          -4,
          14.38,
          -10.94,
          57.55,
          -102.55,
          103.85,
          -7.09,
          35.53,
          95.96,
          18.49,
          84.12,
          5.29,
          165.62,
          174.89,
          -85.21,
          8.08,
          8.68,
          8.47,
          69.35,
          -80.78,
          -58.44,
          -75.02,
          121.77,
          19.15,
          -8.22,
          127.77,
          24.97,
          29.87,
          -62.78,
          -60.98,
          -61.29,
          -172.1,
          6.61,
          45.08,
          -14.45,
          -11.78,
          160.16,
          22.94,
          -3.75,
          80.77,
          -56.03,
          31.47,
          18.64,
          8.23,
          100.99,
          125.73,
          0.82,
          -61.22,
          9.54,
          35.24,
          32.29,
          53.85,
          -3.44,
          34.89,
          -95.71,
          -55.77,
          166.96,
          -66.59,
          108.28,
          48.52,
          27.85,
          29.15
         ],
         "marker": {
          "color": [
           4810,
           440,
           7179,
           837,
           5,
           4040,
           1602,
           689,
           12,
           2639,
           18,
           16,
           133,
           4,
           529,
           75,
           10387,
           17,
           884,
           191,
           18,
           40,
           460,
           2992,
           50,
           112,
           1911,
           383,
           29,
           87212,
           1090,
           1528,
           178,
           193,
           418,
           611,
           93,
           525,
           538,
           104,
           5,
           305,
           604,
           11791,
           193,
           77,
           453,
           6984,
           19,
           103,
           91,
           6712,
           383,
           1362,
           6,
           553,
           175,
           17,
           48,
           181,
           310,
           1053,
           24,
           70589,
           6334,
           11716,
           4455,
           494,
           886,
           8906,
           180,
           5694,
           918,
           1479,
           5,
           309,
           12,
           570,
           95,
           65,
           190,
           141,
           1489,
           27,
           184,
           59,
           393,
           131,
           4104,
           352,
           5773,
           452,
           385,
           77,
           1391,
           1197,
           20,
           349,
           165,
           98,
           2821,
           487,
           20473,
           155,
           210,
           1658,
           1906,
           4147,
           994,
           2497,
           2915,
           117,
           3,
           16,
           8,
           11,
           10,
           2528,
           504,
           57,
           15,
           3143,
           4411,
           807,
           28,
           57,
           730,
           718,
           807,
           18,
           86,
           121,
           2226,
           12627,
           493,
           945,
           6145,
           750,
           25757,
           367,
           11,
           1504,
           1015,
           2604,
           175,
           433
          ],
          "coloraxis": "coloraxis",
          "size": [
           4810,
           440,
           7179,
           837,
           5,
           4040,
           1602,
           689,
           12,
           2639,
           18,
           16,
           133,
           4,
           529,
           75,
           10387,
           17,
           884,
           191,
           18,
           40,
           460,
           2992,
           50,
           112,
           1911,
           383,
           29,
           87212,
           1090,
           1528,
           178,
           193,
           418,
           611,
           93,
           525,
           538,
           104,
           5,
           305,
           604,
           11791,
           193,
           77,
           453,
           6984,
           19,
           103,
           91,
           6712,
           383,
           1362,
           6,
           553,
           175,
           17,
           48,
           181,
           310,
           1053,
           24,
           70589,
           6334,
           11716,
           4455,
           494,
           886,
           8906,
           180,
           5694,
           918,
           1479,
           5,
           309,
           12,
           570,
           95,
           65,
           190,
           141,
           1489,
           27,
           184,
           59,
           393,
           131,
           4104,
           352,
           5773,
           452,
           385,
           77,
           1391,
           1197,
           20,
           349,
           165,
           98,
           2821,
           487,
           20473,
           155,
           210,
           1658,
           1906,
           4147,
           994,
           2497,
           2915,
           117,
           3,
           16,
           8,
           11,
           10,
           2528,
           504,
           57,
           15,
           3143,
           4411,
           807,
           28,
           57,
           730,
           718,
           807,
           18,
           86,
           121,
           2226,
           12627,
           493,
           945,
           6145,
           750,
           25757,
           367,
           11,
           1504,
           1015,
           2604,
           175,
           433
          ],
          "sizemode": "area",
          "sizeref": 387.6088888888889
         },
         "mode": "markers",
         "name": "",
         "showlegend": false,
         "subplot": "mapbox",
         "type": "scattermapbox"
        }
       ],
       "layout": {
        "coloraxis": {
         "colorbar": {
          "title": {
           "text": "2012"
          }
         },
         "colorscale": [
          [
           0,
           "#0d0887"
          ],
          [
           0.1111111111111111,
           "#46039f"
          ],
          [
           0.2222222222222222,
           "#7201a8"
          ],
          [
           0.3333333333333333,
           "#9c179e"
          ],
          [
           0.4444444444444444,
           "#bd3786"
          ],
          [
           0.5555555555555556,
           "#d8576b"
          ],
          [
           0.6666666666666666,
           "#ed7953"
          ],
          [
           0.7777777777777778,
           "#fb9f3a"
          ],
          [
           0.8888888888888888,
           "#fdca26"
          ],
          [
           1,
           "#f0f921"
          ]
         ]
        },
        "legend": {
         "itemsizing": "constant",
         "tracegroupgap": 0
        },
        "mapbox": {
         "center": {
          "lat": 14.784383561643835,
          "lon": 11.784246575342467
         },
         "domain": {
          "x": [
           0,
           1
          ],
          "y": [
           0,
           1
          ]
         },
         "style": "open-street-map",
         "zoom": 1
        },
        "margin": {
         "t": 60
        },
        "template": {
         "data": {
          "bar": [
           {
            "error_x": {
             "color": "#2a3f5f"
            },
            "error_y": {
             "color": "#2a3f5f"
            },
            "marker": {
             "line": {
              "color": "#E5ECF6",
              "width": 0.5
             },
             "pattern": {
              "fillmode": "overlay",
              "size": 10,
              "solidity": 0.2
             }
            },
            "type": "bar"
           }
          ],
          "barpolar": [
           {
            "marker": {
             "line": {
              "color": "#E5ECF6",
              "width": 0.5
             },
             "pattern": {
              "fillmode": "overlay",
              "size": 10,
              "solidity": 0.2
             }
            },
            "type": "barpolar"
           }
          ],
          "carpet": [
           {
            "aaxis": {
             "endlinecolor": "#2a3f5f",
             "gridcolor": "white",
             "linecolor": "white",
             "minorgridcolor": "white",
             "startlinecolor": "#2a3f5f"
            },
            "baxis": {
             "endlinecolor": "#2a3f5f",
             "gridcolor": "white",
             "linecolor": "white",
             "minorgridcolor": "white",
             "startlinecolor": "#2a3f5f"
            },
            "type": "carpet"
           }
          ],
          "choropleth": [
           {
            "colorbar": {
             "outlinewidth": 0,
             "ticks": ""
            },
            "type": "choropleth"
           }
          ],
          "contour": [
           {
            "colorbar": {
             "outlinewidth": 0,
             "ticks": ""
            },
            "colorscale": [
             [
              0,
              "#0d0887"
             ],
             [
              0.1111111111111111,
              "#46039f"
             ],
             [
              0.2222222222222222,
              "#7201a8"
             ],
             [
              0.3333333333333333,
              "#9c179e"
             ],
             [
              0.4444444444444444,
              "#bd3786"
             ],
             [
              0.5555555555555556,
              "#d8576b"
             ],
             [
              0.6666666666666666,
              "#ed7953"
             ],
             [
              0.7777777777777778,
              "#fb9f3a"
             ],
             [
              0.8888888888888888,
              "#fdca26"
             ],
             [
              1,
              "#f0f921"
             ]
            ],
            "type": "contour"
           }
          ],
          "contourcarpet": [
           {
            "colorbar": {
             "outlinewidth": 0,
             "ticks": ""
            },
            "type": "contourcarpet"
           }
          ],
          "heatmap": [
           {
            "colorbar": {
             "outlinewidth": 0,
             "ticks": ""
            },
            "colorscale": [
             [
              0,
              "#0d0887"
             ],
             [
              0.1111111111111111,
              "#46039f"
             ],
             [
              0.2222222222222222,
              "#7201a8"
             ],
             [
              0.3333333333333333,
              "#9c179e"
             ],
             [
              0.4444444444444444,
              "#bd3786"
             ],
             [
              0.5555555555555556,
              "#d8576b"
             ],
             [
              0.6666666666666666,
              "#ed7953"
             ],
             [
              0.7777777777777778,
              "#fb9f3a"
             ],
             [
              0.8888888888888888,
              "#fdca26"
             ],
             [
              1,
              "#f0f921"
             ]
            ],
            "type": "heatmap"
           }
          ],
          "heatmapgl": [
           {
            "colorbar": {
             "outlinewidth": 0,
             "ticks": ""
            },
            "colorscale": [
             [
              0,
              "#0d0887"
             ],
             [
              0.1111111111111111,
              "#46039f"
             ],
             [
              0.2222222222222222,
              "#7201a8"
             ],
             [
              0.3333333333333333,
              "#9c179e"
             ],
             [
              0.4444444444444444,
              "#bd3786"
             ],
             [
              0.5555555555555556,
              "#d8576b"
             ],
             [
              0.6666666666666666,
              "#ed7953"
             ],
             [
              0.7777777777777778,
              "#fb9f3a"
             ],
             [
              0.8888888888888888,
              "#fdca26"
             ],
             [
              1,
              "#f0f921"
             ]
            ],
            "type": "heatmapgl"
           }
          ],
          "histogram": [
           {
            "marker": {
             "pattern": {
              "fillmode": "overlay",
              "size": 10,
              "solidity": 0.2
             }
            },
            "type": "histogram"
           }
          ],
          "histogram2d": [
           {
            "colorbar": {
             "outlinewidth": 0,
             "ticks": ""
            },
            "colorscale": [
             [
              0,
              "#0d0887"
             ],
             [
              0.1111111111111111,
              "#46039f"
             ],
             [
              0.2222222222222222,
              "#7201a8"
             ],
             [
              0.3333333333333333,
              "#9c179e"
             ],
             [
              0.4444444444444444,
              "#bd3786"
             ],
             [
              0.5555555555555556,
              "#d8576b"
             ],
             [
              0.6666666666666666,
              "#ed7953"
             ],
             [
              0.7777777777777778,
              "#fb9f3a"
             ],
             [
              0.8888888888888888,
              "#fdca26"
             ],
             [
              1,
              "#f0f921"
             ]
            ],
            "type": "histogram2d"
           }
          ],
          "histogram2dcontour": [
           {
            "colorbar": {
             "outlinewidth": 0,
             "ticks": ""
            },
            "colorscale": [
             [
              0,
              "#0d0887"
             ],
             [
              0.1111111111111111,
              "#46039f"
             ],
             [
              0.2222222222222222,
              "#7201a8"
             ],
             [
              0.3333333333333333,
              "#9c179e"
             ],
             [
              0.4444444444444444,
              "#bd3786"
             ],
             [
              0.5555555555555556,
              "#d8576b"
             ],
             [
              0.6666666666666666,
              "#ed7953"
             ],
             [
              0.7777777777777778,
              "#fb9f3a"
             ],
             [
              0.8888888888888888,
              "#fdca26"
             ],
             [
              1,
              "#f0f921"
             ]
            ],
            "type": "histogram2dcontour"
           }
          ],
          "mesh3d": [
           {
            "colorbar": {
             "outlinewidth": 0,
             "ticks": ""
            },
            "type": "mesh3d"
           }
          ],
          "parcoords": [
           {
            "line": {
             "colorbar": {
              "outlinewidth": 0,
              "ticks": ""
             }
            },
            "type": "parcoords"
           }
          ],
          "pie": [
           {
            "automargin": true,
            "type": "pie"
           }
          ],
          "scatter": [
           {
            "fillpattern": {
             "fillmode": "overlay",
             "size": 10,
             "solidity": 0.2
            },
            "type": "scatter"
           }
          ],
          "scatter3d": [
           {
            "line": {
             "colorbar": {
              "outlinewidth": 0,
              "ticks": ""
             }
            },
            "marker": {
             "colorbar": {
              "outlinewidth": 0,
              "ticks": ""
             }
            },
            "type": "scatter3d"
           }
          ],
          "scattercarpet": [
           {
            "marker": {
             "colorbar": {
              "outlinewidth": 0,
              "ticks": ""
             }
            },
            "type": "scattercarpet"
           }
          ],
          "scattergeo": [
           {
            "marker": {
             "colorbar": {
              "outlinewidth": 0,
              "ticks": ""
             }
            },
            "type": "scattergeo"
           }
          ],
          "scattergl": [
           {
            "marker": {
             "colorbar": {
              "outlinewidth": 0,
              "ticks": ""
             }
            },
            "type": "scattergl"
           }
          ],
          "scattermapbox": [
           {
            "marker": {
             "colorbar": {
              "outlinewidth": 0,
              "ticks": ""
             }
            },
            "type": "scattermapbox"
           }
          ],
          "scatterpolar": [
           {
            "marker": {
             "colorbar": {
              "outlinewidth": 0,
              "ticks": ""
             }
            },
            "type": "scatterpolar"
           }
          ],
          "scatterpolargl": [
           {
            "marker": {
             "colorbar": {
              "outlinewidth": 0,
              "ticks": ""
             }
            },
            "type": "scatterpolargl"
           }
          ],
          "scatterternary": [
           {
            "marker": {
             "colorbar": {
              "outlinewidth": 0,
              "ticks": ""
             }
            },
            "type": "scatterternary"
           }
          ],
          "surface": [
           {
            "colorbar": {
             "outlinewidth": 0,
             "ticks": ""
            },
            "colorscale": [
             [
              0,
              "#0d0887"
             ],
             [
              0.1111111111111111,
              "#46039f"
             ],
             [
              0.2222222222222222,
              "#7201a8"
             ],
             [
              0.3333333333333333,
              "#9c179e"
             ],
             [
              0.4444444444444444,
              "#bd3786"
             ],
             [
              0.5555555555555556,
              "#d8576b"
             ],
             [
              0.6666666666666666,
              "#ed7953"
             ],
             [
              0.7777777777777778,
              "#fb9f3a"
             ],
             [
              0.8888888888888888,
              "#fdca26"
             ],
             [
              1,
              "#f0f921"
             ]
            ],
            "type": "surface"
           }
          ],
          "table": [
           {
            "cells": {
             "fill": {
              "color": "#EBF0F8"
             },
             "line": {
              "color": "white"
             }
            },
            "header": {
             "fill": {
              "color": "#C8D4E3"
             },
             "line": {
              "color": "white"
             }
            },
            "type": "table"
           }
          ]
         },
         "layout": {
          "annotationdefaults": {
           "arrowcolor": "#2a3f5f",
           "arrowhead": 0,
           "arrowwidth": 1
          },
          "autotypenumbers": "strict",
          "coloraxis": {
           "colorbar": {
            "outlinewidth": 0,
            "ticks": ""
           }
          },
          "colorscale": {
           "diverging": [
            [
             0,
             "#8e0152"
            ],
            [
             0.1,
             "#c51b7d"
            ],
            [
             0.2,
             "#de77ae"
            ],
            [
             0.3,
             "#f1b6da"
            ],
            [
             0.4,
             "#fde0ef"
            ],
            [
             0.5,
             "#f7f7f7"
            ],
            [
             0.6,
             "#e6f5d0"
            ],
            [
             0.7,
             "#b8e186"
            ],
            [
             0.8,
             "#7fbc41"
            ],
            [
             0.9,
             "#4d9221"
            ],
            [
             1,
             "#276419"
            ]
           ],
           "sequential": [
            [
             0,
             "#0d0887"
            ],
            [
             0.1111111111111111,
             "#46039f"
            ],
            [
             0.2222222222222222,
             "#7201a8"
            ],
            [
             0.3333333333333333,
             "#9c179e"
            ],
            [
             0.4444444444444444,
             "#bd3786"
            ],
            [
             0.5555555555555556,
             "#d8576b"
            ],
            [
             0.6666666666666666,
             "#ed7953"
            ],
            [
             0.7777777777777778,
             "#fb9f3a"
            ],
            [
             0.8888888888888888,
             "#fdca26"
            ],
            [
             1,
             "#f0f921"
            ]
           ],
           "sequentialminus": [
            [
             0,
             "#0d0887"
            ],
            [
             0.1111111111111111,
             "#46039f"
            ],
            [
             0.2222222222222222,
             "#7201a8"
            ],
            [
             0.3333333333333333,
             "#9c179e"
            ],
            [
             0.4444444444444444,
             "#bd3786"
            ],
            [
             0.5555555555555556,
             "#d8576b"
            ],
            [
             0.6666666666666666,
             "#ed7953"
            ],
            [
             0.7777777777777778,
             "#fb9f3a"
            ],
            [
             0.8888888888888888,
             "#fdca26"
            ],
            [
             1,
             "#f0f921"
            ]
           ]
          },
          "colorway": [
           "#636efa",
           "#EF553B",
           "#00cc96",
           "#ab63fa",
           "#FFA15A",
           "#19d3f3",
           "#FF6692",
           "#B6E880",
           "#FF97FF",
           "#FECB52"
          ],
          "font": {
           "color": "#2a3f5f"
          },
          "geo": {
           "bgcolor": "white",
           "lakecolor": "white",
           "landcolor": "#E5ECF6",
           "showlakes": true,
           "showland": true,
           "subunitcolor": "white"
          },
          "hoverlabel": {
           "align": "left"
          },
          "hovermode": "closest",
          "mapbox": {
           "style": "light"
          },
          "paper_bgcolor": "white",
          "plot_bgcolor": "#E5ECF6",
          "polar": {
           "angularaxis": {
            "gridcolor": "white",
            "linecolor": "white",
            "ticks": ""
           },
           "bgcolor": "#E5ECF6",
           "radialaxis": {
            "gridcolor": "white",
            "linecolor": "white",
            "ticks": ""
           }
          },
          "scene": {
           "xaxis": {
            "backgroundcolor": "#E5ECF6",
            "gridcolor": "white",
            "gridwidth": 2,
            "linecolor": "white",
            "showbackground": true,
            "ticks": "",
            "zerolinecolor": "white"
           },
           "yaxis": {
            "backgroundcolor": "#E5ECF6",
            "gridcolor": "white",
            "gridwidth": 2,
            "linecolor": "white",
            "showbackground": true,
            "ticks": "",
            "zerolinecolor": "white"
           },
           "zaxis": {
            "backgroundcolor": "#E5ECF6",
            "gridcolor": "white",
            "gridwidth": 2,
            "linecolor": "white",
            "showbackground": true,
            "ticks": "",
            "zerolinecolor": "white"
           }
          },
          "shapedefaults": {
           "line": {
            "color": "#2a3f5f"
           }
          },
          "ternary": {
           "aaxis": {
            "gridcolor": "white",
            "linecolor": "white",
            "ticks": ""
           },
           "baxis": {
            "gridcolor": "white",
            "linecolor": "white",
            "ticks": ""
           },
           "bgcolor": "#E5ECF6",
           "caxis": {
            "gridcolor": "white",
            "linecolor": "white",
            "ticks": ""
           }
          },
          "title": {
           "x": 0.05
          },
          "xaxis": {
           "automargin": true,
           "gridcolor": "white",
           "linecolor": "white",
           "ticks": "",
           "title": {
            "standoff": 15
           },
           "zerolinecolor": "white",
           "zerolinewidth": 2
          },
          "yaxis": {
           "automargin": true,
           "gridcolor": "white",
           "linecolor": "white",
           "ticks": "",
           "title": {
            "standoff": 15
           },
           "zerolinecolor": "white",
           "zerolinewidth": 2
          }
         }
        }
       }
      }
     },
     "metadata": {},
     "output_type": "display_data"
    }
   ],
   "source": [
    "fig2 = px.scatter_mapbox(aks, lat=\"latitude\", lon=\"longitude\", size=\"2012\",hover_name=\"Country\", hover_data=[\"Item\", \"2012\"],\n",
    "    color=\"2012\", size_max=15, zoom=1)\n",
    "fig2.update_layout(mapbox_style=\"open-street-map\" )\n",
    "fig2.show(config={'scrollZoom': False})\n",
    "\n",
    "#carto-darkmatter\n",
    "#carto-positron\n",
    "#open-street-map"
   ]
  },
  {
   "cell_type": "code",
   "execution_count": 41,
   "metadata": {},
   "outputs": [
    {
     "data": {
      "application/vnd.plotly.v1+json": {
       "config": {
        "plotlyServerURL": "https://plot.ly",
        "scrollZoom": false
       },
       "data": [
        {
         "customdata": [
          [
           "Wheat",
           4810
          ],
          [
           "Wheat",
           440
          ],
          [
           "Wheat",
           7179
          ],
          [
           "Wheat",
           837
          ],
          [
           "Wheat",
           5
          ],
          [
           "Wheat",
           4040
          ],
          [
           "Wheat",
           1602
          ],
          [
           "Wheat",
           689
          ],
          [
           "Wheat",
           12
          ],
          [
           "Wheat",
           2639
          ],
          [
           "Wheat",
           18
          ],
          [
           "Wheat",
           16
          ],
          [
           "Wheat",
           133
          ],
          [
           "Wheat",
           4
          ],
          [
           "Wheat",
           529
          ],
          [
           "Wheat",
           75
          ],
          [
           "Wheat",
           10387
          ],
          [
           "Wheat",
           17
          ],
          [
           "Wheat",
           884
          ],
          [
           "Wheat",
           191
          ],
          [
           "Wheat",
           18
          ],
          [
           "Wheat",
           40
          ],
          [
           "Wheat",
           460
          ],
          [
           "Wheat",
           2992
          ],
          [
           "Wheat",
           50
          ],
          [
           "Wheat",
           112
          ],
          [
           "Wheat",
           1911
          ],
          [
           "Wheat",
           383
          ],
          [
           "Wheat",
           29
          ],
          [
           "Wheat",
           87212
          ],
          [
           "Wheat",
           1090
          ],
          [
           "Wheat",
           1528
          ],
          [
           "Wheat",
           178
          ],
          [
           "Wheat",
           193
          ],
          [
           "Wheat",
           418
          ],
          [
           "Wheat",
           611
          ],
          [
           "Wheat",
           93
          ],
          [
           "Wheat",
           525
          ],
          [
           "Wheat",
           538
          ],
          [
           "Wheat",
           104
          ],
          [
           "Wheat",
           5
          ],
          [
           "Wheat",
           305
          ],
          [
           "Wheat",
           604
          ],
          [
           "Wheat",
           11791
          ],
          [
           "Wheat",
           193
          ],
          [
           "Wheat",
           77
          ],
          [
           "Wheat",
           453
          ],
          [
           "Wheat",
           6984
          ],
          [
           "Wheat",
           19
          ],
          [
           "Wheat",
           103
          ],
          [
           "Wheat",
           91
          ],
          [
           "Wheat",
           6712
          ],
          [
           "Wheat",
           383
          ],
          [
           "Wheat",
           1362
          ],
          [
           "Wheat",
           6
          ],
          [
           "Wheat",
           553
          ],
          [
           "Wheat",
           175
          ],
          [
           "Wheat",
           17
          ],
          [
           "Wheat",
           48
          ],
          [
           "Wheat",
           181
          ],
          [
           "Wheat",
           310
          ],
          [
           "Wheat",
           1053
          ],
          [
           "Wheat",
           24
          ],
          [
           "Wheat",
           70589
          ],
          [
           "Wheat",
           6334
          ],
          [
           "Wheat",
           11716
          ],
          [
           "Wheat",
           4455
          ],
          [
           "Wheat",
           494
          ],
          [
           "Wheat",
           886
          ],
          [
           "Wheat",
           8906
          ],
          [
           "Wheat",
           180
          ],
          [
           "Wheat",
           5694
          ],
          [
           "Wheat",
           918
          ],
          [
           "Wheat",
           1479
          ],
          [
           "Wheat",
           5
          ],
          [
           "Wheat",
           309
          ],
          [
           "Wheat",
           12
          ],
          [
           "Wheat",
           570
          ],
          [
           "Wheat",
           95
          ],
          [
           "Wheat",
           65
          ],
          [
           "Wheat",
           190
          ],
          [
           "Wheat",
           141
          ],
          [
           "Wheat",
           1489
          ],
          [
           "Wheat",
           27
          ],
          [
           "Wheat",
           184
          ],
          [
           "Wheat",
           59
          ],
          [
           "Wheat",
           393
          ],
          [
           "Wheat",
           131
          ],
          [
           "Wheat",
           4104
          ],
          [
           "Wheat",
           352
          ],
          [
           "Wheat",
           5773
          ],
          [
           "Wheat",
           452
          ],
          [
           "Wheat",
           385
          ],
          [
           "Wheat",
           77
          ],
          [
           "Wheat",
           1391
          ],
          [
           "Wheat",
           1197
          ],
          [
           "Wheat",
           20
          ],
          [
           "Wheat",
           349
          ],
          [
           "Wheat",
           165
          ],
          [
           "Wheat",
           98
          ],
          [
           "Wheat",
           2821
          ],
          [
           "Wheat",
           487
          ],
          [
           "Wheat",
           20473
          ],
          [
           "Wheat",
           155
          ],
          [
           "Wheat",
           210
          ],
          [
           "Wheat",
           1658
          ],
          [
           "Wheat",
           1906
          ],
          [
           "Wheat",
           4147
          ],
          [
           "Wheat",
           994
          ],
          [
           "Wheat",
           2497
          ],
          [
           "Wheat",
           2915
          ],
          [
           "Wheat",
           117
          ],
          [
           "Wheat",
           3
          ],
          [
           "Wheat",
           16
          ],
          [
           "Wheat",
           8
          ],
          [
           "Wheat",
           11
          ],
          [
           "Wheat",
           10
          ],
          [
           "Wheat",
           2528
          ],
          [
           "Wheat",
           504
          ],
          [
           "Wheat",
           57
          ],
          [
           "Wheat",
           15
          ],
          [
           "Wheat",
           3143
          ],
          [
           "Wheat",
           4411
          ],
          [
           "Wheat",
           807
          ],
          [
           "Wheat",
           28
          ],
          [
           "Wheat",
           57
          ],
          [
           "Wheat",
           730
          ],
          [
           "Wheat",
           718
          ],
          [
           "Wheat",
           807
          ],
          [
           "Wheat",
           18
          ],
          [
           "Wheat",
           86
          ],
          [
           "Wheat",
           121
          ],
          [
           "Wheat",
           2226
          ],
          [
           "Wheat",
           12627
          ],
          [
           "Wheat",
           493
          ],
          [
           "Wheat",
           945
          ],
          [
           "Wheat",
           6145
          ],
          [
           "Wheat",
           750
          ],
          [
           "Wheat",
           25757
          ],
          [
           "Wheat",
           367
          ],
          [
           "Wheat",
           11
          ],
          [
           "Wheat",
           1504
          ],
          [
           "Wheat",
           1015
          ],
          [
           "Wheat",
           2604
          ],
          [
           "Wheat",
           175
          ],
          [
           "Wheat",
           433
          ]
         ],
         "geo": "geo",
         "hovertemplate": "<b>%{hovertext}</b><br><br>2012=%{marker.color}<br>latitude=%{lat}<br>longitude=%{lon}<br>Item=%{customdata[0]}<extra></extra>",
         "hovertext": [
          "Afghanistan",
          "Albania",
          "Algeria",
          "Angola",
          "Antigua and Barbuda",
          "Argentina",
          "Australia",
          "Austria",
          "Bahamas",
          "Bangladesh",
          "Barbados",
          "Belize",
          "Benin",
          "Bermuda",
          "Bolivia",
          "Botswana",
          "Brazil",
          "Brunei Darussalam",
          "Bulgaria",
          "Burkina Faso",
          "Cabo Verde",
          "Cambodia",
          "Cameroon",
          "Canada",
          "Central Africa",
          "Chad",
          "Chile",
          "Hong Kong",
          "Macao",
          "China mainland",
          "Taiwan",
          "Colombia",
          "Congo",
          "Costa Rica",
          "Côte d'Ivoire",
          "Cuba",
          "Cyprus",
          "Korea",
          "Denmark",
          "Djibouti",
          "Dominica",
          "Dominican Republic",
          "Ecuador",
          "Egypt",
          "El Salvador",
          "Fiji",
          "Finland",
          "France",
          "French Polynesia",
          "Gabon",
          "Gambia",
          "Germany",
          "Ghana",
          "Greece",
          "Grenada",
          "Guatemala",
          "Guinea",
          "Guinea-Bissau",
          "Guyana",
          "Haiti",
          "Honduras",
          "Hungary",
          "Iceland",
          "India",
          "Indonesia",
          "Iran",
          "Iraq",
          "Ireland",
          "Israel",
          "Italy",
          "Jamaica",
          "Japan",
          "Jordan",
          "Kenya",
          "Kiribati",
          "Kuwait",
          "Lao",
          "Lebanon",
          "Lesotho",
          "Liberia",
          "Madagascar",
          "Malawi",
          "Malaysia",
          "Maldives",
          "Mali",
          "Malta",
          "Mauritania",
          "Mauritius",
          "Mexico",
          "Mongolia",
          "Morocco",
          "Mozambique",
          "Myanmar",
          "Namibia",
          "Nepal",
          "Netherlands",
          "New Caledonia",
          "New Zealand",
          "Nicaragua",
          "Niger",
          "Nigeria",
          "Norway",
          "Pakistan",
          "Panama",
          "Paraguay",
          "Peru",
          "Philippines",
          "Poland",
          "Portugal",
          "Korea",
          "Romania",
          "Rwanda",
          "SaintKitts&Nevis",
          "Saint Lucia",
          "Saint Vincent",
          "Samoa",
          "SaoTome&Principe",
          "Saudi Arabia",
          "Senegal",
          "Sierra Leone",
          "Solomon Islands",
          "South Africa",
          "Spain",
          "Sri Lanka",
          "Suriname",
          "Swaziland",
          "Sweden",
          "Switzerland",
          "Thailand",
          "Timor-Leste",
          "Togo",
          "Trinidad&Tobago",
          "Tunisia",
          "Turkey",
          "Uganda",
          "UAE",
          "United Kingdom",
          "Tanzania",
          "America",
          "Uruguay",
          "Vanuatu",
          "Venezuela",
          "Vietnam",
          "Yemen",
          "Zambia",
          "Zimbabwe"
         ],
         "lat": [
          33.94,
          41.15,
          28.03,
          -11.2,
          17.06,
          -38.42,
          -25.27,
          47.52,
          25.03,
          23.68,
          13.19,
          17.19,
          9.31,
          32.32,
          -16.29,
          -22.33,
          -14.24,
          4.54,
          42.73,
          12.24,
          16,
          12.57,
          7.37,
          56.13,
          6.61,
          15.45,
          -35.68,
          22.4,
          22.2,
          35.86,
          23.7,
          4.57,
          -0.23,
          9.75,
          7.54,
          21.52,
          35.13,
          40.34,
          56.26,
          11.83,
          15.41,
          18.74,
          -1.83,
          26.82,
          13.79,
          -16.58,
          61.92,
          46.23,
          -17.68,
          -0.8,
          13.44,
          51.17,
          7.95,
          39.07,
          12.26,
          15.78,
          9.95,
          11.8,
          4.86,
          18.97,
          15.2,
          47.16,
          64.96,
          20.59,
          -0.79,
          32.43,
          33.22,
          53.41,
          31.05,
          41.87,
          18.11,
          36.2,
          30.59,
          -0.02,
          -3.37,
          29.31,
          19.86,
          33.85,
          -29.61,
          6.43,
          -18.77,
          -13.25,
          4.21,
          3.2,
          17.57,
          35.94,
          21.01,
          -20.35,
          23.63,
          46.86,
          31.79,
          -18.67,
          21.91,
          -22.96,
          28.39,
          52.13,
          -20.9,
          -40.9,
          12.87,
          17.61,
          9.08,
          60.47,
          30.38,
          8.54,
          -23.44,
          -9.19,
          12.88,
          51.92,
          39.4,
          35.91,
          45.94,
          -1.94,
          17.36,
          13.91,
          12.98,
          -13.76,
          0.19,
          23.89,
          14.5,
          8.46,
          -9.65,
          -30.56,
          40.46,
          7.87,
          3.92,
          -26.52,
          60.13,
          46.82,
          15.87,
          -8.87,
          8.62,
          10.69,
          33.89,
          38.96,
          1.37,
          23.42,
          55.38,
          -6.37,
          37.09,
          -32.52,
          -15.38,
          6.42,
          14.06,
          15.55,
          -13.13,
          -19.02
         ],
         "legendgroup": "",
         "lon": [
          67.71,
          20.17,
          1.66,
          17.87,
          -61.8,
          -63.62,
          133.78,
          14.55,
          -77.4,
          90.36,
          -59.54,
          -88.5,
          2.32,
          -64.76,
          -63.59,
          24.68,
          -51.93,
          114.73,
          25.49,
          -1.56,
          -24.01,
          104.99,
          12.35,
          -106.35,
          20.94,
          18.73,
          -71.54,
          114.11,
          113.54,
          104.2,
          120.96,
          -74.3,
          15.83,
          -83.75,
          -5.55,
          -77.78,
          33.43,
          127.51,
          9.5,
          42.59,
          -61.37,
          -70.16,
          -78.18,
          30.8,
          -88.9,
          179.41,
          25.75,
          2.21,
          -149.41,
          11.61,
          -15.31,
          10.45,
          -1.02,
          21.82,
          -61.6,
          -90.23,
          -9.7,
          -15.18,
          -58.93,
          -72.29,
          -86.24,
          19.5,
          -19.02,
          78.96,
          113.92,
          53.69,
          43.68,
          -8.24,
          34.85,
          12.57,
          -77.3,
          138.25,
          36.24,
          37.91,
          -168.73,
          47.48,
          102.5,
          35.86,
          28.23,
          -9.43,
          46.87,
          34.3,
          101.98,
          73.22,
          -4,
          14.38,
          -10.94,
          57.55,
          -102.55,
          103.85,
          -7.09,
          35.53,
          95.96,
          18.49,
          84.12,
          5.29,
          165.62,
          174.89,
          -85.21,
          8.08,
          8.68,
          8.47,
          69.35,
          -80.78,
          -58.44,
          -75.02,
          121.77,
          19.15,
          -8.22,
          127.77,
          24.97,
          29.87,
          -62.78,
          -60.98,
          -61.29,
          -172.1,
          6.61,
          45.08,
          -14.45,
          -11.78,
          160.16,
          22.94,
          -3.75,
          80.77,
          -56.03,
          31.47,
          18.64,
          8.23,
          100.99,
          125.73,
          0.82,
          -61.22,
          9.54,
          35.24,
          32.29,
          53.85,
          -3.44,
          34.89,
          -95.71,
          -55.77,
          166.96,
          -66.59,
          108.28,
          48.52,
          27.85,
          29.15
         ],
         "marker": {
          "color": [
           4810,
           440,
           7179,
           837,
           5,
           4040,
           1602,
           689,
           12,
           2639,
           18,
           16,
           133,
           4,
           529,
           75,
           10387,
           17,
           884,
           191,
           18,
           40,
           460,
           2992,
           50,
           112,
           1911,
           383,
           29,
           87212,
           1090,
           1528,
           178,
           193,
           418,
           611,
           93,
           525,
           538,
           104,
           5,
           305,
           604,
           11791,
           193,
           77,
           453,
           6984,
           19,
           103,
           91,
           6712,
           383,
           1362,
           6,
           553,
           175,
           17,
           48,
           181,
           310,
           1053,
           24,
           70589,
           6334,
           11716,
           4455,
           494,
           886,
           8906,
           180,
           5694,
           918,
           1479,
           5,
           309,
           12,
           570,
           95,
           65,
           190,
           141,
           1489,
           27,
           184,
           59,
           393,
           131,
           4104,
           352,
           5773,
           452,
           385,
           77,
           1391,
           1197,
           20,
           349,
           165,
           98,
           2821,
           487,
           20473,
           155,
           210,
           1658,
           1906,
           4147,
           994,
           2497,
           2915,
           117,
           3,
           16,
           8,
           11,
           10,
           2528,
           504,
           57,
           15,
           3143,
           4411,
           807,
           28,
           57,
           730,
           718,
           807,
           18,
           86,
           121,
           2226,
           12627,
           493,
           945,
           6145,
           750,
           25757,
           367,
           11,
           1504,
           1015,
           2604,
           175,
           433
          ],
          "coloraxis": "coloraxis",
          "size": [
           4810,
           440,
           7179,
           837,
           5,
           4040,
           1602,
           689,
           12,
           2639,
           18,
           16,
           133,
           4,
           529,
           75,
           10387,
           17,
           884,
           191,
           18,
           40,
           460,
           2992,
           50,
           112,
           1911,
           383,
           29,
           87212,
           1090,
           1528,
           178,
           193,
           418,
           611,
           93,
           525,
           538,
           104,
           5,
           305,
           604,
           11791,
           193,
           77,
           453,
           6984,
           19,
           103,
           91,
           6712,
           383,
           1362,
           6,
           553,
           175,
           17,
           48,
           181,
           310,
           1053,
           24,
           70589,
           6334,
           11716,
           4455,
           494,
           886,
           8906,
           180,
           5694,
           918,
           1479,
           5,
           309,
           12,
           570,
           95,
           65,
           190,
           141,
           1489,
           27,
           184,
           59,
           393,
           131,
           4104,
           352,
           5773,
           452,
           385,
           77,
           1391,
           1197,
           20,
           349,
           165,
           98,
           2821,
           487,
           20473,
           155,
           210,
           1658,
           1906,
           4147,
           994,
           2497,
           2915,
           117,
           3,
           16,
           8,
           11,
           10,
           2528,
           504,
           57,
           15,
           3143,
           4411,
           807,
           28,
           57,
           730,
           718,
           807,
           18,
           86,
           121,
           2226,
           12627,
           493,
           945,
           6145,
           750,
           25757,
           367,
           11,
           1504,
           1015,
           2604,
           175,
           433
          ],
          "sizemode": "area",
          "sizeref": 387.6088888888889,
          "symbol": "circle"
         },
         "mode": "markers",
         "name": "",
         "showlegend": false,
         "type": "scattergeo"
        }
       ],
       "layout": {
        "coloraxis": {
         "colorbar": {
          "title": {
           "text": "2012"
          }
         },
         "colorscale": [
          [
           0,
           "#0d0887"
          ],
          [
           0.1111111111111111,
           "#46039f"
          ],
          [
           0.2222222222222222,
           "#7201a8"
          ],
          [
           0.3333333333333333,
           "#9c179e"
          ],
          [
           0.4444444444444444,
           "#bd3786"
          ],
          [
           0.5555555555555556,
           "#d8576b"
          ],
          [
           0.6666666666666666,
           "#ed7953"
          ],
          [
           0.7777777777777778,
           "#fb9f3a"
          ],
          [
           0.8888888888888888,
           "#fdca26"
          ],
          [
           1,
           "#f0f921"
          ]
         ]
        },
        "geo": {
         "center": {},
         "domain": {
          "x": [
           0,
           1
          ],
          "y": [
           0,
           1
          ]
         }
        },
        "legend": {
         "itemsizing": "constant",
         "tracegroupgap": 0
        },
        "mapbox": {
         "style": "open-street-map"
        },
        "margin": {
         "t": 60
        },
        "template": {
         "data": {
          "bar": [
           {
            "error_x": {
             "color": "#2a3f5f"
            },
            "error_y": {
             "color": "#2a3f5f"
            },
            "marker": {
             "line": {
              "color": "#E5ECF6",
              "width": 0.5
             },
             "pattern": {
              "fillmode": "overlay",
              "size": 10,
              "solidity": 0.2
             }
            },
            "type": "bar"
           }
          ],
          "barpolar": [
           {
            "marker": {
             "line": {
              "color": "#E5ECF6",
              "width": 0.5
             },
             "pattern": {
              "fillmode": "overlay",
              "size": 10,
              "solidity": 0.2
             }
            },
            "type": "barpolar"
           }
          ],
          "carpet": [
           {
            "aaxis": {
             "endlinecolor": "#2a3f5f",
             "gridcolor": "white",
             "linecolor": "white",
             "minorgridcolor": "white",
             "startlinecolor": "#2a3f5f"
            },
            "baxis": {
             "endlinecolor": "#2a3f5f",
             "gridcolor": "white",
             "linecolor": "white",
             "minorgridcolor": "white",
             "startlinecolor": "#2a3f5f"
            },
            "type": "carpet"
           }
          ],
          "choropleth": [
           {
            "colorbar": {
             "outlinewidth": 0,
             "ticks": ""
            },
            "type": "choropleth"
           }
          ],
          "contour": [
           {
            "colorbar": {
             "outlinewidth": 0,
             "ticks": ""
            },
            "colorscale": [
             [
              0,
              "#0d0887"
             ],
             [
              0.1111111111111111,
              "#46039f"
             ],
             [
              0.2222222222222222,
              "#7201a8"
             ],
             [
              0.3333333333333333,
              "#9c179e"
             ],
             [
              0.4444444444444444,
              "#bd3786"
             ],
             [
              0.5555555555555556,
              "#d8576b"
             ],
             [
              0.6666666666666666,
              "#ed7953"
             ],
             [
              0.7777777777777778,
              "#fb9f3a"
             ],
             [
              0.8888888888888888,
              "#fdca26"
             ],
             [
              1,
              "#f0f921"
             ]
            ],
            "type": "contour"
           }
          ],
          "contourcarpet": [
           {
            "colorbar": {
             "outlinewidth": 0,
             "ticks": ""
            },
            "type": "contourcarpet"
           }
          ],
          "heatmap": [
           {
            "colorbar": {
             "outlinewidth": 0,
             "ticks": ""
            },
            "colorscale": [
             [
              0,
              "#0d0887"
             ],
             [
              0.1111111111111111,
              "#46039f"
             ],
             [
              0.2222222222222222,
              "#7201a8"
             ],
             [
              0.3333333333333333,
              "#9c179e"
             ],
             [
              0.4444444444444444,
              "#bd3786"
             ],
             [
              0.5555555555555556,
              "#d8576b"
             ],
             [
              0.6666666666666666,
              "#ed7953"
             ],
             [
              0.7777777777777778,
              "#fb9f3a"
             ],
             [
              0.8888888888888888,
              "#fdca26"
             ],
             [
              1,
              "#f0f921"
             ]
            ],
            "type": "heatmap"
           }
          ],
          "heatmapgl": [
           {
            "colorbar": {
             "outlinewidth": 0,
             "ticks": ""
            },
            "colorscale": [
             [
              0,
              "#0d0887"
             ],
             [
              0.1111111111111111,
              "#46039f"
             ],
             [
              0.2222222222222222,
              "#7201a8"
             ],
             [
              0.3333333333333333,
              "#9c179e"
             ],
             [
              0.4444444444444444,
              "#bd3786"
             ],
             [
              0.5555555555555556,
              "#d8576b"
             ],
             [
              0.6666666666666666,
              "#ed7953"
             ],
             [
              0.7777777777777778,
              "#fb9f3a"
             ],
             [
              0.8888888888888888,
              "#fdca26"
             ],
             [
              1,
              "#f0f921"
             ]
            ],
            "type": "heatmapgl"
           }
          ],
          "histogram": [
           {
            "marker": {
             "pattern": {
              "fillmode": "overlay",
              "size": 10,
              "solidity": 0.2
             }
            },
            "type": "histogram"
           }
          ],
          "histogram2d": [
           {
            "colorbar": {
             "outlinewidth": 0,
             "ticks": ""
            },
            "colorscale": [
             [
              0,
              "#0d0887"
             ],
             [
              0.1111111111111111,
              "#46039f"
             ],
             [
              0.2222222222222222,
              "#7201a8"
             ],
             [
              0.3333333333333333,
              "#9c179e"
             ],
             [
              0.4444444444444444,
              "#bd3786"
             ],
             [
              0.5555555555555556,
              "#d8576b"
             ],
             [
              0.6666666666666666,
              "#ed7953"
             ],
             [
              0.7777777777777778,
              "#fb9f3a"
             ],
             [
              0.8888888888888888,
              "#fdca26"
             ],
             [
              1,
              "#f0f921"
             ]
            ],
            "type": "histogram2d"
           }
          ],
          "histogram2dcontour": [
           {
            "colorbar": {
             "outlinewidth": 0,
             "ticks": ""
            },
            "colorscale": [
             [
              0,
              "#0d0887"
             ],
             [
              0.1111111111111111,
              "#46039f"
             ],
             [
              0.2222222222222222,
              "#7201a8"
             ],
             [
              0.3333333333333333,
              "#9c179e"
             ],
             [
              0.4444444444444444,
              "#bd3786"
             ],
             [
              0.5555555555555556,
              "#d8576b"
             ],
             [
              0.6666666666666666,
              "#ed7953"
             ],
             [
              0.7777777777777778,
              "#fb9f3a"
             ],
             [
              0.8888888888888888,
              "#fdca26"
             ],
             [
              1,
              "#f0f921"
             ]
            ],
            "type": "histogram2dcontour"
           }
          ],
          "mesh3d": [
           {
            "colorbar": {
             "outlinewidth": 0,
             "ticks": ""
            },
            "type": "mesh3d"
           }
          ],
          "parcoords": [
           {
            "line": {
             "colorbar": {
              "outlinewidth": 0,
              "ticks": ""
             }
            },
            "type": "parcoords"
           }
          ],
          "pie": [
           {
            "automargin": true,
            "type": "pie"
           }
          ],
          "scatter": [
           {
            "fillpattern": {
             "fillmode": "overlay",
             "size": 10,
             "solidity": 0.2
            },
            "type": "scatter"
           }
          ],
          "scatter3d": [
           {
            "line": {
             "colorbar": {
              "outlinewidth": 0,
              "ticks": ""
             }
            },
            "marker": {
             "colorbar": {
              "outlinewidth": 0,
              "ticks": ""
             }
            },
            "type": "scatter3d"
           }
          ],
          "scattercarpet": [
           {
            "marker": {
             "colorbar": {
              "outlinewidth": 0,
              "ticks": ""
             }
            },
            "type": "scattercarpet"
           }
          ],
          "scattergeo": [
           {
            "marker": {
             "colorbar": {
              "outlinewidth": 0,
              "ticks": ""
             }
            },
            "type": "scattergeo"
           }
          ],
          "scattergl": [
           {
            "marker": {
             "colorbar": {
              "outlinewidth": 0,
              "ticks": ""
             }
            },
            "type": "scattergl"
           }
          ],
          "scattermapbox": [
           {
            "marker": {
             "colorbar": {
              "outlinewidth": 0,
              "ticks": ""
             }
            },
            "type": "scattermapbox"
           }
          ],
          "scatterpolar": [
           {
            "marker": {
             "colorbar": {
              "outlinewidth": 0,
              "ticks": ""
             }
            },
            "type": "scatterpolar"
           }
          ],
          "scatterpolargl": [
           {
            "marker": {
             "colorbar": {
              "outlinewidth": 0,
              "ticks": ""
             }
            },
            "type": "scatterpolargl"
           }
          ],
          "scatterternary": [
           {
            "marker": {
             "colorbar": {
              "outlinewidth": 0,
              "ticks": ""
             }
            },
            "type": "scatterternary"
           }
          ],
          "surface": [
           {
            "colorbar": {
             "outlinewidth": 0,
             "ticks": ""
            },
            "colorscale": [
             [
              0,
              "#0d0887"
             ],
             [
              0.1111111111111111,
              "#46039f"
             ],
             [
              0.2222222222222222,
              "#7201a8"
             ],
             [
              0.3333333333333333,
              "#9c179e"
             ],
             [
              0.4444444444444444,
              "#bd3786"
             ],
             [
              0.5555555555555556,
              "#d8576b"
             ],
             [
              0.6666666666666666,
              "#ed7953"
             ],
             [
              0.7777777777777778,
              "#fb9f3a"
             ],
             [
              0.8888888888888888,
              "#fdca26"
             ],
             [
              1,
              "#f0f921"
             ]
            ],
            "type": "surface"
           }
          ],
          "table": [
           {
            "cells": {
             "fill": {
              "color": "#EBF0F8"
             },
             "line": {
              "color": "white"
             }
            },
            "header": {
             "fill": {
              "color": "#C8D4E3"
             },
             "line": {
              "color": "white"
             }
            },
            "type": "table"
           }
          ]
         },
         "layout": {
          "annotationdefaults": {
           "arrowcolor": "#2a3f5f",
           "arrowhead": 0,
           "arrowwidth": 1
          },
          "autotypenumbers": "strict",
          "coloraxis": {
           "colorbar": {
            "outlinewidth": 0,
            "ticks": ""
           }
          },
          "colorscale": {
           "diverging": [
            [
             0,
             "#8e0152"
            ],
            [
             0.1,
             "#c51b7d"
            ],
            [
             0.2,
             "#de77ae"
            ],
            [
             0.3,
             "#f1b6da"
            ],
            [
             0.4,
             "#fde0ef"
            ],
            [
             0.5,
             "#f7f7f7"
            ],
            [
             0.6,
             "#e6f5d0"
            ],
            [
             0.7,
             "#b8e186"
            ],
            [
             0.8,
             "#7fbc41"
            ],
            [
             0.9,
             "#4d9221"
            ],
            [
             1,
             "#276419"
            ]
           ],
           "sequential": [
            [
             0,
             "#0d0887"
            ],
            [
             0.1111111111111111,
             "#46039f"
            ],
            [
             0.2222222222222222,
             "#7201a8"
            ],
            [
             0.3333333333333333,
             "#9c179e"
            ],
            [
             0.4444444444444444,
             "#bd3786"
            ],
            [
             0.5555555555555556,
             "#d8576b"
            ],
            [
             0.6666666666666666,
             "#ed7953"
            ],
            [
             0.7777777777777778,
             "#fb9f3a"
            ],
            [
             0.8888888888888888,
             "#fdca26"
            ],
            [
             1,
             "#f0f921"
            ]
           ],
           "sequentialminus": [
            [
             0,
             "#0d0887"
            ],
            [
             0.1111111111111111,
             "#46039f"
            ],
            [
             0.2222222222222222,
             "#7201a8"
            ],
            [
             0.3333333333333333,
             "#9c179e"
            ],
            [
             0.4444444444444444,
             "#bd3786"
            ],
            [
             0.5555555555555556,
             "#d8576b"
            ],
            [
             0.6666666666666666,
             "#ed7953"
            ],
            [
             0.7777777777777778,
             "#fb9f3a"
            ],
            [
             0.8888888888888888,
             "#fdca26"
            ],
            [
             1,
             "#f0f921"
            ]
           ]
          },
          "colorway": [
           "#636efa",
           "#EF553B",
           "#00cc96",
           "#ab63fa",
           "#FFA15A",
           "#19d3f3",
           "#FF6692",
           "#B6E880",
           "#FF97FF",
           "#FECB52"
          ],
          "font": {
           "color": "#2a3f5f"
          },
          "geo": {
           "bgcolor": "white",
           "lakecolor": "white",
           "landcolor": "#E5ECF6",
           "showlakes": true,
           "showland": true,
           "subunitcolor": "white"
          },
          "hoverlabel": {
           "align": "left"
          },
          "hovermode": "closest",
          "mapbox": {
           "style": "light"
          },
          "paper_bgcolor": "white",
          "plot_bgcolor": "#E5ECF6",
          "polar": {
           "angularaxis": {
            "gridcolor": "white",
            "linecolor": "white",
            "ticks": ""
           },
           "bgcolor": "#E5ECF6",
           "radialaxis": {
            "gridcolor": "white",
            "linecolor": "white",
            "ticks": ""
           }
          },
          "scene": {
           "xaxis": {
            "backgroundcolor": "#E5ECF6",
            "gridcolor": "white",
            "gridwidth": 2,
            "linecolor": "white",
            "showbackground": true,
            "ticks": "",
            "zerolinecolor": "white"
           },
           "yaxis": {
            "backgroundcolor": "#E5ECF6",
            "gridcolor": "white",
            "gridwidth": 2,
            "linecolor": "white",
            "showbackground": true,
            "ticks": "",
            "zerolinecolor": "white"
           },
           "zaxis": {
            "backgroundcolor": "#E5ECF6",
            "gridcolor": "white",
            "gridwidth": 2,
            "linecolor": "white",
            "showbackground": true,
            "ticks": "",
            "zerolinecolor": "white"
           }
          },
          "shapedefaults": {
           "line": {
            "color": "#2a3f5f"
           }
          },
          "ternary": {
           "aaxis": {
            "gridcolor": "white",
            "linecolor": "white",
            "ticks": ""
           },
           "baxis": {
            "gridcolor": "white",
            "linecolor": "white",
            "ticks": ""
           },
           "bgcolor": "#E5ECF6",
           "caxis": {
            "gridcolor": "white",
            "linecolor": "white",
            "ticks": ""
           }
          },
          "title": {
           "x": 0.05
          },
          "xaxis": {
           "automargin": true,
           "gridcolor": "white",
           "linecolor": "white",
           "ticks": "",
           "title": {
            "standoff": 15
           },
           "zerolinecolor": "white",
           "zerolinewidth": 2
          },
          "yaxis": {
           "automargin": true,
           "gridcolor": "white",
           "linecolor": "white",
           "ticks": "",
           "title": {
            "standoff": 15
           },
           "zerolinecolor": "white",
           "zerolinewidth": 2
          }
         }
        }
       }
      }
     },
     "metadata": {},
     "output_type": "display_data"
    }
   ],
   "source": [
    "fig2 = px.scatter_geo(aks, lat=\"latitude\", lon=\"longitude\", size=\"2012\",hover_name=\"Country\", hover_data=[\"Item\", \"2012\"],\n",
    "    color=\"2012\", size_max=15)\n",
    "fig2.update_layout(mapbox_style=\"open-street-map\")\n",
    "fig2.show(config={'scrollZoom': False})"
   ]
  },
  {
   "cell_type": "code",
   "execution_count": 44,
   "metadata": {},
   "outputs": [
    {
     "data": {
      "application/vnd.plotly.v1+json": {
       "config": {
        "plotlyServerURL": "https://plot.ly",
        "scrollZoom": false
       },
       "data": [
        {
         "customdata": [
          [
           "Wheat",
           4810
          ]
         ],
         "geo": "geo",
         "hovertemplate": "<b>%{hovertext}</b><br><br>2012=%{customdata[1]}<br>latitude=%{lat}<br>longitude=%{lon}<br>Item=%{customdata[0]}<extra></extra>",
         "hovertext": [
          "Afghanistan"
         ],
         "lat": [
          33.94
         ],
         "legendgroup": "4810",
         "line": {
          "color": "#636efa",
          "dash": "solid"
         },
         "lon": [
          67.71
         ],
         "marker": {
          "symbol": "circle"
         },
         "mode": "lines",
         "name": "4810",
         "showlegend": true,
         "type": "scattergeo"
        },
        {
         "customdata": [
          [
           "Wheat",
           440
          ]
         ],
         "geo": "geo",
         "hovertemplate": "<b>%{hovertext}</b><br><br>2012=%{customdata[1]}<br>latitude=%{lat}<br>longitude=%{lon}<br>Item=%{customdata[0]}<extra></extra>",
         "hovertext": [
          "Albania"
         ],
         "lat": [
          41.15
         ],
         "legendgroup": "440",
         "line": {
          "color": "#EF553B",
          "dash": "solid"
         },
         "lon": [
          20.17
         ],
         "marker": {
          "symbol": "circle"
         },
         "mode": "lines",
         "name": "440",
         "showlegend": true,
         "type": "scattergeo"
        },
        {
         "customdata": [
          [
           "Wheat",
           7179
          ]
         ],
         "geo": "geo",
         "hovertemplate": "<b>%{hovertext}</b><br><br>2012=%{customdata[1]}<br>latitude=%{lat}<br>longitude=%{lon}<br>Item=%{customdata[0]}<extra></extra>",
         "hovertext": [
          "Algeria"
         ],
         "lat": [
          28.03
         ],
         "legendgroup": "7179",
         "line": {
          "color": "#00cc96",
          "dash": "solid"
         },
         "lon": [
          1.66
         ],
         "marker": {
          "symbol": "circle"
         },
         "mode": "lines",
         "name": "7179",
         "showlegend": true,
         "type": "scattergeo"
        },
        {
         "customdata": [
          [
           "Wheat",
           837
          ]
         ],
         "geo": "geo",
         "hovertemplate": "<b>%{hovertext}</b><br><br>2012=%{customdata[1]}<br>latitude=%{lat}<br>longitude=%{lon}<br>Item=%{customdata[0]}<extra></extra>",
         "hovertext": [
          "Angola"
         ],
         "lat": [
          -11.2
         ],
         "legendgroup": "837",
         "line": {
          "color": "#ab63fa",
          "dash": "solid"
         },
         "lon": [
          17.87
         ],
         "marker": {
          "symbol": "circle"
         },
         "mode": "lines",
         "name": "837",
         "showlegend": true,
         "type": "scattergeo"
        },
        {
         "customdata": [
          [
           "Wheat",
           5
          ],
          [
           "Wheat",
           5
          ],
          [
           "Wheat",
           5
          ]
         ],
         "geo": "geo",
         "hovertemplate": "<b>%{hovertext}</b><br><br>2012=%{customdata[1]}<br>latitude=%{lat}<br>longitude=%{lon}<br>Item=%{customdata[0]}<extra></extra>",
         "hovertext": [
          "Antigua and Barbuda",
          "Dominica",
          "Kiribati"
         ],
         "lat": [
          17.06,
          15.41,
          -3.37
         ],
         "legendgroup": "5",
         "line": {
          "color": "#FFA15A",
          "dash": "solid"
         },
         "lon": [
          -61.8,
          -61.37,
          -168.73
         ],
         "marker": {
          "symbol": "circle"
         },
         "mode": "lines",
         "name": "5",
         "showlegend": true,
         "type": "scattergeo"
        },
        {
         "customdata": [
          [
           "Wheat",
           4040
          ]
         ],
         "geo": "geo",
         "hovertemplate": "<b>%{hovertext}</b><br><br>2012=%{customdata[1]}<br>latitude=%{lat}<br>longitude=%{lon}<br>Item=%{customdata[0]}<extra></extra>",
         "hovertext": [
          "Argentina"
         ],
         "lat": [
          -38.42
         ],
         "legendgroup": "4040",
         "line": {
          "color": "#19d3f3",
          "dash": "solid"
         },
         "lon": [
          -63.62
         ],
         "marker": {
          "symbol": "circle"
         },
         "mode": "lines",
         "name": "4040",
         "showlegend": true,
         "type": "scattergeo"
        },
        {
         "customdata": [
          [
           "Wheat",
           1602
          ]
         ],
         "geo": "geo",
         "hovertemplate": "<b>%{hovertext}</b><br><br>2012=%{customdata[1]}<br>latitude=%{lat}<br>longitude=%{lon}<br>Item=%{customdata[0]}<extra></extra>",
         "hovertext": [
          "Australia"
         ],
         "lat": [
          -25.27
         ],
         "legendgroup": "1602",
         "line": {
          "color": "#FF6692",
          "dash": "solid"
         },
         "lon": [
          133.78
         ],
         "marker": {
          "symbol": "circle"
         },
         "mode": "lines",
         "name": "1602",
         "showlegend": true,
         "type": "scattergeo"
        },
        {
         "customdata": [
          [
           "Wheat",
           689
          ]
         ],
         "geo": "geo",
         "hovertemplate": "<b>%{hovertext}</b><br><br>2012=%{customdata[1]}<br>latitude=%{lat}<br>longitude=%{lon}<br>Item=%{customdata[0]}<extra></extra>",
         "hovertext": [
          "Austria"
         ],
         "lat": [
          47.52
         ],
         "legendgroup": "689",
         "line": {
          "color": "#B6E880",
          "dash": "solid"
         },
         "lon": [
          14.55
         ],
         "marker": {
          "symbol": "circle"
         },
         "mode": "lines",
         "name": "689",
         "showlegend": true,
         "type": "scattergeo"
        },
        {
         "customdata": [
          [
           "Wheat",
           12
          ],
          [
           "Wheat",
           12
          ]
         ],
         "geo": "geo",
         "hovertemplate": "<b>%{hovertext}</b><br><br>2012=%{customdata[1]}<br>latitude=%{lat}<br>longitude=%{lon}<br>Item=%{customdata[0]}<extra></extra>",
         "hovertext": [
          "Bahamas",
          "Lao"
         ],
         "lat": [
          25.03,
          19.86
         ],
         "legendgroup": "12",
         "line": {
          "color": "#FF97FF",
          "dash": "solid"
         },
         "lon": [
          -77.4,
          102.5
         ],
         "marker": {
          "symbol": "circle"
         },
         "mode": "lines",
         "name": "12",
         "showlegend": true,
         "type": "scattergeo"
        },
        {
         "customdata": [
          [
           "Wheat",
           2639
          ]
         ],
         "geo": "geo",
         "hovertemplate": "<b>%{hovertext}</b><br><br>2012=%{customdata[1]}<br>latitude=%{lat}<br>longitude=%{lon}<br>Item=%{customdata[0]}<extra></extra>",
         "hovertext": [
          "Bangladesh"
         ],
         "lat": [
          23.68
         ],
         "legendgroup": "2639",
         "line": {
          "color": "#FECB52",
          "dash": "solid"
         },
         "lon": [
          90.36
         ],
         "marker": {
          "symbol": "circle"
         },
         "mode": "lines",
         "name": "2639",
         "showlegend": true,
         "type": "scattergeo"
        },
        {
         "customdata": [
          [
           "Wheat",
           18
          ],
          [
           "Wheat",
           18
          ],
          [
           "Wheat",
           18
          ]
         ],
         "geo": "geo",
         "hovertemplate": "<b>%{hovertext}</b><br><br>2012=%{customdata[1]}<br>latitude=%{lat}<br>longitude=%{lon}<br>Item=%{customdata[0]}<extra></extra>",
         "hovertext": [
          "Barbados",
          "Cabo Verde",
          "Timor-Leste"
         ],
         "lat": [
          13.19,
          16,
          -8.87
         ],
         "legendgroup": "18",
         "line": {
          "color": "#636efa",
          "dash": "solid"
         },
         "lon": [
          -59.54,
          -24.01,
          125.73
         ],
         "marker": {
          "symbol": "circle"
         },
         "mode": "lines",
         "name": "18",
         "showlegend": true,
         "type": "scattergeo"
        },
        {
         "customdata": [
          [
           "Wheat",
           16
          ],
          [
           "Wheat",
           16
          ]
         ],
         "geo": "geo",
         "hovertemplate": "<b>%{hovertext}</b><br><br>2012=%{customdata[1]}<br>latitude=%{lat}<br>longitude=%{lon}<br>Item=%{customdata[0]}<extra></extra>",
         "hovertext": [
          "Belize",
          "Saint Lucia"
         ],
         "lat": [
          17.19,
          13.91
         ],
         "legendgroup": "16",
         "line": {
          "color": "#EF553B",
          "dash": "solid"
         },
         "lon": [
          -88.5,
          -60.98
         ],
         "marker": {
          "symbol": "circle"
         },
         "mode": "lines",
         "name": "16",
         "showlegend": true,
         "type": "scattergeo"
        },
        {
         "customdata": [
          [
           "Wheat",
           133
          ]
         ],
         "geo": "geo",
         "hovertemplate": "<b>%{hovertext}</b><br><br>2012=%{customdata[1]}<br>latitude=%{lat}<br>longitude=%{lon}<br>Item=%{customdata[0]}<extra></extra>",
         "hovertext": [
          "Benin"
         ],
         "lat": [
          9.31
         ],
         "legendgroup": "133",
         "line": {
          "color": "#00cc96",
          "dash": "solid"
         },
         "lon": [
          2.32
         ],
         "marker": {
          "symbol": "circle"
         },
         "mode": "lines",
         "name": "133",
         "showlegend": true,
         "type": "scattergeo"
        },
        {
         "customdata": [
          [
           "Wheat",
           4
          ]
         ],
         "geo": "geo",
         "hovertemplate": "<b>%{hovertext}</b><br><br>2012=%{customdata[1]}<br>latitude=%{lat}<br>longitude=%{lon}<br>Item=%{customdata[0]}<extra></extra>",
         "hovertext": [
          "Bermuda"
         ],
         "lat": [
          32.32
         ],
         "legendgroup": "4",
         "line": {
          "color": "#ab63fa",
          "dash": "solid"
         },
         "lon": [
          -64.76
         ],
         "marker": {
          "symbol": "circle"
         },
         "mode": "lines",
         "name": "4",
         "showlegend": true,
         "type": "scattergeo"
        },
        {
         "customdata": [
          [
           "Wheat",
           529
          ]
         ],
         "geo": "geo",
         "hovertemplate": "<b>%{hovertext}</b><br><br>2012=%{customdata[1]}<br>latitude=%{lat}<br>longitude=%{lon}<br>Item=%{customdata[0]}<extra></extra>",
         "hovertext": [
          "Bolivia"
         ],
         "lat": [
          -16.29
         ],
         "legendgroup": "529",
         "line": {
          "color": "#FFA15A",
          "dash": "solid"
         },
         "lon": [
          -63.59
         ],
         "marker": {
          "symbol": "circle"
         },
         "mode": "lines",
         "name": "529",
         "showlegend": true,
         "type": "scattergeo"
        },
        {
         "customdata": [
          [
           "Wheat",
           75
          ]
         ],
         "geo": "geo",
         "hovertemplate": "<b>%{hovertext}</b><br><br>2012=%{customdata[1]}<br>latitude=%{lat}<br>longitude=%{lon}<br>Item=%{customdata[0]}<extra></extra>",
         "hovertext": [
          "Botswana"
         ],
         "lat": [
          -22.33
         ],
         "legendgroup": "75",
         "line": {
          "color": "#19d3f3",
          "dash": "solid"
         },
         "lon": [
          24.68
         ],
         "marker": {
          "symbol": "circle"
         },
         "mode": "lines",
         "name": "75",
         "showlegend": true,
         "type": "scattergeo"
        },
        {
         "customdata": [
          [
           "Wheat",
           10387
          ]
         ],
         "geo": "geo",
         "hovertemplate": "<b>%{hovertext}</b><br><br>2012=%{customdata[1]}<br>latitude=%{lat}<br>longitude=%{lon}<br>Item=%{customdata[0]}<extra></extra>",
         "hovertext": [
          "Brazil"
         ],
         "lat": [
          -14.24
         ],
         "legendgroup": "10387",
         "line": {
          "color": "#FF6692",
          "dash": "solid"
         },
         "lon": [
          -51.93
         ],
         "marker": {
          "symbol": "circle"
         },
         "mode": "lines",
         "name": "10387",
         "showlegend": true,
         "type": "scattergeo"
        },
        {
         "customdata": [
          [
           "Wheat",
           17
          ],
          [
           "Wheat",
           17
          ]
         ],
         "geo": "geo",
         "hovertemplate": "<b>%{hovertext}</b><br><br>2012=%{customdata[1]}<br>latitude=%{lat}<br>longitude=%{lon}<br>Item=%{customdata[0]}<extra></extra>",
         "hovertext": [
          "Brunei Darussalam",
          "Guinea-Bissau"
         ],
         "lat": [
          4.54,
          11.8
         ],
         "legendgroup": "17",
         "line": {
          "color": "#B6E880",
          "dash": "solid"
         },
         "lon": [
          114.73,
          -15.18
         ],
         "marker": {
          "symbol": "circle"
         },
         "mode": "lines",
         "name": "17",
         "showlegend": true,
         "type": "scattergeo"
        },
        {
         "customdata": [
          [
           "Wheat",
           884
          ]
         ],
         "geo": "geo",
         "hovertemplate": "<b>%{hovertext}</b><br><br>2012=%{customdata[1]}<br>latitude=%{lat}<br>longitude=%{lon}<br>Item=%{customdata[0]}<extra></extra>",
         "hovertext": [
          "Bulgaria"
         ],
         "lat": [
          42.73
         ],
         "legendgroup": "884",
         "line": {
          "color": "#FF97FF",
          "dash": "solid"
         },
         "lon": [
          25.49
         ],
         "marker": {
          "symbol": "circle"
         },
         "mode": "lines",
         "name": "884",
         "showlegend": true,
         "type": "scattergeo"
        },
        {
         "customdata": [
          [
           "Wheat",
           191
          ]
         ],
         "geo": "geo",
         "hovertemplate": "<b>%{hovertext}</b><br><br>2012=%{customdata[1]}<br>latitude=%{lat}<br>longitude=%{lon}<br>Item=%{customdata[0]}<extra></extra>",
         "hovertext": [
          "Burkina Faso"
         ],
         "lat": [
          12.24
         ],
         "legendgroup": "191",
         "line": {
          "color": "#FECB52",
          "dash": "solid"
         },
         "lon": [
          -1.56
         ],
         "marker": {
          "symbol": "circle"
         },
         "mode": "lines",
         "name": "191",
         "showlegend": true,
         "type": "scattergeo"
        },
        {
         "customdata": [
          [
           "Wheat",
           40
          ]
         ],
         "geo": "geo",
         "hovertemplate": "<b>%{hovertext}</b><br><br>2012=%{customdata[1]}<br>latitude=%{lat}<br>longitude=%{lon}<br>Item=%{customdata[0]}<extra></extra>",
         "hovertext": [
          "Cambodia"
         ],
         "lat": [
          12.57
         ],
         "legendgroup": "40",
         "line": {
          "color": "#636efa",
          "dash": "solid"
         },
         "lon": [
          104.99
         ],
         "marker": {
          "symbol": "circle"
         },
         "mode": "lines",
         "name": "40",
         "showlegend": true,
         "type": "scattergeo"
        },
        {
         "customdata": [
          [
           "Wheat",
           460
          ]
         ],
         "geo": "geo",
         "hovertemplate": "<b>%{hovertext}</b><br><br>2012=%{customdata[1]}<br>latitude=%{lat}<br>longitude=%{lon}<br>Item=%{customdata[0]}<extra></extra>",
         "hovertext": [
          "Cameroon"
         ],
         "lat": [
          7.37
         ],
         "legendgroup": "460",
         "line": {
          "color": "#EF553B",
          "dash": "solid"
         },
         "lon": [
          12.35
         ],
         "marker": {
          "symbol": "circle"
         },
         "mode": "lines",
         "name": "460",
         "showlegend": true,
         "type": "scattergeo"
        },
        {
         "customdata": [
          [
           "Wheat",
           2992
          ]
         ],
         "geo": "geo",
         "hovertemplate": "<b>%{hovertext}</b><br><br>2012=%{customdata[1]}<br>latitude=%{lat}<br>longitude=%{lon}<br>Item=%{customdata[0]}<extra></extra>",
         "hovertext": [
          "Canada"
         ],
         "lat": [
          56.13
         ],
         "legendgroup": "2992",
         "line": {
          "color": "#00cc96",
          "dash": "solid"
         },
         "lon": [
          -106.35
         ],
         "marker": {
          "symbol": "circle"
         },
         "mode": "lines",
         "name": "2992",
         "showlegend": true,
         "type": "scattergeo"
        },
        {
         "customdata": [
          [
           "Wheat",
           50
          ]
         ],
         "geo": "geo",
         "hovertemplate": "<b>%{hovertext}</b><br><br>2012=%{customdata[1]}<br>latitude=%{lat}<br>longitude=%{lon}<br>Item=%{customdata[0]}<extra></extra>",
         "hovertext": [
          "Central Africa"
         ],
         "lat": [
          6.61
         ],
         "legendgroup": "50",
         "line": {
          "color": "#ab63fa",
          "dash": "solid"
         },
         "lon": [
          20.94
         ],
         "marker": {
          "symbol": "circle"
         },
         "mode": "lines",
         "name": "50",
         "showlegend": true,
         "type": "scattergeo"
        },
        {
         "customdata": [
          [
           "Wheat",
           112
          ]
         ],
         "geo": "geo",
         "hovertemplate": "<b>%{hovertext}</b><br><br>2012=%{customdata[1]}<br>latitude=%{lat}<br>longitude=%{lon}<br>Item=%{customdata[0]}<extra></extra>",
         "hovertext": [
          "Chad"
         ],
         "lat": [
          15.45
         ],
         "legendgroup": "112",
         "line": {
          "color": "#FFA15A",
          "dash": "solid"
         },
         "lon": [
          18.73
         ],
         "marker": {
          "symbol": "circle"
         },
         "mode": "lines",
         "name": "112",
         "showlegend": true,
         "type": "scattergeo"
        },
        {
         "customdata": [
          [
           "Wheat",
           1911
          ]
         ],
         "geo": "geo",
         "hovertemplate": "<b>%{hovertext}</b><br><br>2012=%{customdata[1]}<br>latitude=%{lat}<br>longitude=%{lon}<br>Item=%{customdata[0]}<extra></extra>",
         "hovertext": [
          "Chile"
         ],
         "lat": [
          -35.68
         ],
         "legendgroup": "1911",
         "line": {
          "color": "#19d3f3",
          "dash": "solid"
         },
         "lon": [
          -71.54
         ],
         "marker": {
          "symbol": "circle"
         },
         "mode": "lines",
         "name": "1911",
         "showlegend": true,
         "type": "scattergeo"
        },
        {
         "customdata": [
          [
           "Wheat",
           383
          ],
          [
           "Wheat",
           383
          ]
         ],
         "geo": "geo",
         "hovertemplate": "<b>%{hovertext}</b><br><br>2012=%{customdata[1]}<br>latitude=%{lat}<br>longitude=%{lon}<br>Item=%{customdata[0]}<extra></extra>",
         "hovertext": [
          "Hong Kong",
          "Ghana"
         ],
         "lat": [
          22.4,
          7.95
         ],
         "legendgroup": "383",
         "line": {
          "color": "#FF6692",
          "dash": "solid"
         },
         "lon": [
          114.11,
          -1.02
         ],
         "marker": {
          "symbol": "circle"
         },
         "mode": "lines",
         "name": "383",
         "showlegend": true,
         "type": "scattergeo"
        },
        {
         "customdata": [
          [
           "Wheat",
           29
          ]
         ],
         "geo": "geo",
         "hovertemplate": "<b>%{hovertext}</b><br><br>2012=%{customdata[1]}<br>latitude=%{lat}<br>longitude=%{lon}<br>Item=%{customdata[0]}<extra></extra>",
         "hovertext": [
          "Macao"
         ],
         "lat": [
          22.2
         ],
         "legendgroup": "29",
         "line": {
          "color": "#B6E880",
          "dash": "solid"
         },
         "lon": [
          113.54
         ],
         "marker": {
          "symbol": "circle"
         },
         "mode": "lines",
         "name": "29",
         "showlegend": true,
         "type": "scattergeo"
        },
        {
         "customdata": [
          [
           "Wheat",
           87212
          ]
         ],
         "geo": "geo",
         "hovertemplate": "<b>%{hovertext}</b><br><br>2012=%{customdata[1]}<br>latitude=%{lat}<br>longitude=%{lon}<br>Item=%{customdata[0]}<extra></extra>",
         "hovertext": [
          "China mainland"
         ],
         "lat": [
          35.86
         ],
         "legendgroup": "87212",
         "line": {
          "color": "#FF97FF",
          "dash": "solid"
         },
         "lon": [
          104.2
         ],
         "marker": {
          "symbol": "circle"
         },
         "mode": "lines",
         "name": "87212",
         "showlegend": true,
         "type": "scattergeo"
        },
        {
         "customdata": [
          [
           "Wheat",
           1090
          ]
         ],
         "geo": "geo",
         "hovertemplate": "<b>%{hovertext}</b><br><br>2012=%{customdata[1]}<br>latitude=%{lat}<br>longitude=%{lon}<br>Item=%{customdata[0]}<extra></extra>",
         "hovertext": [
          "Taiwan"
         ],
         "lat": [
          23.7
         ],
         "legendgroup": "1090",
         "line": {
          "color": "#FECB52",
          "dash": "solid"
         },
         "lon": [
          120.96
         ],
         "marker": {
          "symbol": "circle"
         },
         "mode": "lines",
         "name": "1090",
         "showlegend": true,
         "type": "scattergeo"
        },
        {
         "customdata": [
          [
           "Wheat",
           1528
          ]
         ],
         "geo": "geo",
         "hovertemplate": "<b>%{hovertext}</b><br><br>2012=%{customdata[1]}<br>latitude=%{lat}<br>longitude=%{lon}<br>Item=%{customdata[0]}<extra></extra>",
         "hovertext": [
          "Colombia"
         ],
         "lat": [
          4.57
         ],
         "legendgroup": "1528",
         "line": {
          "color": "#636efa",
          "dash": "solid"
         },
         "lon": [
          -74.3
         ],
         "marker": {
          "symbol": "circle"
         },
         "mode": "lines",
         "name": "1528",
         "showlegend": true,
         "type": "scattergeo"
        },
        {
         "customdata": [
          [
           "Wheat",
           178
          ]
         ],
         "geo": "geo",
         "hovertemplate": "<b>%{hovertext}</b><br><br>2012=%{customdata[1]}<br>latitude=%{lat}<br>longitude=%{lon}<br>Item=%{customdata[0]}<extra></extra>",
         "hovertext": [
          "Congo"
         ],
         "lat": [
          -0.23
         ],
         "legendgroup": "178",
         "line": {
          "color": "#EF553B",
          "dash": "solid"
         },
         "lon": [
          15.83
         ],
         "marker": {
          "symbol": "circle"
         },
         "mode": "lines",
         "name": "178",
         "showlegend": true,
         "type": "scattergeo"
        },
        {
         "customdata": [
          [
           "Wheat",
           193
          ],
          [
           "Wheat",
           193
          ]
         ],
         "geo": "geo",
         "hovertemplate": "<b>%{hovertext}</b><br><br>2012=%{customdata[1]}<br>latitude=%{lat}<br>longitude=%{lon}<br>Item=%{customdata[0]}<extra></extra>",
         "hovertext": [
          "Costa Rica",
          "El Salvador"
         ],
         "lat": [
          9.75,
          13.79
         ],
         "legendgroup": "193",
         "line": {
          "color": "#00cc96",
          "dash": "solid"
         },
         "lon": [
          -83.75,
          -88.9
         ],
         "marker": {
          "symbol": "circle"
         },
         "mode": "lines",
         "name": "193",
         "showlegend": true,
         "type": "scattergeo"
        },
        {
         "customdata": [
          [
           "Wheat",
           418
          ]
         ],
         "geo": "geo",
         "hovertemplate": "<b>%{hovertext}</b><br><br>2012=%{customdata[1]}<br>latitude=%{lat}<br>longitude=%{lon}<br>Item=%{customdata[0]}<extra></extra>",
         "hovertext": [
          "Côte d'Ivoire"
         ],
         "lat": [
          7.54
         ],
         "legendgroup": "418",
         "line": {
          "color": "#ab63fa",
          "dash": "solid"
         },
         "lon": [
          -5.55
         ],
         "marker": {
          "symbol": "circle"
         },
         "mode": "lines",
         "name": "418",
         "showlegend": true,
         "type": "scattergeo"
        },
        {
         "customdata": [
          [
           "Wheat",
           611
          ]
         ],
         "geo": "geo",
         "hovertemplate": "<b>%{hovertext}</b><br><br>2012=%{customdata[1]}<br>latitude=%{lat}<br>longitude=%{lon}<br>Item=%{customdata[0]}<extra></extra>",
         "hovertext": [
          "Cuba"
         ],
         "lat": [
          21.52
         ],
         "legendgroup": "611",
         "line": {
          "color": "#FFA15A",
          "dash": "solid"
         },
         "lon": [
          -77.78
         ],
         "marker": {
          "symbol": "circle"
         },
         "mode": "lines",
         "name": "611",
         "showlegend": true,
         "type": "scattergeo"
        },
        {
         "customdata": [
          [
           "Wheat",
           93
          ]
         ],
         "geo": "geo",
         "hovertemplate": "<b>%{hovertext}</b><br><br>2012=%{customdata[1]}<br>latitude=%{lat}<br>longitude=%{lon}<br>Item=%{customdata[0]}<extra></extra>",
         "hovertext": [
          "Cyprus"
         ],
         "lat": [
          35.13
         ],
         "legendgroup": "93",
         "line": {
          "color": "#19d3f3",
          "dash": "solid"
         },
         "lon": [
          33.43
         ],
         "marker": {
          "symbol": "circle"
         },
         "mode": "lines",
         "name": "93",
         "showlegend": true,
         "type": "scattergeo"
        },
        {
         "customdata": [
          [
           "Wheat",
           525
          ]
         ],
         "geo": "geo",
         "hovertemplate": "<b>%{hovertext}</b><br><br>2012=%{customdata[1]}<br>latitude=%{lat}<br>longitude=%{lon}<br>Item=%{customdata[0]}<extra></extra>",
         "hovertext": [
          "Korea"
         ],
         "lat": [
          40.34
         ],
         "legendgroup": "525",
         "line": {
          "color": "#FF6692",
          "dash": "solid"
         },
         "lon": [
          127.51
         ],
         "marker": {
          "symbol": "circle"
         },
         "mode": "lines",
         "name": "525",
         "showlegend": true,
         "type": "scattergeo"
        },
        {
         "customdata": [
          [
           "Wheat",
           538
          ]
         ],
         "geo": "geo",
         "hovertemplate": "<b>%{hovertext}</b><br><br>2012=%{customdata[1]}<br>latitude=%{lat}<br>longitude=%{lon}<br>Item=%{customdata[0]}<extra></extra>",
         "hovertext": [
          "Denmark"
         ],
         "lat": [
          56.26
         ],
         "legendgroup": "538",
         "line": {
          "color": "#B6E880",
          "dash": "solid"
         },
         "lon": [
          9.5
         ],
         "marker": {
          "symbol": "circle"
         },
         "mode": "lines",
         "name": "538",
         "showlegend": true,
         "type": "scattergeo"
        },
        {
         "customdata": [
          [
           "Wheat",
           104
          ]
         ],
         "geo": "geo",
         "hovertemplate": "<b>%{hovertext}</b><br><br>2012=%{customdata[1]}<br>latitude=%{lat}<br>longitude=%{lon}<br>Item=%{customdata[0]}<extra></extra>",
         "hovertext": [
          "Djibouti"
         ],
         "lat": [
          11.83
         ],
         "legendgroup": "104",
         "line": {
          "color": "#FF97FF",
          "dash": "solid"
         },
         "lon": [
          42.59
         ],
         "marker": {
          "symbol": "circle"
         },
         "mode": "lines",
         "name": "104",
         "showlegend": true,
         "type": "scattergeo"
        },
        {
         "customdata": [
          [
           "Wheat",
           305
          ]
         ],
         "geo": "geo",
         "hovertemplate": "<b>%{hovertext}</b><br><br>2012=%{customdata[1]}<br>latitude=%{lat}<br>longitude=%{lon}<br>Item=%{customdata[0]}<extra></extra>",
         "hovertext": [
          "Dominican Republic"
         ],
         "lat": [
          18.74
         ],
         "legendgroup": "305",
         "line": {
          "color": "#FECB52",
          "dash": "solid"
         },
         "lon": [
          -70.16
         ],
         "marker": {
          "symbol": "circle"
         },
         "mode": "lines",
         "name": "305",
         "showlegend": true,
         "type": "scattergeo"
        },
        {
         "customdata": [
          [
           "Wheat",
           604
          ]
         ],
         "geo": "geo",
         "hovertemplate": "<b>%{hovertext}</b><br><br>2012=%{customdata[1]}<br>latitude=%{lat}<br>longitude=%{lon}<br>Item=%{customdata[0]}<extra></extra>",
         "hovertext": [
          "Ecuador"
         ],
         "lat": [
          -1.83
         ],
         "legendgroup": "604",
         "line": {
          "color": "#636efa",
          "dash": "solid"
         },
         "lon": [
          -78.18
         ],
         "marker": {
          "symbol": "circle"
         },
         "mode": "lines",
         "name": "604",
         "showlegend": true,
         "type": "scattergeo"
        },
        {
         "customdata": [
          [
           "Wheat",
           11791
          ]
         ],
         "geo": "geo",
         "hovertemplate": "<b>%{hovertext}</b><br><br>2012=%{customdata[1]}<br>latitude=%{lat}<br>longitude=%{lon}<br>Item=%{customdata[0]}<extra></extra>",
         "hovertext": [
          "Egypt"
         ],
         "lat": [
          26.82
         ],
         "legendgroup": "11791",
         "line": {
          "color": "#EF553B",
          "dash": "solid"
         },
         "lon": [
          30.8
         ],
         "marker": {
          "symbol": "circle"
         },
         "mode": "lines",
         "name": "11791",
         "showlegend": true,
         "type": "scattergeo"
        },
        {
         "customdata": [
          [
           "Wheat",
           77
          ],
          [
           "Wheat",
           77
          ]
         ],
         "geo": "geo",
         "hovertemplate": "<b>%{hovertext}</b><br><br>2012=%{customdata[1]}<br>latitude=%{lat}<br>longitude=%{lon}<br>Item=%{customdata[0]}<extra></extra>",
         "hovertext": [
          "Fiji",
          "Namibia"
         ],
         "lat": [
          -16.58,
          -22.96
         ],
         "legendgroup": "77",
         "line": {
          "color": "#00cc96",
          "dash": "solid"
         },
         "lon": [
          179.41,
          18.49
         ],
         "marker": {
          "symbol": "circle"
         },
         "mode": "lines",
         "name": "77",
         "showlegend": true,
         "type": "scattergeo"
        },
        {
         "customdata": [
          [
           "Wheat",
           453
          ]
         ],
         "geo": "geo",
         "hovertemplate": "<b>%{hovertext}</b><br><br>2012=%{customdata[1]}<br>latitude=%{lat}<br>longitude=%{lon}<br>Item=%{customdata[0]}<extra></extra>",
         "hovertext": [
          "Finland"
         ],
         "lat": [
          61.92
         ],
         "legendgroup": "453",
         "line": {
          "color": "#ab63fa",
          "dash": "solid"
         },
         "lon": [
          25.75
         ],
         "marker": {
          "symbol": "circle"
         },
         "mode": "lines",
         "name": "453",
         "showlegend": true,
         "type": "scattergeo"
        },
        {
         "customdata": [
          [
           "Wheat",
           6984
          ]
         ],
         "geo": "geo",
         "hovertemplate": "<b>%{hovertext}</b><br><br>2012=%{customdata[1]}<br>latitude=%{lat}<br>longitude=%{lon}<br>Item=%{customdata[0]}<extra></extra>",
         "hovertext": [
          "France"
         ],
         "lat": [
          46.23
         ],
         "legendgroup": "6984",
         "line": {
          "color": "#FFA15A",
          "dash": "solid"
         },
         "lon": [
          2.21
         ],
         "marker": {
          "symbol": "circle"
         },
         "mode": "lines",
         "name": "6984",
         "showlegend": true,
         "type": "scattergeo"
        },
        {
         "customdata": [
          [
           "Wheat",
           19
          ]
         ],
         "geo": "geo",
         "hovertemplate": "<b>%{hovertext}</b><br><br>2012=%{customdata[1]}<br>latitude=%{lat}<br>longitude=%{lon}<br>Item=%{customdata[0]}<extra></extra>",
         "hovertext": [
          "French Polynesia"
         ],
         "lat": [
          -17.68
         ],
         "legendgroup": "19",
         "line": {
          "color": "#19d3f3",
          "dash": "solid"
         },
         "lon": [
          -149.41
         ],
         "marker": {
          "symbol": "circle"
         },
         "mode": "lines",
         "name": "19",
         "showlegend": true,
         "type": "scattergeo"
        },
        {
         "customdata": [
          [
           "Wheat",
           103
          ]
         ],
         "geo": "geo",
         "hovertemplate": "<b>%{hovertext}</b><br><br>2012=%{customdata[1]}<br>latitude=%{lat}<br>longitude=%{lon}<br>Item=%{customdata[0]}<extra></extra>",
         "hovertext": [
          "Gabon"
         ],
         "lat": [
          -0.8
         ],
         "legendgroup": "103",
         "line": {
          "color": "#FF6692",
          "dash": "solid"
         },
         "lon": [
          11.61
         ],
         "marker": {
          "symbol": "circle"
         },
         "mode": "lines",
         "name": "103",
         "showlegend": true,
         "type": "scattergeo"
        },
        {
         "customdata": [
          [
           "Wheat",
           91
          ]
         ],
         "geo": "geo",
         "hovertemplate": "<b>%{hovertext}</b><br><br>2012=%{customdata[1]}<br>latitude=%{lat}<br>longitude=%{lon}<br>Item=%{customdata[0]}<extra></extra>",
         "hovertext": [
          "Gambia"
         ],
         "lat": [
          13.44
         ],
         "legendgroup": "91",
         "line": {
          "color": "#B6E880",
          "dash": "solid"
         },
         "lon": [
          -15.31
         ],
         "marker": {
          "symbol": "circle"
         },
         "mode": "lines",
         "name": "91",
         "showlegend": true,
         "type": "scattergeo"
        },
        {
         "customdata": [
          [
           "Wheat",
           6712
          ]
         ],
         "geo": "geo",
         "hovertemplate": "<b>%{hovertext}</b><br><br>2012=%{customdata[1]}<br>latitude=%{lat}<br>longitude=%{lon}<br>Item=%{customdata[0]}<extra></extra>",
         "hovertext": [
          "Germany"
         ],
         "lat": [
          51.17
         ],
         "legendgroup": "6712",
         "line": {
          "color": "#FF97FF",
          "dash": "solid"
         },
         "lon": [
          10.45
         ],
         "marker": {
          "symbol": "circle"
         },
         "mode": "lines",
         "name": "6712",
         "showlegend": true,
         "type": "scattergeo"
        },
        {
         "customdata": [
          [
           "Wheat",
           1362
          ]
         ],
         "geo": "geo",
         "hovertemplate": "<b>%{hovertext}</b><br><br>2012=%{customdata[1]}<br>latitude=%{lat}<br>longitude=%{lon}<br>Item=%{customdata[0]}<extra></extra>",
         "hovertext": [
          "Greece"
         ],
         "lat": [
          39.07
         ],
         "legendgroup": "1362",
         "line": {
          "color": "#FECB52",
          "dash": "solid"
         },
         "lon": [
          21.82
         ],
         "marker": {
          "symbol": "circle"
         },
         "mode": "lines",
         "name": "1362",
         "showlegend": true,
         "type": "scattergeo"
        },
        {
         "customdata": [
          [
           "Wheat",
           6
          ]
         ],
         "geo": "geo",
         "hovertemplate": "<b>%{hovertext}</b><br><br>2012=%{customdata[1]}<br>latitude=%{lat}<br>longitude=%{lon}<br>Item=%{customdata[0]}<extra></extra>",
         "hovertext": [
          "Grenada"
         ],
         "lat": [
          12.26
         ],
         "legendgroup": "6",
         "line": {
          "color": "#636efa",
          "dash": "solid"
         },
         "lon": [
          -61.6
         ],
         "marker": {
          "symbol": "circle"
         },
         "mode": "lines",
         "name": "6",
         "showlegend": true,
         "type": "scattergeo"
        },
        {
         "customdata": [
          [
           "Wheat",
           553
          ]
         ],
         "geo": "geo",
         "hovertemplate": "<b>%{hovertext}</b><br><br>2012=%{customdata[1]}<br>latitude=%{lat}<br>longitude=%{lon}<br>Item=%{customdata[0]}<extra></extra>",
         "hovertext": [
          "Guatemala"
         ],
         "lat": [
          15.78
         ],
         "legendgroup": "553",
         "line": {
          "color": "#EF553B",
          "dash": "solid"
         },
         "lon": [
          -90.23
         ],
         "marker": {
          "symbol": "circle"
         },
         "mode": "lines",
         "name": "553",
         "showlegend": true,
         "type": "scattergeo"
        },
        {
         "customdata": [
          [
           "Wheat",
           175
          ],
          [
           "Wheat",
           175
          ]
         ],
         "geo": "geo",
         "hovertemplate": "<b>%{hovertext}</b><br><br>2012=%{customdata[1]}<br>latitude=%{lat}<br>longitude=%{lon}<br>Item=%{customdata[0]}<extra></extra>",
         "hovertext": [
          "Guinea",
          "Zambia"
         ],
         "lat": [
          9.95,
          -13.13
         ],
         "legendgroup": "175",
         "line": {
          "color": "#00cc96",
          "dash": "solid"
         },
         "lon": [
          -9.7,
          27.85
         ],
         "marker": {
          "symbol": "circle"
         },
         "mode": "lines",
         "name": "175",
         "showlegend": true,
         "type": "scattergeo"
        },
        {
         "customdata": [
          [
           "Wheat",
           48
          ]
         ],
         "geo": "geo",
         "hovertemplate": "<b>%{hovertext}</b><br><br>2012=%{customdata[1]}<br>latitude=%{lat}<br>longitude=%{lon}<br>Item=%{customdata[0]}<extra></extra>",
         "hovertext": [
          "Guyana"
         ],
         "lat": [
          4.86
         ],
         "legendgroup": "48",
         "line": {
          "color": "#ab63fa",
          "dash": "solid"
         },
         "lon": [
          -58.93
         ],
         "marker": {
          "symbol": "circle"
         },
         "mode": "lines",
         "name": "48",
         "showlegend": true,
         "type": "scattergeo"
        },
        {
         "customdata": [
          [
           "Wheat",
           181
          ]
         ],
         "geo": "geo",
         "hovertemplate": "<b>%{hovertext}</b><br><br>2012=%{customdata[1]}<br>latitude=%{lat}<br>longitude=%{lon}<br>Item=%{customdata[0]}<extra></extra>",
         "hovertext": [
          "Haiti"
         ],
         "lat": [
          18.97
         ],
         "legendgroup": "181",
         "line": {
          "color": "#FFA15A",
          "dash": "solid"
         },
         "lon": [
          -72.29
         ],
         "marker": {
          "symbol": "circle"
         },
         "mode": "lines",
         "name": "181",
         "showlegend": true,
         "type": "scattergeo"
        },
        {
         "customdata": [
          [
           "Wheat",
           310
          ]
         ],
         "geo": "geo",
         "hovertemplate": "<b>%{hovertext}</b><br><br>2012=%{customdata[1]}<br>latitude=%{lat}<br>longitude=%{lon}<br>Item=%{customdata[0]}<extra></extra>",
         "hovertext": [
          "Honduras"
         ],
         "lat": [
          15.2
         ],
         "legendgroup": "310",
         "line": {
          "color": "#19d3f3",
          "dash": "solid"
         },
         "lon": [
          -86.24
         ],
         "marker": {
          "symbol": "circle"
         },
         "mode": "lines",
         "name": "310",
         "showlegend": true,
         "type": "scattergeo"
        },
        {
         "customdata": [
          [
           "Wheat",
           1053
          ]
         ],
         "geo": "geo",
         "hovertemplate": "<b>%{hovertext}</b><br><br>2012=%{customdata[1]}<br>latitude=%{lat}<br>longitude=%{lon}<br>Item=%{customdata[0]}<extra></extra>",
         "hovertext": [
          "Hungary"
         ],
         "lat": [
          47.16
         ],
         "legendgroup": "1053",
         "line": {
          "color": "#FF6692",
          "dash": "solid"
         },
         "lon": [
          19.5
         ],
         "marker": {
          "symbol": "circle"
         },
         "mode": "lines",
         "name": "1053",
         "showlegend": true,
         "type": "scattergeo"
        },
        {
         "customdata": [
          [
           "Wheat",
           24
          ]
         ],
         "geo": "geo",
         "hovertemplate": "<b>%{hovertext}</b><br><br>2012=%{customdata[1]}<br>latitude=%{lat}<br>longitude=%{lon}<br>Item=%{customdata[0]}<extra></extra>",
         "hovertext": [
          "Iceland"
         ],
         "lat": [
          64.96
         ],
         "legendgroup": "24",
         "line": {
          "color": "#B6E880",
          "dash": "solid"
         },
         "lon": [
          -19.02
         ],
         "marker": {
          "symbol": "circle"
         },
         "mode": "lines",
         "name": "24",
         "showlegend": true,
         "type": "scattergeo"
        },
        {
         "customdata": [
          [
           "Wheat",
           70589
          ]
         ],
         "geo": "geo",
         "hovertemplate": "<b>%{hovertext}</b><br><br>2012=%{customdata[1]}<br>latitude=%{lat}<br>longitude=%{lon}<br>Item=%{customdata[0]}<extra></extra>",
         "hovertext": [
          "India"
         ],
         "lat": [
          20.59
         ],
         "legendgroup": "70589",
         "line": {
          "color": "#FF97FF",
          "dash": "solid"
         },
         "lon": [
          78.96
         ],
         "marker": {
          "symbol": "circle"
         },
         "mode": "lines",
         "name": "70589",
         "showlegend": true,
         "type": "scattergeo"
        },
        {
         "customdata": [
          [
           "Wheat",
           6334
          ]
         ],
         "geo": "geo",
         "hovertemplate": "<b>%{hovertext}</b><br><br>2012=%{customdata[1]}<br>latitude=%{lat}<br>longitude=%{lon}<br>Item=%{customdata[0]}<extra></extra>",
         "hovertext": [
          "Indonesia"
         ],
         "lat": [
          -0.79
         ],
         "legendgroup": "6334",
         "line": {
          "color": "#FECB52",
          "dash": "solid"
         },
         "lon": [
          113.92
         ],
         "marker": {
          "symbol": "circle"
         },
         "mode": "lines",
         "name": "6334",
         "showlegend": true,
         "type": "scattergeo"
        },
        {
         "customdata": [
          [
           "Wheat",
           11716
          ]
         ],
         "geo": "geo",
         "hovertemplate": "<b>%{hovertext}</b><br><br>2012=%{customdata[1]}<br>latitude=%{lat}<br>longitude=%{lon}<br>Item=%{customdata[0]}<extra></extra>",
         "hovertext": [
          "Iran"
         ],
         "lat": [
          32.43
         ],
         "legendgroup": "11716",
         "line": {
          "color": "#636efa",
          "dash": "solid"
         },
         "lon": [
          53.69
         ],
         "marker": {
          "symbol": "circle"
         },
         "mode": "lines",
         "name": "11716",
         "showlegend": true,
         "type": "scattergeo"
        },
        {
         "customdata": [
          [
           "Wheat",
           4455
          ]
         ],
         "geo": "geo",
         "hovertemplate": "<b>%{hovertext}</b><br><br>2012=%{customdata[1]}<br>latitude=%{lat}<br>longitude=%{lon}<br>Item=%{customdata[0]}<extra></extra>",
         "hovertext": [
          "Iraq"
         ],
         "lat": [
          33.22
         ],
         "legendgroup": "4455",
         "line": {
          "color": "#EF553B",
          "dash": "solid"
         },
         "lon": [
          43.68
         ],
         "marker": {
          "symbol": "circle"
         },
         "mode": "lines",
         "name": "4455",
         "showlegend": true,
         "type": "scattergeo"
        },
        {
         "customdata": [
          [
           "Wheat",
           494
          ]
         ],
         "geo": "geo",
         "hovertemplate": "<b>%{hovertext}</b><br><br>2012=%{customdata[1]}<br>latitude=%{lat}<br>longitude=%{lon}<br>Item=%{customdata[0]}<extra></extra>",
         "hovertext": [
          "Ireland"
         ],
         "lat": [
          53.41
         ],
         "legendgroup": "494",
         "line": {
          "color": "#00cc96",
          "dash": "solid"
         },
         "lon": [
          -8.24
         ],
         "marker": {
          "symbol": "circle"
         },
         "mode": "lines",
         "name": "494",
         "showlegend": true,
         "type": "scattergeo"
        },
        {
         "customdata": [
          [
           "Wheat",
           886
          ]
         ],
         "geo": "geo",
         "hovertemplate": "<b>%{hovertext}</b><br><br>2012=%{customdata[1]}<br>latitude=%{lat}<br>longitude=%{lon}<br>Item=%{customdata[0]}<extra></extra>",
         "hovertext": [
          "Israel"
         ],
         "lat": [
          31.05
         ],
         "legendgroup": "886",
         "line": {
          "color": "#ab63fa",
          "dash": "solid"
         },
         "lon": [
          34.85
         ],
         "marker": {
          "symbol": "circle"
         },
         "mode": "lines",
         "name": "886",
         "showlegend": true,
         "type": "scattergeo"
        },
        {
         "customdata": [
          [
           "Wheat",
           8906
          ]
         ],
         "geo": "geo",
         "hovertemplate": "<b>%{hovertext}</b><br><br>2012=%{customdata[1]}<br>latitude=%{lat}<br>longitude=%{lon}<br>Item=%{customdata[0]}<extra></extra>",
         "hovertext": [
          "Italy"
         ],
         "lat": [
          41.87
         ],
         "legendgroup": "8906",
         "line": {
          "color": "#FFA15A",
          "dash": "solid"
         },
         "lon": [
          12.57
         ],
         "marker": {
          "symbol": "circle"
         },
         "mode": "lines",
         "name": "8906",
         "showlegend": true,
         "type": "scattergeo"
        },
        {
         "customdata": [
          [
           "Wheat",
           180
          ]
         ],
         "geo": "geo",
         "hovertemplate": "<b>%{hovertext}</b><br><br>2012=%{customdata[1]}<br>latitude=%{lat}<br>longitude=%{lon}<br>Item=%{customdata[0]}<extra></extra>",
         "hovertext": [
          "Jamaica"
         ],
         "lat": [
          18.11
         ],
         "legendgroup": "180",
         "line": {
          "color": "#19d3f3",
          "dash": "solid"
         },
         "lon": [
          -77.3
         ],
         "marker": {
          "symbol": "circle"
         },
         "mode": "lines",
         "name": "180",
         "showlegend": true,
         "type": "scattergeo"
        },
        {
         "customdata": [
          [
           "Wheat",
           5694
          ]
         ],
         "geo": "geo",
         "hovertemplate": "<b>%{hovertext}</b><br><br>2012=%{customdata[1]}<br>latitude=%{lat}<br>longitude=%{lon}<br>Item=%{customdata[0]}<extra></extra>",
         "hovertext": [
          "Japan"
         ],
         "lat": [
          36.2
         ],
         "legendgroup": "5694",
         "line": {
          "color": "#FF6692",
          "dash": "solid"
         },
         "lon": [
          138.25
         ],
         "marker": {
          "symbol": "circle"
         },
         "mode": "lines",
         "name": "5694",
         "showlegend": true,
         "type": "scattergeo"
        },
        {
         "customdata": [
          [
           "Wheat",
           918
          ]
         ],
         "geo": "geo",
         "hovertemplate": "<b>%{hovertext}</b><br><br>2012=%{customdata[1]}<br>latitude=%{lat}<br>longitude=%{lon}<br>Item=%{customdata[0]}<extra></extra>",
         "hovertext": [
          "Jordan"
         ],
         "lat": [
          30.59
         ],
         "legendgroup": "918",
         "line": {
          "color": "#B6E880",
          "dash": "solid"
         },
         "lon": [
          36.24
         ],
         "marker": {
          "symbol": "circle"
         },
         "mode": "lines",
         "name": "918",
         "showlegend": true,
         "type": "scattergeo"
        },
        {
         "customdata": [
          [
           "Wheat",
           1479
          ]
         ],
         "geo": "geo",
         "hovertemplate": "<b>%{hovertext}</b><br><br>2012=%{customdata[1]}<br>latitude=%{lat}<br>longitude=%{lon}<br>Item=%{customdata[0]}<extra></extra>",
         "hovertext": [
          "Kenya"
         ],
         "lat": [
          -0.02
         ],
         "legendgroup": "1479",
         "line": {
          "color": "#FF97FF",
          "dash": "solid"
         },
         "lon": [
          37.91
         ],
         "marker": {
          "symbol": "circle"
         },
         "mode": "lines",
         "name": "1479",
         "showlegend": true,
         "type": "scattergeo"
        },
        {
         "customdata": [
          [
           "Wheat",
           309
          ]
         ],
         "geo": "geo",
         "hovertemplate": "<b>%{hovertext}</b><br><br>2012=%{customdata[1]}<br>latitude=%{lat}<br>longitude=%{lon}<br>Item=%{customdata[0]}<extra></extra>",
         "hovertext": [
          "Kuwait"
         ],
         "lat": [
          29.31
         ],
         "legendgroup": "309",
         "line": {
          "color": "#FECB52",
          "dash": "solid"
         },
         "lon": [
          47.48
         ],
         "marker": {
          "symbol": "circle"
         },
         "mode": "lines",
         "name": "309",
         "showlegend": true,
         "type": "scattergeo"
        },
        {
         "customdata": [
          [
           "Wheat",
           570
          ]
         ],
         "geo": "geo",
         "hovertemplate": "<b>%{hovertext}</b><br><br>2012=%{customdata[1]}<br>latitude=%{lat}<br>longitude=%{lon}<br>Item=%{customdata[0]}<extra></extra>",
         "hovertext": [
          "Lebanon"
         ],
         "lat": [
          33.85
         ],
         "legendgroup": "570",
         "line": {
          "color": "#636efa",
          "dash": "solid"
         },
         "lon": [
          35.86
         ],
         "marker": {
          "symbol": "circle"
         },
         "mode": "lines",
         "name": "570",
         "showlegend": true,
         "type": "scattergeo"
        },
        {
         "customdata": [
          [
           "Wheat",
           95
          ]
         ],
         "geo": "geo",
         "hovertemplate": "<b>%{hovertext}</b><br><br>2012=%{customdata[1]}<br>latitude=%{lat}<br>longitude=%{lon}<br>Item=%{customdata[0]}<extra></extra>",
         "hovertext": [
          "Lesotho"
         ],
         "lat": [
          -29.61
         ],
         "legendgroup": "95",
         "line": {
          "color": "#EF553B",
          "dash": "solid"
         },
         "lon": [
          28.23
         ],
         "marker": {
          "symbol": "circle"
         },
         "mode": "lines",
         "name": "95",
         "showlegend": true,
         "type": "scattergeo"
        },
        {
         "customdata": [
          [
           "Wheat",
           65
          ]
         ],
         "geo": "geo",
         "hovertemplate": "<b>%{hovertext}</b><br><br>2012=%{customdata[1]}<br>latitude=%{lat}<br>longitude=%{lon}<br>Item=%{customdata[0]}<extra></extra>",
         "hovertext": [
          "Liberia"
         ],
         "lat": [
          6.43
         ],
         "legendgroup": "65",
         "line": {
          "color": "#00cc96",
          "dash": "solid"
         },
         "lon": [
          -9.43
         ],
         "marker": {
          "symbol": "circle"
         },
         "mode": "lines",
         "name": "65",
         "showlegend": true,
         "type": "scattergeo"
        },
        {
         "customdata": [
          [
           "Wheat",
           190
          ]
         ],
         "geo": "geo",
         "hovertemplate": "<b>%{hovertext}</b><br><br>2012=%{customdata[1]}<br>latitude=%{lat}<br>longitude=%{lon}<br>Item=%{customdata[0]}<extra></extra>",
         "hovertext": [
          "Madagascar"
         ],
         "lat": [
          -18.77
         ],
         "legendgroup": "190",
         "line": {
          "color": "#ab63fa",
          "dash": "solid"
         },
         "lon": [
          46.87
         ],
         "marker": {
          "symbol": "circle"
         },
         "mode": "lines",
         "name": "190",
         "showlegend": true,
         "type": "scattergeo"
        },
        {
         "customdata": [
          [
           "Wheat",
           141
          ]
         ],
         "geo": "geo",
         "hovertemplate": "<b>%{hovertext}</b><br><br>2012=%{customdata[1]}<br>latitude=%{lat}<br>longitude=%{lon}<br>Item=%{customdata[0]}<extra></extra>",
         "hovertext": [
          "Malawi"
         ],
         "lat": [
          -13.25
         ],
         "legendgroup": "141",
         "line": {
          "color": "#FFA15A",
          "dash": "solid"
         },
         "lon": [
          34.3
         ],
         "marker": {
          "symbol": "circle"
         },
         "mode": "lines",
         "name": "141",
         "showlegend": true,
         "type": "scattergeo"
        },
        {
         "customdata": [
          [
           "Wheat",
           1489
          ]
         ],
         "geo": "geo",
         "hovertemplate": "<b>%{hovertext}</b><br><br>2012=%{customdata[1]}<br>latitude=%{lat}<br>longitude=%{lon}<br>Item=%{customdata[0]}<extra></extra>",
         "hovertext": [
          "Malaysia"
         ],
         "lat": [
          4.21
         ],
         "legendgroup": "1489",
         "line": {
          "color": "#19d3f3",
          "dash": "solid"
         },
         "lon": [
          101.98
         ],
         "marker": {
          "symbol": "circle"
         },
         "mode": "lines",
         "name": "1489",
         "showlegend": true,
         "type": "scattergeo"
        },
        {
         "customdata": [
          [
           "Wheat",
           27
          ]
         ],
         "geo": "geo",
         "hovertemplate": "<b>%{hovertext}</b><br><br>2012=%{customdata[1]}<br>latitude=%{lat}<br>longitude=%{lon}<br>Item=%{customdata[0]}<extra></extra>",
         "hovertext": [
          "Maldives"
         ],
         "lat": [
          3.2
         ],
         "legendgroup": "27",
         "line": {
          "color": "#FF6692",
          "dash": "solid"
         },
         "lon": [
          73.22
         ],
         "marker": {
          "symbol": "circle"
         },
         "mode": "lines",
         "name": "27",
         "showlegend": true,
         "type": "scattergeo"
        },
        {
         "customdata": [
          [
           "Wheat",
           184
          ]
         ],
         "geo": "geo",
         "hovertemplate": "<b>%{hovertext}</b><br><br>2012=%{customdata[1]}<br>latitude=%{lat}<br>longitude=%{lon}<br>Item=%{customdata[0]}<extra></extra>",
         "hovertext": [
          "Mali"
         ],
         "lat": [
          17.57
         ],
         "legendgroup": "184",
         "line": {
          "color": "#B6E880",
          "dash": "solid"
         },
         "lon": [
          -4
         ],
         "marker": {
          "symbol": "circle"
         },
         "mode": "lines",
         "name": "184",
         "showlegend": true,
         "type": "scattergeo"
        },
        {
         "customdata": [
          [
           "Wheat",
           59
          ]
         ],
         "geo": "geo",
         "hovertemplate": "<b>%{hovertext}</b><br><br>2012=%{customdata[1]}<br>latitude=%{lat}<br>longitude=%{lon}<br>Item=%{customdata[0]}<extra></extra>",
         "hovertext": [
          "Malta"
         ],
         "lat": [
          35.94
         ],
         "legendgroup": "59",
         "line": {
          "color": "#FF97FF",
          "dash": "solid"
         },
         "lon": [
          14.38
         ],
         "marker": {
          "symbol": "circle"
         },
         "mode": "lines",
         "name": "59",
         "showlegend": true,
         "type": "scattergeo"
        },
        {
         "customdata": [
          [
           "Wheat",
           393
          ]
         ],
         "geo": "geo",
         "hovertemplate": "<b>%{hovertext}</b><br><br>2012=%{customdata[1]}<br>latitude=%{lat}<br>longitude=%{lon}<br>Item=%{customdata[0]}<extra></extra>",
         "hovertext": [
          "Mauritania"
         ],
         "lat": [
          21.01
         ],
         "legendgroup": "393",
         "line": {
          "color": "#FECB52",
          "dash": "solid"
         },
         "lon": [
          -10.94
         ],
         "marker": {
          "symbol": "circle"
         },
         "mode": "lines",
         "name": "393",
         "showlegend": true,
         "type": "scattergeo"
        },
        {
         "customdata": [
          [
           "Wheat",
           131
          ]
         ],
         "geo": "geo",
         "hovertemplate": "<b>%{hovertext}</b><br><br>2012=%{customdata[1]}<br>latitude=%{lat}<br>longitude=%{lon}<br>Item=%{customdata[0]}<extra></extra>",
         "hovertext": [
          "Mauritius"
         ],
         "lat": [
          -20.35
         ],
         "legendgroup": "131",
         "line": {
          "color": "#636efa",
          "dash": "solid"
         },
         "lon": [
          57.55
         ],
         "marker": {
          "symbol": "circle"
         },
         "mode": "lines",
         "name": "131",
         "showlegend": true,
         "type": "scattergeo"
        },
        {
         "customdata": [
          [
           "Wheat",
           4104
          ]
         ],
         "geo": "geo",
         "hovertemplate": "<b>%{hovertext}</b><br><br>2012=%{customdata[1]}<br>latitude=%{lat}<br>longitude=%{lon}<br>Item=%{customdata[0]}<extra></extra>",
         "hovertext": [
          "Mexico"
         ],
         "lat": [
          23.63
         ],
         "legendgroup": "4104",
         "line": {
          "color": "#EF553B",
          "dash": "solid"
         },
         "lon": [
          -102.55
         ],
         "marker": {
          "symbol": "circle"
         },
         "mode": "lines",
         "name": "4104",
         "showlegend": true,
         "type": "scattergeo"
        },
        {
         "customdata": [
          [
           "Wheat",
           352
          ]
         ],
         "geo": "geo",
         "hovertemplate": "<b>%{hovertext}</b><br><br>2012=%{customdata[1]}<br>latitude=%{lat}<br>longitude=%{lon}<br>Item=%{customdata[0]}<extra></extra>",
         "hovertext": [
          "Mongolia"
         ],
         "lat": [
          46.86
         ],
         "legendgroup": "352",
         "line": {
          "color": "#00cc96",
          "dash": "solid"
         },
         "lon": [
          103.85
         ],
         "marker": {
          "symbol": "circle"
         },
         "mode": "lines",
         "name": "352",
         "showlegend": true,
         "type": "scattergeo"
        },
        {
         "customdata": [
          [
           "Wheat",
           5773
          ]
         ],
         "geo": "geo",
         "hovertemplate": "<b>%{hovertext}</b><br><br>2012=%{customdata[1]}<br>latitude=%{lat}<br>longitude=%{lon}<br>Item=%{customdata[0]}<extra></extra>",
         "hovertext": [
          "Morocco"
         ],
         "lat": [
          31.79
         ],
         "legendgroup": "5773",
         "line": {
          "color": "#ab63fa",
          "dash": "solid"
         },
         "lon": [
          -7.09
         ],
         "marker": {
          "symbol": "circle"
         },
         "mode": "lines",
         "name": "5773",
         "showlegend": true,
         "type": "scattergeo"
        },
        {
         "customdata": [
          [
           "Wheat",
           452
          ]
         ],
         "geo": "geo",
         "hovertemplate": "<b>%{hovertext}</b><br><br>2012=%{customdata[1]}<br>latitude=%{lat}<br>longitude=%{lon}<br>Item=%{customdata[0]}<extra></extra>",
         "hovertext": [
          "Mozambique"
         ],
         "lat": [
          -18.67
         ],
         "legendgroup": "452",
         "line": {
          "color": "#FFA15A",
          "dash": "solid"
         },
         "lon": [
          35.53
         ],
         "marker": {
          "symbol": "circle"
         },
         "mode": "lines",
         "name": "452",
         "showlegend": true,
         "type": "scattergeo"
        },
        {
         "customdata": [
          [
           "Wheat",
           385
          ]
         ],
         "geo": "geo",
         "hovertemplate": "<b>%{hovertext}</b><br><br>2012=%{customdata[1]}<br>latitude=%{lat}<br>longitude=%{lon}<br>Item=%{customdata[0]}<extra></extra>",
         "hovertext": [
          "Myanmar"
         ],
         "lat": [
          21.91
         ],
         "legendgroup": "385",
         "line": {
          "color": "#19d3f3",
          "dash": "solid"
         },
         "lon": [
          95.96
         ],
         "marker": {
          "symbol": "circle"
         },
         "mode": "lines",
         "name": "385",
         "showlegend": true,
         "type": "scattergeo"
        },
        {
         "customdata": [
          [
           "Wheat",
           1391
          ]
         ],
         "geo": "geo",
         "hovertemplate": "<b>%{hovertext}</b><br><br>2012=%{customdata[1]}<br>latitude=%{lat}<br>longitude=%{lon}<br>Item=%{customdata[0]}<extra></extra>",
         "hovertext": [
          "Nepal"
         ],
         "lat": [
          28.39
         ],
         "legendgroup": "1391",
         "line": {
          "color": "#FF6692",
          "dash": "solid"
         },
         "lon": [
          84.12
         ],
         "marker": {
          "symbol": "circle"
         },
         "mode": "lines",
         "name": "1391",
         "showlegend": true,
         "type": "scattergeo"
        },
        {
         "customdata": [
          [
           "Wheat",
           1197
          ]
         ],
         "geo": "geo",
         "hovertemplate": "<b>%{hovertext}</b><br><br>2012=%{customdata[1]}<br>latitude=%{lat}<br>longitude=%{lon}<br>Item=%{customdata[0]}<extra></extra>",
         "hovertext": [
          "Netherlands"
         ],
         "lat": [
          52.13
         ],
         "legendgroup": "1197",
         "line": {
          "color": "#B6E880",
          "dash": "solid"
         },
         "lon": [
          5.29
         ],
         "marker": {
          "symbol": "circle"
         },
         "mode": "lines",
         "name": "1197",
         "showlegend": true,
         "type": "scattergeo"
        },
        {
         "customdata": [
          [
           "Wheat",
           20
          ]
         ],
         "geo": "geo",
         "hovertemplate": "<b>%{hovertext}</b><br><br>2012=%{customdata[1]}<br>latitude=%{lat}<br>longitude=%{lon}<br>Item=%{customdata[0]}<extra></extra>",
         "hovertext": [
          "New Caledonia"
         ],
         "lat": [
          -20.9
         ],
         "legendgroup": "20",
         "line": {
          "color": "#FF97FF",
          "dash": "solid"
         },
         "lon": [
          165.62
         ],
         "marker": {
          "symbol": "circle"
         },
         "mode": "lines",
         "name": "20",
         "showlegend": true,
         "type": "scattergeo"
        },
        {
         "customdata": [
          [
           "Wheat",
           349
          ]
         ],
         "geo": "geo",
         "hovertemplate": "<b>%{hovertext}</b><br><br>2012=%{customdata[1]}<br>latitude=%{lat}<br>longitude=%{lon}<br>Item=%{customdata[0]}<extra></extra>",
         "hovertext": [
          "New Zealand"
         ],
         "lat": [
          -40.9
         ],
         "legendgroup": "349",
         "line": {
          "color": "#FECB52",
          "dash": "solid"
         },
         "lon": [
          174.89
         ],
         "marker": {
          "symbol": "circle"
         },
         "mode": "lines",
         "name": "349",
         "showlegend": true,
         "type": "scattergeo"
        },
        {
         "customdata": [
          [
           "Wheat",
           165
          ]
         ],
         "geo": "geo",
         "hovertemplate": "<b>%{hovertext}</b><br><br>2012=%{customdata[1]}<br>latitude=%{lat}<br>longitude=%{lon}<br>Item=%{customdata[0]}<extra></extra>",
         "hovertext": [
          "Nicaragua"
         ],
         "lat": [
          12.87
         ],
         "legendgroup": "165",
         "line": {
          "color": "#636efa",
          "dash": "solid"
         },
         "lon": [
          -85.21
         ],
         "marker": {
          "symbol": "circle"
         },
         "mode": "lines",
         "name": "165",
         "showlegend": true,
         "type": "scattergeo"
        },
        {
         "customdata": [
          [
           "Wheat",
           98
          ]
         ],
         "geo": "geo",
         "hovertemplate": "<b>%{hovertext}</b><br><br>2012=%{customdata[1]}<br>latitude=%{lat}<br>longitude=%{lon}<br>Item=%{customdata[0]}<extra></extra>",
         "hovertext": [
          "Niger"
         ],
         "lat": [
          17.61
         ],
         "legendgroup": "98",
         "line": {
          "color": "#EF553B",
          "dash": "solid"
         },
         "lon": [
          8.08
         ],
         "marker": {
          "symbol": "circle"
         },
         "mode": "lines",
         "name": "98",
         "showlegend": true,
         "type": "scattergeo"
        },
        {
         "customdata": [
          [
           "Wheat",
           2821
          ]
         ],
         "geo": "geo",
         "hovertemplate": "<b>%{hovertext}</b><br><br>2012=%{customdata[1]}<br>latitude=%{lat}<br>longitude=%{lon}<br>Item=%{customdata[0]}<extra></extra>",
         "hovertext": [
          "Nigeria"
         ],
         "lat": [
          9.08
         ],
         "legendgroup": "2821",
         "line": {
          "color": "#00cc96",
          "dash": "solid"
         },
         "lon": [
          8.68
         ],
         "marker": {
          "symbol": "circle"
         },
         "mode": "lines",
         "name": "2821",
         "showlegend": true,
         "type": "scattergeo"
        },
        {
         "customdata": [
          [
           "Wheat",
           487
          ]
         ],
         "geo": "geo",
         "hovertemplate": "<b>%{hovertext}</b><br><br>2012=%{customdata[1]}<br>latitude=%{lat}<br>longitude=%{lon}<br>Item=%{customdata[0]}<extra></extra>",
         "hovertext": [
          "Norway"
         ],
         "lat": [
          60.47
         ],
         "legendgroup": "487",
         "line": {
          "color": "#ab63fa",
          "dash": "solid"
         },
         "lon": [
          8.47
         ],
         "marker": {
          "symbol": "circle"
         },
         "mode": "lines",
         "name": "487",
         "showlegend": true,
         "type": "scattergeo"
        },
        {
         "customdata": [
          [
           "Wheat",
           20473
          ]
         ],
         "geo": "geo",
         "hovertemplate": "<b>%{hovertext}</b><br><br>2012=%{customdata[1]}<br>latitude=%{lat}<br>longitude=%{lon}<br>Item=%{customdata[0]}<extra></extra>",
         "hovertext": [
          "Pakistan"
         ],
         "lat": [
          30.38
         ],
         "legendgroup": "20473",
         "line": {
          "color": "#FFA15A",
          "dash": "solid"
         },
         "lon": [
          69.35
         ],
         "marker": {
          "symbol": "circle"
         },
         "mode": "lines",
         "name": "20473",
         "showlegend": true,
         "type": "scattergeo"
        },
        {
         "customdata": [
          [
           "Wheat",
           155
          ]
         ],
         "geo": "geo",
         "hovertemplate": "<b>%{hovertext}</b><br><br>2012=%{customdata[1]}<br>latitude=%{lat}<br>longitude=%{lon}<br>Item=%{customdata[0]}<extra></extra>",
         "hovertext": [
          "Panama"
         ],
         "lat": [
          8.54
         ],
         "legendgroup": "155",
         "line": {
          "color": "#19d3f3",
          "dash": "solid"
         },
         "lon": [
          -80.78
         ],
         "marker": {
          "symbol": "circle"
         },
         "mode": "lines",
         "name": "155",
         "showlegend": true,
         "type": "scattergeo"
        },
        {
         "customdata": [
          [
           "Wheat",
           210
          ]
         ],
         "geo": "geo",
         "hovertemplate": "<b>%{hovertext}</b><br><br>2012=%{customdata[1]}<br>latitude=%{lat}<br>longitude=%{lon}<br>Item=%{customdata[0]}<extra></extra>",
         "hovertext": [
          "Paraguay"
         ],
         "lat": [
          -23.44
         ],
         "legendgroup": "210",
         "line": {
          "color": "#FF6692",
          "dash": "solid"
         },
         "lon": [
          -58.44
         ],
         "marker": {
          "symbol": "circle"
         },
         "mode": "lines",
         "name": "210",
         "showlegend": true,
         "type": "scattergeo"
        },
        {
         "customdata": [
          [
           "Wheat",
           1658
          ]
         ],
         "geo": "geo",
         "hovertemplate": "<b>%{hovertext}</b><br><br>2012=%{customdata[1]}<br>latitude=%{lat}<br>longitude=%{lon}<br>Item=%{customdata[0]}<extra></extra>",
         "hovertext": [
          "Peru"
         ],
         "lat": [
          -9.19
         ],
         "legendgroup": "1658",
         "line": {
          "color": "#B6E880",
          "dash": "solid"
         },
         "lon": [
          -75.02
         ],
         "marker": {
          "symbol": "circle"
         },
         "mode": "lines",
         "name": "1658",
         "showlegend": true,
         "type": "scattergeo"
        },
        {
         "customdata": [
          [
           "Wheat",
           1906
          ]
         ],
         "geo": "geo",
         "hovertemplate": "<b>%{hovertext}</b><br><br>2012=%{customdata[1]}<br>latitude=%{lat}<br>longitude=%{lon}<br>Item=%{customdata[0]}<extra></extra>",
         "hovertext": [
          "Philippines"
         ],
         "lat": [
          12.88
         ],
         "legendgroup": "1906",
         "line": {
          "color": "#FF97FF",
          "dash": "solid"
         },
         "lon": [
          121.77
         ],
         "marker": {
          "symbol": "circle"
         },
         "mode": "lines",
         "name": "1906",
         "showlegend": true,
         "type": "scattergeo"
        },
        {
         "customdata": [
          [
           "Wheat",
           4147
          ]
         ],
         "geo": "geo",
         "hovertemplate": "<b>%{hovertext}</b><br><br>2012=%{customdata[1]}<br>latitude=%{lat}<br>longitude=%{lon}<br>Item=%{customdata[0]}<extra></extra>",
         "hovertext": [
          "Poland"
         ],
         "lat": [
          51.92
         ],
         "legendgroup": "4147",
         "line": {
          "color": "#FECB52",
          "dash": "solid"
         },
         "lon": [
          19.15
         ],
         "marker": {
          "symbol": "circle"
         },
         "mode": "lines",
         "name": "4147",
         "showlegend": true,
         "type": "scattergeo"
        },
        {
         "customdata": [
          [
           "Wheat",
           994
          ]
         ],
         "geo": "geo",
         "hovertemplate": "<b>%{hovertext}</b><br><br>2012=%{customdata[1]}<br>latitude=%{lat}<br>longitude=%{lon}<br>Item=%{customdata[0]}<extra></extra>",
         "hovertext": [
          "Portugal"
         ],
         "lat": [
          39.4
         ],
         "legendgroup": "994",
         "line": {
          "color": "#636efa",
          "dash": "solid"
         },
         "lon": [
          -8.22
         ],
         "marker": {
          "symbol": "circle"
         },
         "mode": "lines",
         "name": "994",
         "showlegend": true,
         "type": "scattergeo"
        },
        {
         "customdata": [
          [
           "Wheat",
           2497
          ]
         ],
         "geo": "geo",
         "hovertemplate": "<b>%{hovertext}</b><br><br>2012=%{customdata[1]}<br>latitude=%{lat}<br>longitude=%{lon}<br>Item=%{customdata[0]}<extra></extra>",
         "hovertext": [
          "Korea"
         ],
         "lat": [
          35.91
         ],
         "legendgroup": "2497",
         "line": {
          "color": "#EF553B",
          "dash": "solid"
         },
         "lon": [
          127.77
         ],
         "marker": {
          "symbol": "circle"
         },
         "mode": "lines",
         "name": "2497",
         "showlegend": true,
         "type": "scattergeo"
        },
        {
         "customdata": [
          [
           "Wheat",
           2915
          ]
         ],
         "geo": "geo",
         "hovertemplate": "<b>%{hovertext}</b><br><br>2012=%{customdata[1]}<br>latitude=%{lat}<br>longitude=%{lon}<br>Item=%{customdata[0]}<extra></extra>",
         "hovertext": [
          "Romania"
         ],
         "lat": [
          45.94
         ],
         "legendgroup": "2915",
         "line": {
          "color": "#00cc96",
          "dash": "solid"
         },
         "lon": [
          24.97
         ],
         "marker": {
          "symbol": "circle"
         },
         "mode": "lines",
         "name": "2915",
         "showlegend": true,
         "type": "scattergeo"
        },
        {
         "customdata": [
          [
           "Wheat",
           117
          ]
         ],
         "geo": "geo",
         "hovertemplate": "<b>%{hovertext}</b><br><br>2012=%{customdata[1]}<br>latitude=%{lat}<br>longitude=%{lon}<br>Item=%{customdata[0]}<extra></extra>",
         "hovertext": [
          "Rwanda"
         ],
         "lat": [
          -1.94
         ],
         "legendgroup": "117",
         "line": {
          "color": "#ab63fa",
          "dash": "solid"
         },
         "lon": [
          29.87
         ],
         "marker": {
          "symbol": "circle"
         },
         "mode": "lines",
         "name": "117",
         "showlegend": true,
         "type": "scattergeo"
        },
        {
         "customdata": [
          [
           "Wheat",
           3
          ]
         ],
         "geo": "geo",
         "hovertemplate": "<b>%{hovertext}</b><br><br>2012=%{customdata[1]}<br>latitude=%{lat}<br>longitude=%{lon}<br>Item=%{customdata[0]}<extra></extra>",
         "hovertext": [
          "SaintKitts&Nevis"
         ],
         "lat": [
          17.36
         ],
         "legendgroup": "3",
         "line": {
          "color": "#FFA15A",
          "dash": "solid"
         },
         "lon": [
          -62.78
         ],
         "marker": {
          "symbol": "circle"
         },
         "mode": "lines",
         "name": "3",
         "showlegend": true,
         "type": "scattergeo"
        },
        {
         "customdata": [
          [
           "Wheat",
           8
          ]
         ],
         "geo": "geo",
         "hovertemplate": "<b>%{hovertext}</b><br><br>2012=%{customdata[1]}<br>latitude=%{lat}<br>longitude=%{lon}<br>Item=%{customdata[0]}<extra></extra>",
         "hovertext": [
          "Saint Vincent"
         ],
         "lat": [
          12.98
         ],
         "legendgroup": "8",
         "line": {
          "color": "#19d3f3",
          "dash": "solid"
         },
         "lon": [
          -61.29
         ],
         "marker": {
          "symbol": "circle"
         },
         "mode": "lines",
         "name": "8",
         "showlegend": true,
         "type": "scattergeo"
        },
        {
         "customdata": [
          [
           "Wheat",
           11
          ],
          [
           "Wheat",
           11
          ]
         ],
         "geo": "geo",
         "hovertemplate": "<b>%{hovertext}</b><br><br>2012=%{customdata[1]}<br>latitude=%{lat}<br>longitude=%{lon}<br>Item=%{customdata[0]}<extra></extra>",
         "hovertext": [
          "Samoa",
          "Vanuatu"
         ],
         "lat": [
          -13.76,
          -15.38
         ],
         "legendgroup": "11",
         "line": {
          "color": "#FF6692",
          "dash": "solid"
         },
         "lon": [
          -172.1,
          166.96
         ],
         "marker": {
          "symbol": "circle"
         },
         "mode": "lines",
         "name": "11",
         "showlegend": true,
         "type": "scattergeo"
        },
        {
         "customdata": [
          [
           "Wheat",
           10
          ]
         ],
         "geo": "geo",
         "hovertemplate": "<b>%{hovertext}</b><br><br>2012=%{customdata[1]}<br>latitude=%{lat}<br>longitude=%{lon}<br>Item=%{customdata[0]}<extra></extra>",
         "hovertext": [
          "SaoTome&Principe"
         ],
         "lat": [
          0.19
         ],
         "legendgroup": "10",
         "line": {
          "color": "#B6E880",
          "dash": "solid"
         },
         "lon": [
          6.61
         ],
         "marker": {
          "symbol": "circle"
         },
         "mode": "lines",
         "name": "10",
         "showlegend": true,
         "type": "scattergeo"
        },
        {
         "customdata": [
          [
           "Wheat",
           2528
          ]
         ],
         "geo": "geo",
         "hovertemplate": "<b>%{hovertext}</b><br><br>2012=%{customdata[1]}<br>latitude=%{lat}<br>longitude=%{lon}<br>Item=%{customdata[0]}<extra></extra>",
         "hovertext": [
          "Saudi Arabia"
         ],
         "lat": [
          23.89
         ],
         "legendgroup": "2528",
         "line": {
          "color": "#FF97FF",
          "dash": "solid"
         },
         "lon": [
          45.08
         ],
         "marker": {
          "symbol": "circle"
         },
         "mode": "lines",
         "name": "2528",
         "showlegend": true,
         "type": "scattergeo"
        },
        {
         "customdata": [
          [
           "Wheat",
           504
          ]
         ],
         "geo": "geo",
         "hovertemplate": "<b>%{hovertext}</b><br><br>2012=%{customdata[1]}<br>latitude=%{lat}<br>longitude=%{lon}<br>Item=%{customdata[0]}<extra></extra>",
         "hovertext": [
          "Senegal"
         ],
         "lat": [
          14.5
         ],
         "legendgroup": "504",
         "line": {
          "color": "#FECB52",
          "dash": "solid"
         },
         "lon": [
          -14.45
         ],
         "marker": {
          "symbol": "circle"
         },
         "mode": "lines",
         "name": "504",
         "showlegend": true,
         "type": "scattergeo"
        },
        {
         "customdata": [
          [
           "Wheat",
           57
          ],
          [
           "Wheat",
           57
          ]
         ],
         "geo": "geo",
         "hovertemplate": "<b>%{hovertext}</b><br><br>2012=%{customdata[1]}<br>latitude=%{lat}<br>longitude=%{lon}<br>Item=%{customdata[0]}<extra></extra>",
         "hovertext": [
          "Sierra Leone",
          "Swaziland"
         ],
         "lat": [
          8.46,
          -26.52
         ],
         "legendgroup": "57",
         "line": {
          "color": "#636efa",
          "dash": "solid"
         },
         "lon": [
          -11.78,
          31.47
         ],
         "marker": {
          "symbol": "circle"
         },
         "mode": "lines",
         "name": "57",
         "showlegend": true,
         "type": "scattergeo"
        },
        {
         "customdata": [
          [
           "Wheat",
           15
          ]
         ],
         "geo": "geo",
         "hovertemplate": "<b>%{hovertext}</b><br><br>2012=%{customdata[1]}<br>latitude=%{lat}<br>longitude=%{lon}<br>Item=%{customdata[0]}<extra></extra>",
         "hovertext": [
          "Solomon Islands"
         ],
         "lat": [
          -9.65
         ],
         "legendgroup": "15",
         "line": {
          "color": "#EF553B",
          "dash": "solid"
         },
         "lon": [
          160.16
         ],
         "marker": {
          "symbol": "circle"
         },
         "mode": "lines",
         "name": "15",
         "showlegend": true,
         "type": "scattergeo"
        },
        {
         "customdata": [
          [
           "Wheat",
           3143
          ]
         ],
         "geo": "geo",
         "hovertemplate": "<b>%{hovertext}</b><br><br>2012=%{customdata[1]}<br>latitude=%{lat}<br>longitude=%{lon}<br>Item=%{customdata[0]}<extra></extra>",
         "hovertext": [
          "South Africa"
         ],
         "lat": [
          -30.56
         ],
         "legendgroup": "3143",
         "line": {
          "color": "#00cc96",
          "dash": "solid"
         },
         "lon": [
          22.94
         ],
         "marker": {
          "symbol": "circle"
         },
         "mode": "lines",
         "name": "3143",
         "showlegend": true,
         "type": "scattergeo"
        },
        {
         "customdata": [
          [
           "Wheat",
           4411
          ]
         ],
         "geo": "geo",
         "hovertemplate": "<b>%{hovertext}</b><br><br>2012=%{customdata[1]}<br>latitude=%{lat}<br>longitude=%{lon}<br>Item=%{customdata[0]}<extra></extra>",
         "hovertext": [
          "Spain"
         ],
         "lat": [
          40.46
         ],
         "legendgroup": "4411",
         "line": {
          "color": "#ab63fa",
          "dash": "solid"
         },
         "lon": [
          -3.75
         ],
         "marker": {
          "symbol": "circle"
         },
         "mode": "lines",
         "name": "4411",
         "showlegend": true,
         "type": "scattergeo"
        },
        {
         "customdata": [
          [
           "Wheat",
           807
          ],
          [
           "Wheat",
           807
          ]
         ],
         "geo": "geo",
         "hovertemplate": "<b>%{hovertext}</b><br><br>2012=%{customdata[1]}<br>latitude=%{lat}<br>longitude=%{lon}<br>Item=%{customdata[0]}<extra></extra>",
         "hovertext": [
          "Sri Lanka",
          "Thailand"
         ],
         "lat": [
          7.87,
          15.87
         ],
         "legendgroup": "807",
         "line": {
          "color": "#FFA15A",
          "dash": "solid"
         },
         "lon": [
          80.77,
          100.99
         ],
         "marker": {
          "symbol": "circle"
         },
         "mode": "lines",
         "name": "807",
         "showlegend": true,
         "type": "scattergeo"
        },
        {
         "customdata": [
          [
           "Wheat",
           28
          ]
         ],
         "geo": "geo",
         "hovertemplate": "<b>%{hovertext}</b><br><br>2012=%{customdata[1]}<br>latitude=%{lat}<br>longitude=%{lon}<br>Item=%{customdata[0]}<extra></extra>",
         "hovertext": [
          "Suriname"
         ],
         "lat": [
          3.92
         ],
         "legendgroup": "28",
         "line": {
          "color": "#19d3f3",
          "dash": "solid"
         },
         "lon": [
          -56.03
         ],
         "marker": {
          "symbol": "circle"
         },
         "mode": "lines",
         "name": "28",
         "showlegend": true,
         "type": "scattergeo"
        },
        {
         "customdata": [
          [
           "Wheat",
           730
          ]
         ],
         "geo": "geo",
         "hovertemplate": "<b>%{hovertext}</b><br><br>2012=%{customdata[1]}<br>latitude=%{lat}<br>longitude=%{lon}<br>Item=%{customdata[0]}<extra></extra>",
         "hovertext": [
          "Sweden"
         ],
         "lat": [
          60.13
         ],
         "legendgroup": "730",
         "line": {
          "color": "#FF6692",
          "dash": "solid"
         },
         "lon": [
          18.64
         ],
         "marker": {
          "symbol": "circle"
         },
         "mode": "lines",
         "name": "730",
         "showlegend": true,
         "type": "scattergeo"
        },
        {
         "customdata": [
          [
           "Wheat",
           718
          ]
         ],
         "geo": "geo",
         "hovertemplate": "<b>%{hovertext}</b><br><br>2012=%{customdata[1]}<br>latitude=%{lat}<br>longitude=%{lon}<br>Item=%{customdata[0]}<extra></extra>",
         "hovertext": [
          "Switzerland"
         ],
         "lat": [
          46.82
         ],
         "legendgroup": "718",
         "line": {
          "color": "#B6E880",
          "dash": "solid"
         },
         "lon": [
          8.23
         ],
         "marker": {
          "symbol": "circle"
         },
         "mode": "lines",
         "name": "718",
         "showlegend": true,
         "type": "scattergeo"
        },
        {
         "customdata": [
          [
           "Wheat",
           86
          ]
         ],
         "geo": "geo",
         "hovertemplate": "<b>%{hovertext}</b><br><br>2012=%{customdata[1]}<br>latitude=%{lat}<br>longitude=%{lon}<br>Item=%{customdata[0]}<extra></extra>",
         "hovertext": [
          "Togo"
         ],
         "lat": [
          8.62
         ],
         "legendgroup": "86",
         "line": {
          "color": "#FF97FF",
          "dash": "solid"
         },
         "lon": [
          0.82
         ],
         "marker": {
          "symbol": "circle"
         },
         "mode": "lines",
         "name": "86",
         "showlegend": true,
         "type": "scattergeo"
        },
        {
         "customdata": [
          [
           "Wheat",
           121
          ]
         ],
         "geo": "geo",
         "hovertemplate": "<b>%{hovertext}</b><br><br>2012=%{customdata[1]}<br>latitude=%{lat}<br>longitude=%{lon}<br>Item=%{customdata[0]}<extra></extra>",
         "hovertext": [
          "Trinidad&Tobago"
         ],
         "lat": [
          10.69
         ],
         "legendgroup": "121",
         "line": {
          "color": "#FECB52",
          "dash": "solid"
         },
         "lon": [
          -61.22
         ],
         "marker": {
          "symbol": "circle"
         },
         "mode": "lines",
         "name": "121",
         "showlegend": true,
         "type": "scattergeo"
        },
        {
         "customdata": [
          [
           "Wheat",
           2226
          ]
         ],
         "geo": "geo",
         "hovertemplate": "<b>%{hovertext}</b><br><br>2012=%{customdata[1]}<br>latitude=%{lat}<br>longitude=%{lon}<br>Item=%{customdata[0]}<extra></extra>",
         "hovertext": [
          "Tunisia"
         ],
         "lat": [
          33.89
         ],
         "legendgroup": "2226",
         "line": {
          "color": "#636efa",
          "dash": "solid"
         },
         "lon": [
          9.54
         ],
         "marker": {
          "symbol": "circle"
         },
         "mode": "lines",
         "name": "2226",
         "showlegend": true,
         "type": "scattergeo"
        },
        {
         "customdata": [
          [
           "Wheat",
           12627
          ]
         ],
         "geo": "geo",
         "hovertemplate": "<b>%{hovertext}</b><br><br>2012=%{customdata[1]}<br>latitude=%{lat}<br>longitude=%{lon}<br>Item=%{customdata[0]}<extra></extra>",
         "hovertext": [
          "Turkey"
         ],
         "lat": [
          38.96
         ],
         "legendgroup": "12627",
         "line": {
          "color": "#EF553B",
          "dash": "solid"
         },
         "lon": [
          35.24
         ],
         "marker": {
          "symbol": "circle"
         },
         "mode": "lines",
         "name": "12627",
         "showlegend": true,
         "type": "scattergeo"
        },
        {
         "customdata": [
          [
           "Wheat",
           493
          ]
         ],
         "geo": "geo",
         "hovertemplate": "<b>%{hovertext}</b><br><br>2012=%{customdata[1]}<br>latitude=%{lat}<br>longitude=%{lon}<br>Item=%{customdata[0]}<extra></extra>",
         "hovertext": [
          "Uganda"
         ],
         "lat": [
          1.37
         ],
         "legendgroup": "493",
         "line": {
          "color": "#00cc96",
          "dash": "solid"
         },
         "lon": [
          32.29
         ],
         "marker": {
          "symbol": "circle"
         },
         "mode": "lines",
         "name": "493",
         "showlegend": true,
         "type": "scattergeo"
        },
        {
         "customdata": [
          [
           "Wheat",
           945
          ]
         ],
         "geo": "geo",
         "hovertemplate": "<b>%{hovertext}</b><br><br>2012=%{customdata[1]}<br>latitude=%{lat}<br>longitude=%{lon}<br>Item=%{customdata[0]}<extra></extra>",
         "hovertext": [
          "UAE"
         ],
         "lat": [
          23.42
         ],
         "legendgroup": "945",
         "line": {
          "color": "#ab63fa",
          "dash": "solid"
         },
         "lon": [
          53.85
         ],
         "marker": {
          "symbol": "circle"
         },
         "mode": "lines",
         "name": "945",
         "showlegend": true,
         "type": "scattergeo"
        },
        {
         "customdata": [
          [
           "Wheat",
           6145
          ]
         ],
         "geo": "geo",
         "hovertemplate": "<b>%{hovertext}</b><br><br>2012=%{customdata[1]}<br>latitude=%{lat}<br>longitude=%{lon}<br>Item=%{customdata[0]}<extra></extra>",
         "hovertext": [
          "United Kingdom"
         ],
         "lat": [
          55.38
         ],
         "legendgroup": "6145",
         "line": {
          "color": "#FFA15A",
          "dash": "solid"
         },
         "lon": [
          -3.44
         ],
         "marker": {
          "symbol": "circle"
         },
         "mode": "lines",
         "name": "6145",
         "showlegend": true,
         "type": "scattergeo"
        },
        {
         "customdata": [
          [
           "Wheat",
           750
          ]
         ],
         "geo": "geo",
         "hovertemplate": "<b>%{hovertext}</b><br><br>2012=%{customdata[1]}<br>latitude=%{lat}<br>longitude=%{lon}<br>Item=%{customdata[0]}<extra></extra>",
         "hovertext": [
          "Tanzania"
         ],
         "lat": [
          -6.37
         ],
         "legendgroup": "750",
         "line": {
          "color": "#19d3f3",
          "dash": "solid"
         },
         "lon": [
          34.89
         ],
         "marker": {
          "symbol": "circle"
         },
         "mode": "lines",
         "name": "750",
         "showlegend": true,
         "type": "scattergeo"
        },
        {
         "customdata": [
          [
           "Wheat",
           25757
          ]
         ],
         "geo": "geo",
         "hovertemplate": "<b>%{hovertext}</b><br><br>2012=%{customdata[1]}<br>latitude=%{lat}<br>longitude=%{lon}<br>Item=%{customdata[0]}<extra></extra>",
         "hovertext": [
          "America"
         ],
         "lat": [
          37.09
         ],
         "legendgroup": "25757",
         "line": {
          "color": "#FF6692",
          "dash": "solid"
         },
         "lon": [
          -95.71
         ],
         "marker": {
          "symbol": "circle"
         },
         "mode": "lines",
         "name": "25757",
         "showlegend": true,
         "type": "scattergeo"
        },
        {
         "customdata": [
          [
           "Wheat",
           367
          ]
         ],
         "geo": "geo",
         "hovertemplate": "<b>%{hovertext}</b><br><br>2012=%{customdata[1]}<br>latitude=%{lat}<br>longitude=%{lon}<br>Item=%{customdata[0]}<extra></extra>",
         "hovertext": [
          "Uruguay"
         ],
         "lat": [
          -32.52
         ],
         "legendgroup": "367",
         "line": {
          "color": "#B6E880",
          "dash": "solid"
         },
         "lon": [
          -55.77
         ],
         "marker": {
          "symbol": "circle"
         },
         "mode": "lines",
         "name": "367",
         "showlegend": true,
         "type": "scattergeo"
        },
        {
         "customdata": [
          [
           "Wheat",
           1504
          ]
         ],
         "geo": "geo",
         "hovertemplate": "<b>%{hovertext}</b><br><br>2012=%{customdata[1]}<br>latitude=%{lat}<br>longitude=%{lon}<br>Item=%{customdata[0]}<extra></extra>",
         "hovertext": [
          "Venezuela"
         ],
         "lat": [
          6.42
         ],
         "legendgroup": "1504",
         "line": {
          "color": "#FF97FF",
          "dash": "solid"
         },
         "lon": [
          -66.59
         ],
         "marker": {
          "symbol": "circle"
         },
         "mode": "lines",
         "name": "1504",
         "showlegend": true,
         "type": "scattergeo"
        },
        {
         "customdata": [
          [
           "Wheat",
           1015
          ]
         ],
         "geo": "geo",
         "hovertemplate": "<b>%{hovertext}</b><br><br>2012=%{customdata[1]}<br>latitude=%{lat}<br>longitude=%{lon}<br>Item=%{customdata[0]}<extra></extra>",
         "hovertext": [
          "Vietnam"
         ],
         "lat": [
          14.06
         ],
         "legendgroup": "1015",
         "line": {
          "color": "#FECB52",
          "dash": "solid"
         },
         "lon": [
          108.28
         ],
         "marker": {
          "symbol": "circle"
         },
         "mode": "lines",
         "name": "1015",
         "showlegend": true,
         "type": "scattergeo"
        },
        {
         "customdata": [
          [
           "Wheat",
           2604
          ]
         ],
         "geo": "geo",
         "hovertemplate": "<b>%{hovertext}</b><br><br>2012=%{customdata[1]}<br>latitude=%{lat}<br>longitude=%{lon}<br>Item=%{customdata[0]}<extra></extra>",
         "hovertext": [
          "Yemen"
         ],
         "lat": [
          15.55
         ],
         "legendgroup": "2604",
         "line": {
          "color": "#636efa",
          "dash": "solid"
         },
         "lon": [
          48.52
         ],
         "marker": {
          "symbol": "circle"
         },
         "mode": "lines",
         "name": "2604",
         "showlegend": true,
         "type": "scattergeo"
        },
        {
         "customdata": [
          [
           "Wheat",
           433
          ]
         ],
         "geo": "geo",
         "hovertemplate": "<b>%{hovertext}</b><br><br>2012=%{customdata[1]}<br>latitude=%{lat}<br>longitude=%{lon}<br>Item=%{customdata[0]}<extra></extra>",
         "hovertext": [
          "Zimbabwe"
         ],
         "lat": [
          -19.02
         ],
         "legendgroup": "433",
         "line": {
          "color": "#EF553B",
          "dash": "solid"
         },
         "lon": [
          29.15
         ],
         "marker": {
          "symbol": "circle"
         },
         "mode": "lines",
         "name": "433",
         "showlegend": true,
         "type": "scattergeo"
        }
       ],
       "layout": {
        "geo": {
         "center": {},
         "domain": {
          "x": [
           0,
           1
          ],
          "y": [
           0,
           1
          ]
         }
        },
        "legend": {
         "title": {
          "text": "2012"
         },
         "tracegroupgap": 0
        },
        "mapbox": {
         "style": "open-street-map"
        },
        "margin": {
         "t": 60
        },
        "template": {
         "data": {
          "bar": [
           {
            "error_x": {
             "color": "#2a3f5f"
            },
            "error_y": {
             "color": "#2a3f5f"
            },
            "marker": {
             "line": {
              "color": "#E5ECF6",
              "width": 0.5
             },
             "pattern": {
              "fillmode": "overlay",
              "size": 10,
              "solidity": 0.2
             }
            },
            "type": "bar"
           }
          ],
          "barpolar": [
           {
            "marker": {
             "line": {
              "color": "#E5ECF6",
              "width": 0.5
             },
             "pattern": {
              "fillmode": "overlay",
              "size": 10,
              "solidity": 0.2
             }
            },
            "type": "barpolar"
           }
          ],
          "carpet": [
           {
            "aaxis": {
             "endlinecolor": "#2a3f5f",
             "gridcolor": "white",
             "linecolor": "white",
             "minorgridcolor": "white",
             "startlinecolor": "#2a3f5f"
            },
            "baxis": {
             "endlinecolor": "#2a3f5f",
             "gridcolor": "white",
             "linecolor": "white",
             "minorgridcolor": "white",
             "startlinecolor": "#2a3f5f"
            },
            "type": "carpet"
           }
          ],
          "choropleth": [
           {
            "colorbar": {
             "outlinewidth": 0,
             "ticks": ""
            },
            "type": "choropleth"
           }
          ],
          "contour": [
           {
            "colorbar": {
             "outlinewidth": 0,
             "ticks": ""
            },
            "colorscale": [
             [
              0,
              "#0d0887"
             ],
             [
              0.1111111111111111,
              "#46039f"
             ],
             [
              0.2222222222222222,
              "#7201a8"
             ],
             [
              0.3333333333333333,
              "#9c179e"
             ],
             [
              0.4444444444444444,
              "#bd3786"
             ],
             [
              0.5555555555555556,
              "#d8576b"
             ],
             [
              0.6666666666666666,
              "#ed7953"
             ],
             [
              0.7777777777777778,
              "#fb9f3a"
             ],
             [
              0.8888888888888888,
              "#fdca26"
             ],
             [
              1,
              "#f0f921"
             ]
            ],
            "type": "contour"
           }
          ],
          "contourcarpet": [
           {
            "colorbar": {
             "outlinewidth": 0,
             "ticks": ""
            },
            "type": "contourcarpet"
           }
          ],
          "heatmap": [
           {
            "colorbar": {
             "outlinewidth": 0,
             "ticks": ""
            },
            "colorscale": [
             [
              0,
              "#0d0887"
             ],
             [
              0.1111111111111111,
              "#46039f"
             ],
             [
              0.2222222222222222,
              "#7201a8"
             ],
             [
              0.3333333333333333,
              "#9c179e"
             ],
             [
              0.4444444444444444,
              "#bd3786"
             ],
             [
              0.5555555555555556,
              "#d8576b"
             ],
             [
              0.6666666666666666,
              "#ed7953"
             ],
             [
              0.7777777777777778,
              "#fb9f3a"
             ],
             [
              0.8888888888888888,
              "#fdca26"
             ],
             [
              1,
              "#f0f921"
             ]
            ],
            "type": "heatmap"
           }
          ],
          "heatmapgl": [
           {
            "colorbar": {
             "outlinewidth": 0,
             "ticks": ""
            },
            "colorscale": [
             [
              0,
              "#0d0887"
             ],
             [
              0.1111111111111111,
              "#46039f"
             ],
             [
              0.2222222222222222,
              "#7201a8"
             ],
             [
              0.3333333333333333,
              "#9c179e"
             ],
             [
              0.4444444444444444,
              "#bd3786"
             ],
             [
              0.5555555555555556,
              "#d8576b"
             ],
             [
              0.6666666666666666,
              "#ed7953"
             ],
             [
              0.7777777777777778,
              "#fb9f3a"
             ],
             [
              0.8888888888888888,
              "#fdca26"
             ],
             [
              1,
              "#f0f921"
             ]
            ],
            "type": "heatmapgl"
           }
          ],
          "histogram": [
           {
            "marker": {
             "pattern": {
              "fillmode": "overlay",
              "size": 10,
              "solidity": 0.2
             }
            },
            "type": "histogram"
           }
          ],
          "histogram2d": [
           {
            "colorbar": {
             "outlinewidth": 0,
             "ticks": ""
            },
            "colorscale": [
             [
              0,
              "#0d0887"
             ],
             [
              0.1111111111111111,
              "#46039f"
             ],
             [
              0.2222222222222222,
              "#7201a8"
             ],
             [
              0.3333333333333333,
              "#9c179e"
             ],
             [
              0.4444444444444444,
              "#bd3786"
             ],
             [
              0.5555555555555556,
              "#d8576b"
             ],
             [
              0.6666666666666666,
              "#ed7953"
             ],
             [
              0.7777777777777778,
              "#fb9f3a"
             ],
             [
              0.8888888888888888,
              "#fdca26"
             ],
             [
              1,
              "#f0f921"
             ]
            ],
            "type": "histogram2d"
           }
          ],
          "histogram2dcontour": [
           {
            "colorbar": {
             "outlinewidth": 0,
             "ticks": ""
            },
            "colorscale": [
             [
              0,
              "#0d0887"
             ],
             [
              0.1111111111111111,
              "#46039f"
             ],
             [
              0.2222222222222222,
              "#7201a8"
             ],
             [
              0.3333333333333333,
              "#9c179e"
             ],
             [
              0.4444444444444444,
              "#bd3786"
             ],
             [
              0.5555555555555556,
              "#d8576b"
             ],
             [
              0.6666666666666666,
              "#ed7953"
             ],
             [
              0.7777777777777778,
              "#fb9f3a"
             ],
             [
              0.8888888888888888,
              "#fdca26"
             ],
             [
              1,
              "#f0f921"
             ]
            ],
            "type": "histogram2dcontour"
           }
          ],
          "mesh3d": [
           {
            "colorbar": {
             "outlinewidth": 0,
             "ticks": ""
            },
            "type": "mesh3d"
           }
          ],
          "parcoords": [
           {
            "line": {
             "colorbar": {
              "outlinewidth": 0,
              "ticks": ""
             }
            },
            "type": "parcoords"
           }
          ],
          "pie": [
           {
            "automargin": true,
            "type": "pie"
           }
          ],
          "scatter": [
           {
            "fillpattern": {
             "fillmode": "overlay",
             "size": 10,
             "solidity": 0.2
            },
            "type": "scatter"
           }
          ],
          "scatter3d": [
           {
            "line": {
             "colorbar": {
              "outlinewidth": 0,
              "ticks": ""
             }
            },
            "marker": {
             "colorbar": {
              "outlinewidth": 0,
              "ticks": ""
             }
            },
            "type": "scatter3d"
           }
          ],
          "scattercarpet": [
           {
            "marker": {
             "colorbar": {
              "outlinewidth": 0,
              "ticks": ""
             }
            },
            "type": "scattercarpet"
           }
          ],
          "scattergeo": [
           {
            "marker": {
             "colorbar": {
              "outlinewidth": 0,
              "ticks": ""
             }
            },
            "type": "scattergeo"
           }
          ],
          "scattergl": [
           {
            "marker": {
             "colorbar": {
              "outlinewidth": 0,
              "ticks": ""
             }
            },
            "type": "scattergl"
           }
          ],
          "scattermapbox": [
           {
            "marker": {
             "colorbar": {
              "outlinewidth": 0,
              "ticks": ""
             }
            },
            "type": "scattermapbox"
           }
          ],
          "scatterpolar": [
           {
            "marker": {
             "colorbar": {
              "outlinewidth": 0,
              "ticks": ""
             }
            },
            "type": "scatterpolar"
           }
          ],
          "scatterpolargl": [
           {
            "marker": {
             "colorbar": {
              "outlinewidth": 0,
              "ticks": ""
             }
            },
            "type": "scatterpolargl"
           }
          ],
          "scatterternary": [
           {
            "marker": {
             "colorbar": {
              "outlinewidth": 0,
              "ticks": ""
             }
            },
            "type": "scatterternary"
           }
          ],
          "surface": [
           {
            "colorbar": {
             "outlinewidth": 0,
             "ticks": ""
            },
            "colorscale": [
             [
              0,
              "#0d0887"
             ],
             [
              0.1111111111111111,
              "#46039f"
             ],
             [
              0.2222222222222222,
              "#7201a8"
             ],
             [
              0.3333333333333333,
              "#9c179e"
             ],
             [
              0.4444444444444444,
              "#bd3786"
             ],
             [
              0.5555555555555556,
              "#d8576b"
             ],
             [
              0.6666666666666666,
              "#ed7953"
             ],
             [
              0.7777777777777778,
              "#fb9f3a"
             ],
             [
              0.8888888888888888,
              "#fdca26"
             ],
             [
              1,
              "#f0f921"
             ]
            ],
            "type": "surface"
           }
          ],
          "table": [
           {
            "cells": {
             "fill": {
              "color": "#EBF0F8"
             },
             "line": {
              "color": "white"
             }
            },
            "header": {
             "fill": {
              "color": "#C8D4E3"
             },
             "line": {
              "color": "white"
             }
            },
            "type": "table"
           }
          ]
         },
         "layout": {
          "annotationdefaults": {
           "arrowcolor": "#2a3f5f",
           "arrowhead": 0,
           "arrowwidth": 1
          },
          "autotypenumbers": "strict",
          "coloraxis": {
           "colorbar": {
            "outlinewidth": 0,
            "ticks": ""
           }
          },
          "colorscale": {
           "diverging": [
            [
             0,
             "#8e0152"
            ],
            [
             0.1,
             "#c51b7d"
            ],
            [
             0.2,
             "#de77ae"
            ],
            [
             0.3,
             "#f1b6da"
            ],
            [
             0.4,
             "#fde0ef"
            ],
            [
             0.5,
             "#f7f7f7"
            ],
            [
             0.6,
             "#e6f5d0"
            ],
            [
             0.7,
             "#b8e186"
            ],
            [
             0.8,
             "#7fbc41"
            ],
            [
             0.9,
             "#4d9221"
            ],
            [
             1,
             "#276419"
            ]
           ],
           "sequential": [
            [
             0,
             "#0d0887"
            ],
            [
             0.1111111111111111,
             "#46039f"
            ],
            [
             0.2222222222222222,
             "#7201a8"
            ],
            [
             0.3333333333333333,
             "#9c179e"
            ],
            [
             0.4444444444444444,
             "#bd3786"
            ],
            [
             0.5555555555555556,
             "#d8576b"
            ],
            [
             0.6666666666666666,
             "#ed7953"
            ],
            [
             0.7777777777777778,
             "#fb9f3a"
            ],
            [
             0.8888888888888888,
             "#fdca26"
            ],
            [
             1,
             "#f0f921"
            ]
           ],
           "sequentialminus": [
            [
             0,
             "#0d0887"
            ],
            [
             0.1111111111111111,
             "#46039f"
            ],
            [
             0.2222222222222222,
             "#7201a8"
            ],
            [
             0.3333333333333333,
             "#9c179e"
            ],
            [
             0.4444444444444444,
             "#bd3786"
            ],
            [
             0.5555555555555556,
             "#d8576b"
            ],
            [
             0.6666666666666666,
             "#ed7953"
            ],
            [
             0.7777777777777778,
             "#fb9f3a"
            ],
            [
             0.8888888888888888,
             "#fdca26"
            ],
            [
             1,
             "#f0f921"
            ]
           ]
          },
          "colorway": [
           "#636efa",
           "#EF553B",
           "#00cc96",
           "#ab63fa",
           "#FFA15A",
           "#19d3f3",
           "#FF6692",
           "#B6E880",
           "#FF97FF",
           "#FECB52"
          ],
          "font": {
           "color": "#2a3f5f"
          },
          "geo": {
           "bgcolor": "white",
           "lakecolor": "white",
           "landcolor": "#E5ECF6",
           "showlakes": true,
           "showland": true,
           "subunitcolor": "white"
          },
          "hoverlabel": {
           "align": "left"
          },
          "hovermode": "closest",
          "mapbox": {
           "style": "light"
          },
          "paper_bgcolor": "white",
          "plot_bgcolor": "#E5ECF6",
          "polar": {
           "angularaxis": {
            "gridcolor": "white",
            "linecolor": "white",
            "ticks": ""
           },
           "bgcolor": "#E5ECF6",
           "radialaxis": {
            "gridcolor": "white",
            "linecolor": "white",
            "ticks": ""
           }
          },
          "scene": {
           "xaxis": {
            "backgroundcolor": "#E5ECF6",
            "gridcolor": "white",
            "gridwidth": 2,
            "linecolor": "white",
            "showbackground": true,
            "ticks": "",
            "zerolinecolor": "white"
           },
           "yaxis": {
            "backgroundcolor": "#E5ECF6",
            "gridcolor": "white",
            "gridwidth": 2,
            "linecolor": "white",
            "showbackground": true,
            "ticks": "",
            "zerolinecolor": "white"
           },
           "zaxis": {
            "backgroundcolor": "#E5ECF6",
            "gridcolor": "white",
            "gridwidth": 2,
            "linecolor": "white",
            "showbackground": true,
            "ticks": "",
            "zerolinecolor": "white"
           }
          },
          "shapedefaults": {
           "line": {
            "color": "#2a3f5f"
           }
          },
          "ternary": {
           "aaxis": {
            "gridcolor": "white",
            "linecolor": "white",
            "ticks": ""
           },
           "baxis": {
            "gridcolor": "white",
            "linecolor": "white",
            "ticks": ""
           },
           "bgcolor": "#E5ECF6",
           "caxis": {
            "gridcolor": "white",
            "linecolor": "white",
            "ticks": ""
           }
          },
          "title": {
           "x": 0.05
          },
          "xaxis": {
           "automargin": true,
           "gridcolor": "white",
           "linecolor": "white",
           "ticks": "",
           "title": {
            "standoff": 15
           },
           "zerolinecolor": "white",
           "zerolinewidth": 2
          },
          "yaxis": {
           "automargin": true,
           "gridcolor": "white",
           "linecolor": "white",
           "ticks": "",
           "title": {
            "standoff": 15
           },
           "zerolinecolor": "white",
           "zerolinewidth": 2
          }
         }
        }
       }
      }
     },
     "metadata": {},
     "output_type": "display_data"
    }
   ],
   "source": [
    "\n",
    "\n",
    "fig2 = px.line_geo(aks, lat=\"latitude\", lon=\"longitude\",hover_name=\"Country\", hover_data=[\"Item\", \"2012\"],\n",
    "    color=\"2012\")\n",
    "fig2.update_layout(mapbox_style=\"open-street-map\")\n",
    "fig2.show(config={'scrollZoom': False})\n"
   ]
  },
  {
   "cell_type": "code",
   "execution_count": 28,
   "metadata": {},
   "outputs": [
    {
     "data": {
      "application/vnd.plotly.v1+json": {
       "config": {
        "plotlyServerURL": "https://plot.ly"
       },
       "data": [
        {
         "hovertemplate": "2012=%{marker.size}<br>latitude=%{lat}<br>longitude=%{lon}<extra></extra>",
         "lat": [
          33.94,
          41.15,
          28.03,
          -11.2,
          17.06,
          -38.42,
          -25.27,
          47.52,
          25.03,
          23.68,
          13.19,
          17.19,
          9.31,
          32.32,
          -16.29,
          -22.33,
          -14.24,
          4.54,
          42.73,
          12.24,
          16,
          12.57,
          7.37,
          56.13,
          6.61,
          15.45,
          -35.68,
          22.4,
          22.2,
          35.86,
          23.7,
          4.57,
          -0.23,
          9.75,
          7.54,
          21.52,
          35.13,
          40.34,
          56.26,
          11.83,
          15.41,
          18.74,
          -1.83,
          26.82,
          13.79,
          -16.58,
          61.92,
          46.23,
          -17.68,
          -0.8,
          13.44,
          51.17,
          7.95,
          39.07,
          12.26,
          15.78,
          9.95,
          11.8,
          4.86,
          18.97,
          15.2,
          47.16,
          64.96,
          20.59,
          -0.79,
          32.43,
          33.22,
          53.41,
          31.05,
          41.87,
          18.11,
          36.2,
          30.59,
          -0.02,
          -3.37,
          29.31,
          19.86,
          33.85,
          -29.61,
          6.43,
          -18.77,
          -13.25,
          4.21,
          3.2,
          17.57,
          35.94,
          21.01,
          -20.35,
          23.63,
          46.86,
          31.79,
          -18.67,
          21.91,
          -22.96,
          28.39,
          52.13,
          -20.9,
          -40.9,
          12.87,
          17.61,
          9.08,
          60.47,
          30.38,
          8.54,
          -23.44,
          -9.19,
          12.88,
          51.92,
          39.4,
          35.91,
          45.94,
          -1.94,
          17.36,
          13.91,
          12.98,
          -13.76,
          0.19,
          23.89,
          14.5,
          8.46,
          -9.65,
          -30.56,
          40.46,
          7.87,
          3.92,
          -26.52,
          60.13,
          46.82,
          15.87,
          -8.87,
          8.62,
          10.69,
          33.89,
          38.96,
          1.37,
          23.42,
          55.38,
          -6.37,
          37.09,
          -32.52,
          -15.38,
          6.42,
          14.06,
          15.55,
          -13.13,
          -19.02
         ],
         "legendgroup": "",
         "lon": [
          67.71,
          20.17,
          1.66,
          17.87,
          -61.8,
          -63.62,
          133.78,
          14.55,
          -77.4,
          90.36,
          -59.54,
          -88.5,
          2.32,
          -64.76,
          -63.59,
          24.68,
          -51.93,
          114.73,
          25.49,
          -1.56,
          -24.01,
          104.99,
          12.35,
          -106.35,
          20.94,
          18.73,
          -71.54,
          114.11,
          113.54,
          104.2,
          120.96,
          -74.3,
          15.83,
          -83.75,
          -5.55,
          -77.78,
          33.43,
          127.51,
          9.5,
          42.59,
          -61.37,
          -70.16,
          -78.18,
          30.8,
          -88.9,
          179.41,
          25.75,
          2.21,
          -149.41,
          11.61,
          -15.31,
          10.45,
          -1.02,
          21.82,
          -61.6,
          -90.23,
          -9.7,
          -15.18,
          -58.93,
          -72.29,
          -86.24,
          19.5,
          -19.02,
          78.96,
          113.92,
          53.69,
          43.68,
          -8.24,
          34.85,
          12.57,
          -77.3,
          138.25,
          36.24,
          37.91,
          -168.73,
          47.48,
          102.5,
          35.86,
          28.23,
          -9.43,
          46.87,
          34.3,
          101.98,
          73.22,
          -4,
          14.38,
          -10.94,
          57.55,
          -102.55,
          103.85,
          -7.09,
          35.53,
          95.96,
          18.49,
          84.12,
          5.29,
          165.62,
          174.89,
          -85.21,
          8.08,
          8.68,
          8.47,
          69.35,
          -80.78,
          -58.44,
          -75.02,
          121.77,
          19.15,
          -8.22,
          127.77,
          24.97,
          29.87,
          -62.78,
          -60.98,
          -61.29,
          -172.1,
          6.61,
          45.08,
          -14.45,
          -11.78,
          160.16,
          22.94,
          -3.75,
          80.77,
          -56.03,
          31.47,
          18.64,
          8.23,
          100.99,
          125.73,
          0.82,
          -61.22,
          9.54,
          35.24,
          32.29,
          53.85,
          -3.44,
          34.89,
          -95.71,
          -55.77,
          166.96,
          -66.59,
          108.28,
          48.52,
          27.85,
          29.15
         ],
         "marker": {
          "color": "#636efa",
          "size": [
           4810,
           440,
           7179,
           837,
           5,
           4040,
           1602,
           689,
           12,
           2639,
           18,
           16,
           133,
           4,
           529,
           75,
           10387,
           17,
           884,
           191,
           18,
           40,
           460,
           2992,
           50,
           112,
           1911,
           383,
           29,
           87212,
           1090,
           1528,
           178,
           193,
           418,
           611,
           93,
           525,
           538,
           104,
           5,
           305,
           604,
           11791,
           193,
           77,
           453,
           6984,
           19,
           103,
           91,
           6712,
           383,
           1362,
           6,
           553,
           175,
           17,
           48,
           181,
           310,
           1053,
           24,
           70589,
           6334,
           11716,
           4455,
           494,
           886,
           8906,
           180,
           5694,
           918,
           1479,
           5,
           309,
           12,
           570,
           95,
           65,
           190,
           141,
           1489,
           27,
           184,
           59,
           393,
           131,
           4104,
           352,
           5773,
           452,
           385,
           77,
           1391,
           1197,
           20,
           349,
           165,
           98,
           2821,
           487,
           20473,
           155,
           210,
           1658,
           1906,
           4147,
           994,
           2497,
           2915,
           117,
           3,
           16,
           8,
           11,
           10,
           2528,
           504,
           57,
           15,
           3143,
           4411,
           807,
           28,
           57,
           730,
           718,
           807,
           18,
           86,
           121,
           2226,
           12627,
           493,
           945,
           6145,
           750,
           25757,
           367,
           11,
           1504,
           1015,
           2604,
           175,
           433
          ],
          "sizemode": "area",
          "sizeref": 387.6088888888889
         },
         "mode": "markers",
         "name": "",
         "showlegend": false,
         "subplot": "mapbox",
         "type": "scattermapbox"
        }
       ],
       "layout": {
        "legend": {
         "itemsizing": "constant",
         "tracegroupgap": 0
        },
        "mapbox": {
         "center": {
          "lat": 14.784383561643835,
          "lon": 11.784246575342467
         },
         "domain": {
          "x": [
           0,
           1
          ],
          "y": [
           0,
           1
          ]
         },
         "zoom": 10
        },
        "margin": {
         "t": 60
        },
        "template": {
         "data": {
          "bar": [
           {
            "error_x": {
             "color": "#2a3f5f"
            },
            "error_y": {
             "color": "#2a3f5f"
            },
            "marker": {
             "line": {
              "color": "#E5ECF6",
              "width": 0.5
             },
             "pattern": {
              "fillmode": "overlay",
              "size": 10,
              "solidity": 0.2
             }
            },
            "type": "bar"
           }
          ],
          "barpolar": [
           {
            "marker": {
             "line": {
              "color": "#E5ECF6",
              "width": 0.5
             },
             "pattern": {
              "fillmode": "overlay",
              "size": 10,
              "solidity": 0.2
             }
            },
            "type": "barpolar"
           }
          ],
          "carpet": [
           {
            "aaxis": {
             "endlinecolor": "#2a3f5f",
             "gridcolor": "white",
             "linecolor": "white",
             "minorgridcolor": "white",
             "startlinecolor": "#2a3f5f"
            },
            "baxis": {
             "endlinecolor": "#2a3f5f",
             "gridcolor": "white",
             "linecolor": "white",
             "minorgridcolor": "white",
             "startlinecolor": "#2a3f5f"
            },
            "type": "carpet"
           }
          ],
          "choropleth": [
           {
            "colorbar": {
             "outlinewidth": 0,
             "ticks": ""
            },
            "type": "choropleth"
           }
          ],
          "contour": [
           {
            "colorbar": {
             "outlinewidth": 0,
             "ticks": ""
            },
            "colorscale": [
             [
              0,
              "#0d0887"
             ],
             [
              0.1111111111111111,
              "#46039f"
             ],
             [
              0.2222222222222222,
              "#7201a8"
             ],
             [
              0.3333333333333333,
              "#9c179e"
             ],
             [
              0.4444444444444444,
              "#bd3786"
             ],
             [
              0.5555555555555556,
              "#d8576b"
             ],
             [
              0.6666666666666666,
              "#ed7953"
             ],
             [
              0.7777777777777778,
              "#fb9f3a"
             ],
             [
              0.8888888888888888,
              "#fdca26"
             ],
             [
              1,
              "#f0f921"
             ]
            ],
            "type": "contour"
           }
          ],
          "contourcarpet": [
           {
            "colorbar": {
             "outlinewidth": 0,
             "ticks": ""
            },
            "type": "contourcarpet"
           }
          ],
          "heatmap": [
           {
            "colorbar": {
             "outlinewidth": 0,
             "ticks": ""
            },
            "colorscale": [
             [
              0,
              "#0d0887"
             ],
             [
              0.1111111111111111,
              "#46039f"
             ],
             [
              0.2222222222222222,
              "#7201a8"
             ],
             [
              0.3333333333333333,
              "#9c179e"
             ],
             [
              0.4444444444444444,
              "#bd3786"
             ],
             [
              0.5555555555555556,
              "#d8576b"
             ],
             [
              0.6666666666666666,
              "#ed7953"
             ],
             [
              0.7777777777777778,
              "#fb9f3a"
             ],
             [
              0.8888888888888888,
              "#fdca26"
             ],
             [
              1,
              "#f0f921"
             ]
            ],
            "type": "heatmap"
           }
          ],
          "heatmapgl": [
           {
            "colorbar": {
             "outlinewidth": 0,
             "ticks": ""
            },
            "colorscale": [
             [
              0,
              "#0d0887"
             ],
             [
              0.1111111111111111,
              "#46039f"
             ],
             [
              0.2222222222222222,
              "#7201a8"
             ],
             [
              0.3333333333333333,
              "#9c179e"
             ],
             [
              0.4444444444444444,
              "#bd3786"
             ],
             [
              0.5555555555555556,
              "#d8576b"
             ],
             [
              0.6666666666666666,
              "#ed7953"
             ],
             [
              0.7777777777777778,
              "#fb9f3a"
             ],
             [
              0.8888888888888888,
              "#fdca26"
             ],
             [
              1,
              "#f0f921"
             ]
            ],
            "type": "heatmapgl"
           }
          ],
          "histogram": [
           {
            "marker": {
             "pattern": {
              "fillmode": "overlay",
              "size": 10,
              "solidity": 0.2
             }
            },
            "type": "histogram"
           }
          ],
          "histogram2d": [
           {
            "colorbar": {
             "outlinewidth": 0,
             "ticks": ""
            },
            "colorscale": [
             [
              0,
              "#0d0887"
             ],
             [
              0.1111111111111111,
              "#46039f"
             ],
             [
              0.2222222222222222,
              "#7201a8"
             ],
             [
              0.3333333333333333,
              "#9c179e"
             ],
             [
              0.4444444444444444,
              "#bd3786"
             ],
             [
              0.5555555555555556,
              "#d8576b"
             ],
             [
              0.6666666666666666,
              "#ed7953"
             ],
             [
              0.7777777777777778,
              "#fb9f3a"
             ],
             [
              0.8888888888888888,
              "#fdca26"
             ],
             [
              1,
              "#f0f921"
             ]
            ],
            "type": "histogram2d"
           }
          ],
          "histogram2dcontour": [
           {
            "colorbar": {
             "outlinewidth": 0,
             "ticks": ""
            },
            "colorscale": [
             [
              0,
              "#0d0887"
             ],
             [
              0.1111111111111111,
              "#46039f"
             ],
             [
              0.2222222222222222,
              "#7201a8"
             ],
             [
              0.3333333333333333,
              "#9c179e"
             ],
             [
              0.4444444444444444,
              "#bd3786"
             ],
             [
              0.5555555555555556,
              "#d8576b"
             ],
             [
              0.6666666666666666,
              "#ed7953"
             ],
             [
              0.7777777777777778,
              "#fb9f3a"
             ],
             [
              0.8888888888888888,
              "#fdca26"
             ],
             [
              1,
              "#f0f921"
             ]
            ],
            "type": "histogram2dcontour"
           }
          ],
          "mesh3d": [
           {
            "colorbar": {
             "outlinewidth": 0,
             "ticks": ""
            },
            "type": "mesh3d"
           }
          ],
          "parcoords": [
           {
            "line": {
             "colorbar": {
              "outlinewidth": 0,
              "ticks": ""
             }
            },
            "type": "parcoords"
           }
          ],
          "pie": [
           {
            "automargin": true,
            "type": "pie"
           }
          ],
          "scatter": [
           {
            "fillpattern": {
             "fillmode": "overlay",
             "size": 10,
             "solidity": 0.2
            },
            "type": "scatter"
           }
          ],
          "scatter3d": [
           {
            "line": {
             "colorbar": {
              "outlinewidth": 0,
              "ticks": ""
             }
            },
            "marker": {
             "colorbar": {
              "outlinewidth": 0,
              "ticks": ""
             }
            },
            "type": "scatter3d"
           }
          ],
          "scattercarpet": [
           {
            "marker": {
             "colorbar": {
              "outlinewidth": 0,
              "ticks": ""
             }
            },
            "type": "scattercarpet"
           }
          ],
          "scattergeo": [
           {
            "marker": {
             "colorbar": {
              "outlinewidth": 0,
              "ticks": ""
             }
            },
            "type": "scattergeo"
           }
          ],
          "scattergl": [
           {
            "marker": {
             "colorbar": {
              "outlinewidth": 0,
              "ticks": ""
             }
            },
            "type": "scattergl"
           }
          ],
          "scattermapbox": [
           {
            "marker": {
             "colorbar": {
              "outlinewidth": 0,
              "ticks": ""
             }
            },
            "type": "scattermapbox"
           }
          ],
          "scatterpolar": [
           {
            "marker": {
             "colorbar": {
              "outlinewidth": 0,
              "ticks": ""
             }
            },
            "type": "scatterpolar"
           }
          ],
          "scatterpolargl": [
           {
            "marker": {
             "colorbar": {
              "outlinewidth": 0,
              "ticks": ""
             }
            },
            "type": "scatterpolargl"
           }
          ],
          "scatterternary": [
           {
            "marker": {
             "colorbar": {
              "outlinewidth": 0,
              "ticks": ""
             }
            },
            "type": "scatterternary"
           }
          ],
          "surface": [
           {
            "colorbar": {
             "outlinewidth": 0,
             "ticks": ""
            },
            "colorscale": [
             [
              0,
              "#0d0887"
             ],
             [
              0.1111111111111111,
              "#46039f"
             ],
             [
              0.2222222222222222,
              "#7201a8"
             ],
             [
              0.3333333333333333,
              "#9c179e"
             ],
             [
              0.4444444444444444,
              "#bd3786"
             ],
             [
              0.5555555555555556,
              "#d8576b"
             ],
             [
              0.6666666666666666,
              "#ed7953"
             ],
             [
              0.7777777777777778,
              "#fb9f3a"
             ],
             [
              0.8888888888888888,
              "#fdca26"
             ],
             [
              1,
              "#f0f921"
             ]
            ],
            "type": "surface"
           }
          ],
          "table": [
           {
            "cells": {
             "fill": {
              "color": "#EBF0F8"
             },
             "line": {
              "color": "white"
             }
            },
            "header": {
             "fill": {
              "color": "#C8D4E3"
             },
             "line": {
              "color": "white"
             }
            },
            "type": "table"
           }
          ]
         },
         "layout": {
          "annotationdefaults": {
           "arrowcolor": "#2a3f5f",
           "arrowhead": 0,
           "arrowwidth": 1
          },
          "autotypenumbers": "strict",
          "coloraxis": {
           "colorbar": {
            "outlinewidth": 0,
            "ticks": ""
           }
          },
          "colorscale": {
           "diverging": [
            [
             0,
             "#8e0152"
            ],
            [
             0.1,
             "#c51b7d"
            ],
            [
             0.2,
             "#de77ae"
            ],
            [
             0.3,
             "#f1b6da"
            ],
            [
             0.4,
             "#fde0ef"
            ],
            [
             0.5,
             "#f7f7f7"
            ],
            [
             0.6,
             "#e6f5d0"
            ],
            [
             0.7,
             "#b8e186"
            ],
            [
             0.8,
             "#7fbc41"
            ],
            [
             0.9,
             "#4d9221"
            ],
            [
             1,
             "#276419"
            ]
           ],
           "sequential": [
            [
             0,
             "#0d0887"
            ],
            [
             0.1111111111111111,
             "#46039f"
            ],
            [
             0.2222222222222222,
             "#7201a8"
            ],
            [
             0.3333333333333333,
             "#9c179e"
            ],
            [
             0.4444444444444444,
             "#bd3786"
            ],
            [
             0.5555555555555556,
             "#d8576b"
            ],
            [
             0.6666666666666666,
             "#ed7953"
            ],
            [
             0.7777777777777778,
             "#fb9f3a"
            ],
            [
             0.8888888888888888,
             "#fdca26"
            ],
            [
             1,
             "#f0f921"
            ]
           ],
           "sequentialminus": [
            [
             0,
             "#0d0887"
            ],
            [
             0.1111111111111111,
             "#46039f"
            ],
            [
             0.2222222222222222,
             "#7201a8"
            ],
            [
             0.3333333333333333,
             "#9c179e"
            ],
            [
             0.4444444444444444,
             "#bd3786"
            ],
            [
             0.5555555555555556,
             "#d8576b"
            ],
            [
             0.6666666666666666,
             "#ed7953"
            ],
            [
             0.7777777777777778,
             "#fb9f3a"
            ],
            [
             0.8888888888888888,
             "#fdca26"
            ],
            [
             1,
             "#f0f921"
            ]
           ]
          },
          "colorway": [
           "#636efa",
           "#EF553B",
           "#00cc96",
           "#ab63fa",
           "#FFA15A",
           "#19d3f3",
           "#FF6692",
           "#B6E880",
           "#FF97FF",
           "#FECB52"
          ],
          "font": {
           "color": "#2a3f5f"
          },
          "geo": {
           "bgcolor": "white",
           "lakecolor": "white",
           "landcolor": "#E5ECF6",
           "showlakes": true,
           "showland": true,
           "subunitcolor": "white"
          },
          "hoverlabel": {
           "align": "left"
          },
          "hovermode": "closest",
          "mapbox": {
           "style": "light"
          },
          "paper_bgcolor": "white",
          "plot_bgcolor": "#E5ECF6",
          "polar": {
           "angularaxis": {
            "gridcolor": "white",
            "linecolor": "white",
            "ticks": ""
           },
           "bgcolor": "#E5ECF6",
           "radialaxis": {
            "gridcolor": "white",
            "linecolor": "white",
            "ticks": ""
           }
          },
          "scene": {
           "xaxis": {
            "backgroundcolor": "#E5ECF6",
            "gridcolor": "white",
            "gridwidth": 2,
            "linecolor": "white",
            "showbackground": true,
            "ticks": "",
            "zerolinecolor": "white"
           },
           "yaxis": {
            "backgroundcolor": "#E5ECF6",
            "gridcolor": "white",
            "gridwidth": 2,
            "linecolor": "white",
            "showbackground": true,
            "ticks": "",
            "zerolinecolor": "white"
           },
           "zaxis": {
            "backgroundcolor": "#E5ECF6",
            "gridcolor": "white",
            "gridwidth": 2,
            "linecolor": "white",
            "showbackground": true,
            "ticks": "",
            "zerolinecolor": "white"
           }
          },
          "shapedefaults": {
           "line": {
            "color": "#2a3f5f"
           }
          },
          "ternary": {
           "aaxis": {
            "gridcolor": "white",
            "linecolor": "white",
            "ticks": ""
           },
           "baxis": {
            "gridcolor": "white",
            "linecolor": "white",
            "ticks": ""
           },
           "bgcolor": "#E5ECF6",
           "caxis": {
            "gridcolor": "white",
            "linecolor": "white",
            "ticks": ""
           }
          },
          "title": {
           "x": 0.05
          },
          "xaxis": {
           "automargin": true,
           "gridcolor": "white",
           "linecolor": "white",
           "ticks": "",
           "title": {
            "standoff": 15
           },
           "zerolinecolor": "white",
           "zerolinewidth": 2
          },
          "yaxis": {
           "automargin": true,
           "gridcolor": "white",
           "linecolor": "white",
           "ticks": "",
           "title": {
            "standoff": 15
           },
           "zerolinecolor": "white",
           "zerolinewidth": 2
          }
         }
        }
       }
      }
     },
     "metadata": {},
     "output_type": "display_data"
    }
   ],
   "source": [
    "fig2"
   ]
  }
 ],
 "metadata": {
  "interpreter": {
   "hash": "b667cebad148e7b094a58ee81f940c685de1dd70a003a9ccdca4a5792431bee5"
  },
  "kernelspec": {
   "display_name": "Python 3.9.10 64-bit",
   "language": "python",
   "name": "python3"
  },
  "language_info": {
   "codemirror_mode": {
    "name": "ipython",
    "version": 3
   },
   "file_extension": ".py",
   "mimetype": "text/x-python",
   "name": "python",
   "nbconvert_exporter": "python",
   "pygments_lexer": "ipython3",
   "version": "3.9.10"
  },
  "orig_nbformat": 4
 },
 "nbformat": 4,
 "nbformat_minor": 2
}
