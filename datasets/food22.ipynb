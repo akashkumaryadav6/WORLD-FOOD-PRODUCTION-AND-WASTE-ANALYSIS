{
 "cells": [
  {
   "cell_type": "code",
   "execution_count": 34,
   "metadata": {},
   "outputs": [],
   "source": [
    "import pandas as p\n",
    "import plotly.express as px\n",
    "import matplotlib.pyplot as mp"
   ]
  },
  {
   "cell_type": "code",
   "execution_count": 35,
   "metadata": {},
   "outputs": [
    {
     "data": {
      "text/html": [
       "<div>\n",
       "<style scoped>\n",
       "    .dataframe tbody tr th:only-of-type {\n",
       "        vertical-align: middle;\n",
       "    }\n",
       "\n",
       "    .dataframe tbody tr th {\n",
       "        vertical-align: top;\n",
       "    }\n",
       "\n",
       "    .dataframe thead th {\n",
       "        text-align: right;\n",
       "    }\n",
       "</style>\n",
       "<table border=\"1\" class=\"dataframe\">\n",
       "  <thead>\n",
       "    <tr style=\"text-align: right;\">\n",
       "      <th></th>\n",
       "      <th>Code</th>\n",
       "      <th>Country</th>\n",
       "      <th>Item</th>\n",
       "      <th>latitude</th>\n",
       "      <th>longitude</th>\n",
       "      <th>1961</th>\n",
       "      <th>1962</th>\n",
       "      <th>1963</th>\n",
       "      <th>1964</th>\n",
       "      <th>1965</th>\n",
       "      <th>...</th>\n",
       "      <th>2004</th>\n",
       "      <th>2005</th>\n",
       "      <th>2006</th>\n",
       "      <th>2007</th>\n",
       "      <th>2008</th>\n",
       "      <th>2009</th>\n",
       "      <th>2010</th>\n",
       "      <th>2011</th>\n",
       "      <th>2012</th>\n",
       "      <th>2013</th>\n",
       "    </tr>\n",
       "  </thead>\n",
       "  <tbody>\n",
       "    <tr>\n",
       "      <th>0</th>\n",
       "      <td>AFG</td>\n",
       "      <td>Afghanistan</td>\n",
       "      <td>Wheat</td>\n",
       "      <td>33.94</td>\n",
       "      <td>67.71</td>\n",
       "      <td>1928.0</td>\n",
       "      <td>1904.0</td>\n",
       "      <td>1666.0</td>\n",
       "      <td>1950.0</td>\n",
       "      <td>2001.0</td>\n",
       "      <td>...</td>\n",
       "      <td>3249.0</td>\n",
       "      <td>3486.0</td>\n",
       "      <td>3704.0</td>\n",
       "      <td>4164.0</td>\n",
       "      <td>4252.0</td>\n",
       "      <td>4538.0</td>\n",
       "      <td>4605.0</td>\n",
       "      <td>4711.0</td>\n",
       "      <td>4810</td>\n",
       "      <td>4895</td>\n",
       "    </tr>\n",
       "    <tr>\n",
       "      <th>1</th>\n",
       "      <td>AFG</td>\n",
       "      <td>Afghanistan</td>\n",
       "      <td>Rice</td>\n",
       "      <td>33.94</td>\n",
       "      <td>67.71</td>\n",
       "      <td>183.0</td>\n",
       "      <td>183.0</td>\n",
       "      <td>182.0</td>\n",
       "      <td>220.0</td>\n",
       "      <td>220.0</td>\n",
       "      <td>...</td>\n",
       "      <td>419.0</td>\n",
       "      <td>445.0</td>\n",
       "      <td>546.0</td>\n",
       "      <td>455.0</td>\n",
       "      <td>490.0</td>\n",
       "      <td>415.0</td>\n",
       "      <td>442.0</td>\n",
       "      <td>476.0</td>\n",
       "      <td>425</td>\n",
       "      <td>422</td>\n",
       "    </tr>\n",
       "    <tr>\n",
       "      <th>2</th>\n",
       "      <td>AFG</td>\n",
       "      <td>Afghanistan</td>\n",
       "      <td>Barley</td>\n",
       "      <td>33.94</td>\n",
       "      <td>67.71</td>\n",
       "      <td>237.0</td>\n",
       "      <td>237.0</td>\n",
       "      <td>237.0</td>\n",
       "      <td>238.0</td>\n",
       "      <td>238.0</td>\n",
       "      <td>...</td>\n",
       "      <td>185.0</td>\n",
       "      <td>43.0</td>\n",
       "      <td>44.0</td>\n",
       "      <td>48.0</td>\n",
       "      <td>62.0</td>\n",
       "      <td>55.0</td>\n",
       "      <td>60.0</td>\n",
       "      <td>72.0</td>\n",
       "      <td>78</td>\n",
       "      <td>89</td>\n",
       "    </tr>\n",
       "    <tr>\n",
       "      <th>3</th>\n",
       "      <td>AFG</td>\n",
       "      <td>Afghanistan</td>\n",
       "      <td>Maize</td>\n",
       "      <td>33.94</td>\n",
       "      <td>67.71</td>\n",
       "      <td>403.0</td>\n",
       "      <td>403.0</td>\n",
       "      <td>410.0</td>\n",
       "      <td>415.0</td>\n",
       "      <td>415.0</td>\n",
       "      <td>...</td>\n",
       "      <td>231.0</td>\n",
       "      <td>67.0</td>\n",
       "      <td>82.0</td>\n",
       "      <td>67.0</td>\n",
       "      <td>69.0</td>\n",
       "      <td>71.0</td>\n",
       "      <td>82.0</td>\n",
       "      <td>73.0</td>\n",
       "      <td>77</td>\n",
       "      <td>76</td>\n",
       "    </tr>\n",
       "    <tr>\n",
       "      <th>4</th>\n",
       "      <td>AFG</td>\n",
       "      <td>Afghanistan</td>\n",
       "      <td>Millet</td>\n",
       "      <td>33.94</td>\n",
       "      <td>67.71</td>\n",
       "      <td>17.0</td>\n",
       "      <td>18.0</td>\n",
       "      <td>19.0</td>\n",
       "      <td>20.0</td>\n",
       "      <td>21.0</td>\n",
       "      <td>...</td>\n",
       "      <td>15.0</td>\n",
       "      <td>21.0</td>\n",
       "      <td>11.0</td>\n",
       "      <td>19.0</td>\n",
       "      <td>21.0</td>\n",
       "      <td>18.0</td>\n",
       "      <td>14.0</td>\n",
       "      <td>14.0</td>\n",
       "      <td>14</td>\n",
       "      <td>12</td>\n",
       "    </tr>\n",
       "  </tbody>\n",
       "</table>\n",
       "<p>5 rows × 58 columns</p>\n",
       "</div>"
      ],
      "text/plain": [
       "  Code      Country    Item  latitude  longitude    1961    1962    1963  \\\n",
       "0  AFG  Afghanistan   Wheat     33.94      67.71  1928.0  1904.0  1666.0   \n",
       "1  AFG  Afghanistan    Rice     33.94      67.71   183.0   183.0   182.0   \n",
       "2  AFG  Afghanistan  Barley     33.94      67.71   237.0   237.0   237.0   \n",
       "3  AFG  Afghanistan   Maize     33.94      67.71   403.0   403.0   410.0   \n",
       "4  AFG  Afghanistan  Millet     33.94      67.71    17.0    18.0    19.0   \n",
       "\n",
       "     1964    1965  ...    2004    2005    2006    2007    2008    2009  \\\n",
       "0  1950.0  2001.0  ...  3249.0  3486.0  3704.0  4164.0  4252.0  4538.0   \n",
       "1   220.0   220.0  ...   419.0   445.0   546.0   455.0   490.0   415.0   \n",
       "2   238.0   238.0  ...   185.0    43.0    44.0    48.0    62.0    55.0   \n",
       "3   415.0   415.0  ...   231.0    67.0    82.0    67.0    69.0    71.0   \n",
       "4    20.0    21.0  ...    15.0    21.0    11.0    19.0    21.0    18.0   \n",
       "\n",
       "     2010    2011  2012  2013  \n",
       "0  4605.0  4711.0  4810  4895  \n",
       "1   442.0   476.0   425   422  \n",
       "2    60.0    72.0    78    89  \n",
       "3    82.0    73.0    77    76  \n",
       "4    14.0    14.0    14    12  \n",
       "\n",
       "[5 rows x 58 columns]"
      ]
     },
     "execution_count": 35,
     "metadata": {},
     "output_type": "execute_result"
    }
   ],
   "source": [
    "food=p.read_excel(\"Food.xlsx\", sheet_name='Food')\n",
    "food.head()"
   ]
  },
  {
   "cell_type": "code",
   "execution_count": 36,
   "metadata": {},
   "outputs": [],
   "source": [
    "abb=food.Country.unique()\n",
    "countries={}\n",
    "for i in abb:\n",
    "    if i not in countries:\n",
    "        countries[i] = food[food[\"Country\"]==i]"
   ]
  },
  {
   "cell_type": "code",
   "execution_count": 37,
   "metadata": {},
   "outputs": [
    {
     "data": {
      "text/html": [
       "<div>\n",
       "<style scoped>\n",
       "    .dataframe tbody tr th:only-of-type {\n",
       "        vertical-align: middle;\n",
       "    }\n",
       "\n",
       "    .dataframe tbody tr th {\n",
       "        vertical-align: top;\n",
       "    }\n",
       "\n",
       "    .dataframe thead th {\n",
       "        text-align: right;\n",
       "    }\n",
       "</style>\n",
       "<table border=\"1\" class=\"dataframe\">\n",
       "  <thead>\n",
       "    <tr style=\"text-align: right;\">\n",
       "      <th></th>\n",
       "      <th>latitude</th>\n",
       "      <th>longitude</th>\n",
       "      <th>1961</th>\n",
       "      <th>1962</th>\n",
       "      <th>1963</th>\n",
       "      <th>1964</th>\n",
       "      <th>1965</th>\n",
       "      <th>1966</th>\n",
       "      <th>1967</th>\n",
       "      <th>1968</th>\n",
       "      <th>...</th>\n",
       "      <th>2004</th>\n",
       "      <th>2005</th>\n",
       "      <th>2006</th>\n",
       "      <th>2007</th>\n",
       "      <th>2008</th>\n",
       "      <th>2009</th>\n",
       "      <th>2010</th>\n",
       "      <th>2011</th>\n",
       "      <th>2012</th>\n",
       "      <th>2013</th>\n",
       "    </tr>\n",
       "  </thead>\n",
       "  <tbody>\n",
       "    <tr>\n",
       "      <th>count</th>\n",
       "      <td>72.00</td>\n",
       "      <td>72.00</td>\n",
       "      <td>72.000000</td>\n",
       "      <td>72.000000</td>\n",
       "      <td>72.000000</td>\n",
       "      <td>72.000000</td>\n",
       "      <td>72.000000</td>\n",
       "      <td>72.000000</td>\n",
       "      <td>72.000000</td>\n",
       "      <td>72.000000</td>\n",
       "      <td>...</td>\n",
       "      <td>72.000000</td>\n",
       "      <td>72.000000</td>\n",
       "      <td>72.000000</td>\n",
       "      <td>72.000000</td>\n",
       "      <td>72.000000</td>\n",
       "      <td>72.000000</td>\n",
       "      <td>72.000000</td>\n",
       "      <td>72.000000</td>\n",
       "      <td>72.000000</td>\n",
       "      <td>72.000000</td>\n",
       "    </tr>\n",
       "    <tr>\n",
       "      <th>mean</th>\n",
       "      <td>33.94</td>\n",
       "      <td>67.71</td>\n",
       "      <td>121.541667</td>\n",
       "      <td>120.583333</td>\n",
       "      <td>117.263889</td>\n",
       "      <td>130.791667</td>\n",
       "      <td>135.277778</td>\n",
       "      <td>131.000000</td>\n",
       "      <td>145.652778</td>\n",
       "      <td>148.194444</td>\n",
       "      <td>...</td>\n",
       "      <td>218.791667</td>\n",
       "      <td>227.208333</td>\n",
       "      <td>234.569444</td>\n",
       "      <td>246.722222</td>\n",
       "      <td>250.305556</td>\n",
       "      <td>263.402778</td>\n",
       "      <td>271.458333</td>\n",
       "      <td>275.222222</td>\n",
       "      <td>292.805556</td>\n",
       "      <td>296.625000</td>\n",
       "    </tr>\n",
       "    <tr>\n",
       "      <th>std</th>\n",
       "      <td>0.00</td>\n",
       "      <td>0.00</td>\n",
       "      <td>404.127296</td>\n",
       "      <td>400.622043</td>\n",
       "      <td>367.351273</td>\n",
       "      <td>416.809983</td>\n",
       "      <td>427.035448</td>\n",
       "      <td>396.070345</td>\n",
       "      <td>443.657023</td>\n",
       "      <td>444.384006</td>\n",
       "      <td>...</td>\n",
       "      <td>662.470258</td>\n",
       "      <td>678.809727</td>\n",
       "      <td>717.342373</td>\n",
       "      <td>783.210047</td>\n",
       "      <td>797.715217</td>\n",
       "      <td>840.301315</td>\n",
       "      <td>854.636830</td>\n",
       "      <td>870.843564</td>\n",
       "      <td>895.987104</td>\n",
       "      <td>909.267457</td>\n",
       "    </tr>\n",
       "    <tr>\n",
       "      <th>min</th>\n",
       "      <td>33.94</td>\n",
       "      <td>67.71</td>\n",
       "      <td>0.000000</td>\n",
       "      <td>0.000000</td>\n",
       "      <td>0.000000</td>\n",
       "      <td>0.000000</td>\n",
       "      <td>0.000000</td>\n",
       "      <td>0.000000</td>\n",
       "      <td>0.000000</td>\n",
       "      <td>0.000000</td>\n",
       "      <td>...</td>\n",
       "      <td>0.000000</td>\n",
       "      <td>0.000000</td>\n",
       "      <td>0.000000</td>\n",
       "      <td>0.000000</td>\n",
       "      <td>0.000000</td>\n",
       "      <td>0.000000</td>\n",
       "      <td>0.000000</td>\n",
       "      <td>0.000000</td>\n",
       "      <td>0.000000</td>\n",
       "      <td>0.000000</td>\n",
       "    </tr>\n",
       "    <tr>\n",
       "      <th>25%</th>\n",
       "      <td>33.94</td>\n",
       "      <td>67.71</td>\n",
       "      <td>0.000000</td>\n",
       "      <td>0.000000</td>\n",
       "      <td>0.000000</td>\n",
       "      <td>0.000000</td>\n",
       "      <td>0.000000</td>\n",
       "      <td>0.000000</td>\n",
       "      <td>0.000000</td>\n",
       "      <td>0.000000</td>\n",
       "      <td>...</td>\n",
       "      <td>1.000000</td>\n",
       "      <td>1.000000</td>\n",
       "      <td>1.000000</td>\n",
       "      <td>1.750000</td>\n",
       "      <td>2.000000</td>\n",
       "      <td>1.750000</td>\n",
       "      <td>2.000000</td>\n",
       "      <td>2.000000</td>\n",
       "      <td>2.000000</td>\n",
       "      <td>2.000000</td>\n",
       "    </tr>\n",
       "    <tr>\n",
       "      <th>50%</th>\n",
       "      <td>33.94</td>\n",
       "      <td>67.71</td>\n",
       "      <td>4.500000</td>\n",
       "      <td>6.000000</td>\n",
       "      <td>5.500000</td>\n",
       "      <td>6.000000</td>\n",
       "      <td>6.000000</td>\n",
       "      <td>8.500000</td>\n",
       "      <td>8.000000</td>\n",
       "      <td>10.000000</td>\n",
       "      <td>...</td>\n",
       "      <td>14.000000</td>\n",
       "      <td>13.500000</td>\n",
       "      <td>15.500000</td>\n",
       "      <td>17.500000</td>\n",
       "      <td>17.000000</td>\n",
       "      <td>17.000000</td>\n",
       "      <td>21.000000</td>\n",
       "      <td>30.000000</td>\n",
       "      <td>25.000000</td>\n",
       "      <td>37.500000</td>\n",
       "    </tr>\n",
       "    <tr>\n",
       "      <th>75%</th>\n",
       "      <td>33.94</td>\n",
       "      <td>67.71</td>\n",
       "      <td>43.500000</td>\n",
       "      <td>41.500000</td>\n",
       "      <td>43.500000</td>\n",
       "      <td>49.000000</td>\n",
       "      <td>50.500000</td>\n",
       "      <td>58.750000</td>\n",
       "      <td>62.750000</td>\n",
       "      <td>65.750000</td>\n",
       "      <td>...</td>\n",
       "      <td>125.750000</td>\n",
       "      <td>67.500000</td>\n",
       "      <td>62.500000</td>\n",
       "      <td>55.000000</td>\n",
       "      <td>63.750000</td>\n",
       "      <td>80.000000</td>\n",
       "      <td>92.250000</td>\n",
       "      <td>88.000000</td>\n",
       "      <td>140.250000</td>\n",
       "      <td>115.250000</td>\n",
       "    </tr>\n",
       "    <tr>\n",
       "      <th>max</th>\n",
       "      <td>33.94</td>\n",
       "      <td>67.71</td>\n",
       "      <td>2767.000000</td>\n",
       "      <td>2744.000000</td>\n",
       "      <td>2514.000000</td>\n",
       "      <td>2843.000000</td>\n",
       "      <td>2894.000000</td>\n",
       "      <td>2675.000000</td>\n",
       "      <td>2986.000000</td>\n",
       "      <td>2979.000000</td>\n",
       "      <td>...</td>\n",
       "      <td>4101.000000</td>\n",
       "      <td>4062.000000</td>\n",
       "      <td>4388.000000</td>\n",
       "      <td>4752.000000</td>\n",
       "      <td>4893.000000</td>\n",
       "      <td>5097.000000</td>\n",
       "      <td>5204.000000</td>\n",
       "      <td>5345.000000</td>\n",
       "      <td>5405.000000</td>\n",
       "      <td>5495.000000</td>\n",
       "    </tr>\n",
       "  </tbody>\n",
       "</table>\n",
       "<p>8 rows × 55 columns</p>\n",
       "</div>"
      ],
      "text/plain": [
       "       latitude  longitude         1961         1962         1963  \\\n",
       "count     72.00      72.00    72.000000    72.000000    72.000000   \n",
       "mean      33.94      67.71   121.541667   120.583333   117.263889   \n",
       "std        0.00       0.00   404.127296   400.622043   367.351273   \n",
       "min       33.94      67.71     0.000000     0.000000     0.000000   \n",
       "25%       33.94      67.71     0.000000     0.000000     0.000000   \n",
       "50%       33.94      67.71     4.500000     6.000000     5.500000   \n",
       "75%       33.94      67.71    43.500000    41.500000    43.500000   \n",
       "max       33.94      67.71  2767.000000  2744.000000  2514.000000   \n",
       "\n",
       "              1964         1965         1966         1967         1968  ...  \\\n",
       "count    72.000000    72.000000    72.000000    72.000000    72.000000  ...   \n",
       "mean    130.791667   135.277778   131.000000   145.652778   148.194444  ...   \n",
       "std     416.809983   427.035448   396.070345   443.657023   444.384006  ...   \n",
       "min       0.000000     0.000000     0.000000     0.000000     0.000000  ...   \n",
       "25%       0.000000     0.000000     0.000000     0.000000     0.000000  ...   \n",
       "50%       6.000000     6.000000     8.500000     8.000000    10.000000  ...   \n",
       "75%      49.000000    50.500000    58.750000    62.750000    65.750000  ...   \n",
       "max    2843.000000  2894.000000  2675.000000  2986.000000  2979.000000  ...   \n",
       "\n",
       "              2004         2005         2006         2007         2008  \\\n",
       "count    72.000000    72.000000    72.000000    72.000000    72.000000   \n",
       "mean    218.791667   227.208333   234.569444   246.722222   250.305556   \n",
       "std     662.470258   678.809727   717.342373   783.210047   797.715217   \n",
       "min       0.000000     0.000000     0.000000     0.000000     0.000000   \n",
       "25%       1.000000     1.000000     1.000000     1.750000     2.000000   \n",
       "50%      14.000000    13.500000    15.500000    17.500000    17.000000   \n",
       "75%     125.750000    67.500000    62.500000    55.000000    63.750000   \n",
       "max    4101.000000  4062.000000  4388.000000  4752.000000  4893.000000   \n",
       "\n",
       "              2009         2010         2011         2012         2013  \n",
       "count    72.000000    72.000000    72.000000    72.000000    72.000000  \n",
       "mean    263.402778   271.458333   275.222222   292.805556   296.625000  \n",
       "std     840.301315   854.636830   870.843564   895.987104   909.267457  \n",
       "min       0.000000     0.000000     0.000000     0.000000     0.000000  \n",
       "25%       1.750000     2.000000     2.000000     2.000000     2.000000  \n",
       "50%      17.000000    21.000000    30.000000    25.000000    37.500000  \n",
       "75%      80.000000    92.250000    88.000000   140.250000   115.250000  \n",
       "max    5097.000000  5204.000000  5345.000000  5405.000000  5495.000000  \n",
       "\n",
       "[8 rows x 55 columns]"
      ]
     },
     "execution_count": 37,
     "metadata": {},
     "output_type": "execute_result"
    }
   ],
   "source": [
    "countries['Afghanistan'].describe()"
   ]
  },
  {
   "cell_type": "code",
   "execution_count": 38,
   "metadata": {},
   "outputs": [
    {
     "name": "stderr",
     "output_type": "stream",
     "text": [
      "C:\\Users\\user\\AppData\\Local\\Temp\\ipykernel_7120\\2383644073.py:1: FutureWarning:\n",
      "\n",
      "Dropping of nuisance columns in DataFrame reductions (with 'numeric_only=None') is deprecated; in a future version this will raise TypeError.  Select only valid columns before calling the reduction.\n",
      "\n"
     ]
    },
    {
     "data": {
      "application/vnd.plotly.v1+json": {
       "config": {
        "plotlyServerURL": "https://plot.ly"
       },
       "data": [
        {
         "hovertemplate": "Afghanistan=0<br>Years=%{x}<br>Quantity Measure (Tonnes)=%{y}<extra></extra>",
         "legendgroup": "0",
         "line": {
          "color": "#636efa",
          "dash": "solid"
         },
         "marker": {
          "symbol": "circle"
         },
         "mode": "lines",
         "name": "0",
         "orientation": "v",
         "showlegend": true,
         "type": "scatter",
         "x": [
          "latitude",
          "longitude",
          1961,
          1962,
          1963,
          1964,
          1965,
          1966,
          1967,
          1968,
          1969,
          1970,
          1971,
          1972,
          1973,
          1974,
          1975,
          1976,
          1977,
          1978,
          1979,
          1980,
          1981,
          1982,
          1983,
          1984,
          1985,
          1986,
          1987,
          1988,
          1989,
          1990,
          1991,
          1992,
          1993,
          1994,
          1995,
          1996,
          1997,
          1998,
          1999,
          2000,
          2001,
          2002,
          2003,
          2004,
          2005,
          2006,
          2007,
          2008,
          2009,
          2010,
          2011,
          2012,
          2013
         ],
         "xaxis": "x",
         "y": [
          33.94,
          67.71,
          4.5,
          6,
          5.5,
          6,
          6,
          8.5,
          8,
          10,
          10.5,
          10.5,
          8.5,
          10.5,
          10,
          11,
          11.5,
          11.5,
          11,
          11,
          11,
          13,
          13,
          12,
          12.5,
          12,
          12,
          11.5,
          11,
          10,
          11,
          12,
          12,
          12.5,
          12,
          11.5,
          12,
          11.5,
          12,
          11.5,
          12.5,
          12,
          12,
          12.5,
          13.5,
          14,
          13.5,
          15.5,
          17.5,
          17,
          17,
          21,
          30,
          25,
          37.5
         ],
         "yaxis": "y"
        }
       ],
       "layout": {
        "legend": {
         "title": {
          "text": "Afghanistan"
         },
         "tracegroupgap": 0
        },
        "template": {
         "data": {
          "bar": [
           {
            "error_x": {
             "color": "#2a3f5f"
            },
            "error_y": {
             "color": "#2a3f5f"
            },
            "marker": {
             "line": {
              "color": "#E5ECF6",
              "width": 0.5
             },
             "pattern": {
              "fillmode": "overlay",
              "size": 10,
              "solidity": 0.2
             }
            },
            "type": "bar"
           }
          ],
          "barpolar": [
           {
            "marker": {
             "line": {
              "color": "#E5ECF6",
              "width": 0.5
             },
             "pattern": {
              "fillmode": "overlay",
              "size": 10,
              "solidity": 0.2
             }
            },
            "type": "barpolar"
           }
          ],
          "carpet": [
           {
            "aaxis": {
             "endlinecolor": "#2a3f5f",
             "gridcolor": "white",
             "linecolor": "white",
             "minorgridcolor": "white",
             "startlinecolor": "#2a3f5f"
            },
            "baxis": {
             "endlinecolor": "#2a3f5f",
             "gridcolor": "white",
             "linecolor": "white",
             "minorgridcolor": "white",
             "startlinecolor": "#2a3f5f"
            },
            "type": "carpet"
           }
          ],
          "choropleth": [
           {
            "colorbar": {
             "outlinewidth": 0,
             "ticks": ""
            },
            "type": "choropleth"
           }
          ],
          "contour": [
           {
            "colorbar": {
             "outlinewidth": 0,
             "ticks": ""
            },
            "colorscale": [
             [
              0,
              "#0d0887"
             ],
             [
              0.1111111111111111,
              "#46039f"
             ],
             [
              0.2222222222222222,
              "#7201a8"
             ],
             [
              0.3333333333333333,
              "#9c179e"
             ],
             [
              0.4444444444444444,
              "#bd3786"
             ],
             [
              0.5555555555555556,
              "#d8576b"
             ],
             [
              0.6666666666666666,
              "#ed7953"
             ],
             [
              0.7777777777777778,
              "#fb9f3a"
             ],
             [
              0.8888888888888888,
              "#fdca26"
             ],
             [
              1,
              "#f0f921"
             ]
            ],
            "type": "contour"
           }
          ],
          "contourcarpet": [
           {
            "colorbar": {
             "outlinewidth": 0,
             "ticks": ""
            },
            "type": "contourcarpet"
           }
          ],
          "heatmap": [
           {
            "colorbar": {
             "outlinewidth": 0,
             "ticks": ""
            },
            "colorscale": [
             [
              0,
              "#0d0887"
             ],
             [
              0.1111111111111111,
              "#46039f"
             ],
             [
              0.2222222222222222,
              "#7201a8"
             ],
             [
              0.3333333333333333,
              "#9c179e"
             ],
             [
              0.4444444444444444,
              "#bd3786"
             ],
             [
              0.5555555555555556,
              "#d8576b"
             ],
             [
              0.6666666666666666,
              "#ed7953"
             ],
             [
              0.7777777777777778,
              "#fb9f3a"
             ],
             [
              0.8888888888888888,
              "#fdca26"
             ],
             [
              1,
              "#f0f921"
             ]
            ],
            "type": "heatmap"
           }
          ],
          "heatmapgl": [
           {
            "colorbar": {
             "outlinewidth": 0,
             "ticks": ""
            },
            "colorscale": [
             [
              0,
              "#0d0887"
             ],
             [
              0.1111111111111111,
              "#46039f"
             ],
             [
              0.2222222222222222,
              "#7201a8"
             ],
             [
              0.3333333333333333,
              "#9c179e"
             ],
             [
              0.4444444444444444,
              "#bd3786"
             ],
             [
              0.5555555555555556,
              "#d8576b"
             ],
             [
              0.6666666666666666,
              "#ed7953"
             ],
             [
              0.7777777777777778,
              "#fb9f3a"
             ],
             [
              0.8888888888888888,
              "#fdca26"
             ],
             [
              1,
              "#f0f921"
             ]
            ],
            "type": "heatmapgl"
           }
          ],
          "histogram": [
           {
            "marker": {
             "pattern": {
              "fillmode": "overlay",
              "size": 10,
              "solidity": 0.2
             }
            },
            "type": "histogram"
           }
          ],
          "histogram2d": [
           {
            "colorbar": {
             "outlinewidth": 0,
             "ticks": ""
            },
            "colorscale": [
             [
              0,
              "#0d0887"
             ],
             [
              0.1111111111111111,
              "#46039f"
             ],
             [
              0.2222222222222222,
              "#7201a8"
             ],
             [
              0.3333333333333333,
              "#9c179e"
             ],
             [
              0.4444444444444444,
              "#bd3786"
             ],
             [
              0.5555555555555556,
              "#d8576b"
             ],
             [
              0.6666666666666666,
              "#ed7953"
             ],
             [
              0.7777777777777778,
              "#fb9f3a"
             ],
             [
              0.8888888888888888,
              "#fdca26"
             ],
             [
              1,
              "#f0f921"
             ]
            ],
            "type": "histogram2d"
           }
          ],
          "histogram2dcontour": [
           {
            "colorbar": {
             "outlinewidth": 0,
             "ticks": ""
            },
            "colorscale": [
             [
              0,
              "#0d0887"
             ],
             [
              0.1111111111111111,
              "#46039f"
             ],
             [
              0.2222222222222222,
              "#7201a8"
             ],
             [
              0.3333333333333333,
              "#9c179e"
             ],
             [
              0.4444444444444444,
              "#bd3786"
             ],
             [
              0.5555555555555556,
              "#d8576b"
             ],
             [
              0.6666666666666666,
              "#ed7953"
             ],
             [
              0.7777777777777778,
              "#fb9f3a"
             ],
             [
              0.8888888888888888,
              "#fdca26"
             ],
             [
              1,
              "#f0f921"
             ]
            ],
            "type": "histogram2dcontour"
           }
          ],
          "mesh3d": [
           {
            "colorbar": {
             "outlinewidth": 0,
             "ticks": ""
            },
            "type": "mesh3d"
           }
          ],
          "parcoords": [
           {
            "line": {
             "colorbar": {
              "outlinewidth": 0,
              "ticks": ""
             }
            },
            "type": "parcoords"
           }
          ],
          "pie": [
           {
            "automargin": true,
            "type": "pie"
           }
          ],
          "scatter": [
           {
            "fillpattern": {
             "fillmode": "overlay",
             "size": 10,
             "solidity": 0.2
            },
            "type": "scatter"
           }
          ],
          "scatter3d": [
           {
            "line": {
             "colorbar": {
              "outlinewidth": 0,
              "ticks": ""
             }
            },
            "marker": {
             "colorbar": {
              "outlinewidth": 0,
              "ticks": ""
             }
            },
            "type": "scatter3d"
           }
          ],
          "scattercarpet": [
           {
            "marker": {
             "colorbar": {
              "outlinewidth": 0,
              "ticks": ""
             }
            },
            "type": "scattercarpet"
           }
          ],
          "scattergeo": [
           {
            "marker": {
             "colorbar": {
              "outlinewidth": 0,
              "ticks": ""
             }
            },
            "type": "scattergeo"
           }
          ],
          "scattergl": [
           {
            "marker": {
             "colorbar": {
              "outlinewidth": 0,
              "ticks": ""
             }
            },
            "type": "scattergl"
           }
          ],
          "scattermapbox": [
           {
            "marker": {
             "colorbar": {
              "outlinewidth": 0,
              "ticks": ""
             }
            },
            "type": "scattermapbox"
           }
          ],
          "scatterpolar": [
           {
            "marker": {
             "colorbar": {
              "outlinewidth": 0,
              "ticks": ""
             }
            },
            "type": "scatterpolar"
           }
          ],
          "scatterpolargl": [
           {
            "marker": {
             "colorbar": {
              "outlinewidth": 0,
              "ticks": ""
             }
            },
            "type": "scatterpolargl"
           }
          ],
          "scatterternary": [
           {
            "marker": {
             "colorbar": {
              "outlinewidth": 0,
              "ticks": ""
             }
            },
            "type": "scatterternary"
           }
          ],
          "surface": [
           {
            "colorbar": {
             "outlinewidth": 0,
             "ticks": ""
            },
            "colorscale": [
             [
              0,
              "#0d0887"
             ],
             [
              0.1111111111111111,
              "#46039f"
             ],
             [
              0.2222222222222222,
              "#7201a8"
             ],
             [
              0.3333333333333333,
              "#9c179e"
             ],
             [
              0.4444444444444444,
              "#bd3786"
             ],
             [
              0.5555555555555556,
              "#d8576b"
             ],
             [
              0.6666666666666666,
              "#ed7953"
             ],
             [
              0.7777777777777778,
              "#fb9f3a"
             ],
             [
              0.8888888888888888,
              "#fdca26"
             ],
             [
              1,
              "#f0f921"
             ]
            ],
            "type": "surface"
           }
          ],
          "table": [
           {
            "cells": {
             "fill": {
              "color": "#EBF0F8"
             },
             "line": {
              "color": "white"
             }
            },
            "header": {
             "fill": {
              "color": "#C8D4E3"
             },
             "line": {
              "color": "white"
             }
            },
            "type": "table"
           }
          ]
         },
         "layout": {
          "annotationdefaults": {
           "arrowcolor": "#2a3f5f",
           "arrowhead": 0,
           "arrowwidth": 1
          },
          "autotypenumbers": "strict",
          "coloraxis": {
           "colorbar": {
            "outlinewidth": 0,
            "ticks": ""
           }
          },
          "colorscale": {
           "diverging": [
            [
             0,
             "#8e0152"
            ],
            [
             0.1,
             "#c51b7d"
            ],
            [
             0.2,
             "#de77ae"
            ],
            [
             0.3,
             "#f1b6da"
            ],
            [
             0.4,
             "#fde0ef"
            ],
            [
             0.5,
             "#f7f7f7"
            ],
            [
             0.6,
             "#e6f5d0"
            ],
            [
             0.7,
             "#b8e186"
            ],
            [
             0.8,
             "#7fbc41"
            ],
            [
             0.9,
             "#4d9221"
            ],
            [
             1,
             "#276419"
            ]
           ],
           "sequential": [
            [
             0,
             "#0d0887"
            ],
            [
             0.1111111111111111,
             "#46039f"
            ],
            [
             0.2222222222222222,
             "#7201a8"
            ],
            [
             0.3333333333333333,
             "#9c179e"
            ],
            [
             0.4444444444444444,
             "#bd3786"
            ],
            [
             0.5555555555555556,
             "#d8576b"
            ],
            [
             0.6666666666666666,
             "#ed7953"
            ],
            [
             0.7777777777777778,
             "#fb9f3a"
            ],
            [
             0.8888888888888888,
             "#fdca26"
            ],
            [
             1,
             "#f0f921"
            ]
           ],
           "sequentialminus": [
            [
             0,
             "#0d0887"
            ],
            [
             0.1111111111111111,
             "#46039f"
            ],
            [
             0.2222222222222222,
             "#7201a8"
            ],
            [
             0.3333333333333333,
             "#9c179e"
            ],
            [
             0.4444444444444444,
             "#bd3786"
            ],
            [
             0.5555555555555556,
             "#d8576b"
            ],
            [
             0.6666666666666666,
             "#ed7953"
            ],
            [
             0.7777777777777778,
             "#fb9f3a"
            ],
            [
             0.8888888888888888,
             "#fdca26"
            ],
            [
             1,
             "#f0f921"
            ]
           ]
          },
          "colorway": [
           "#636efa",
           "#EF553B",
           "#00cc96",
           "#ab63fa",
           "#FFA15A",
           "#19d3f3",
           "#FF6692",
           "#B6E880",
           "#FF97FF",
           "#FECB52"
          ],
          "font": {
           "color": "#2a3f5f"
          },
          "geo": {
           "bgcolor": "white",
           "lakecolor": "white",
           "landcolor": "#E5ECF6",
           "showlakes": true,
           "showland": true,
           "subunitcolor": "white"
          },
          "hoverlabel": {
           "align": "left"
          },
          "hovermode": "closest",
          "mapbox": {
           "style": "light"
          },
          "paper_bgcolor": "white",
          "plot_bgcolor": "#E5ECF6",
          "polar": {
           "angularaxis": {
            "gridcolor": "white",
            "linecolor": "white",
            "ticks": ""
           },
           "bgcolor": "#E5ECF6",
           "radialaxis": {
            "gridcolor": "white",
            "linecolor": "white",
            "ticks": ""
           }
          },
          "scene": {
           "xaxis": {
            "backgroundcolor": "#E5ECF6",
            "gridcolor": "white",
            "gridwidth": 2,
            "linecolor": "white",
            "showbackground": true,
            "ticks": "",
            "zerolinecolor": "white"
           },
           "yaxis": {
            "backgroundcolor": "#E5ECF6",
            "gridcolor": "white",
            "gridwidth": 2,
            "linecolor": "white",
            "showbackground": true,
            "ticks": "",
            "zerolinecolor": "white"
           },
           "zaxis": {
            "backgroundcolor": "#E5ECF6",
            "gridcolor": "white",
            "gridwidth": 2,
            "linecolor": "white",
            "showbackground": true,
            "ticks": "",
            "zerolinecolor": "white"
           }
          },
          "shapedefaults": {
           "line": {
            "color": "#2a3f5f"
           }
          },
          "ternary": {
           "aaxis": {
            "gridcolor": "white",
            "linecolor": "white",
            "ticks": ""
           },
           "baxis": {
            "gridcolor": "white",
            "linecolor": "white",
            "ticks": ""
           },
           "bgcolor": "#E5ECF6",
           "caxis": {
            "gridcolor": "white",
            "linecolor": "white",
            "ticks": ""
           }
          },
          "title": {
           "x": 0.05
          },
          "xaxis": {
           "automargin": true,
           "gridcolor": "white",
           "linecolor": "white",
           "ticks": "",
           "title": {
            "standoff": 15
           },
           "zerolinecolor": "white",
           "zerolinewidth": 2
          },
          "yaxis": {
           "automargin": true,
           "gridcolor": "white",
           "linecolor": "white",
           "ticks": "",
           "title": {
            "standoff": 15
           },
           "zerolinecolor": "white",
           "zerolinewidth": 2
          }
         }
        },
        "title": {
         "text": "Afghanistan over the years 1961-2013 (Total Food Production )"
        },
        "xaxis": {
         "anchor": "y",
         "domain": [
          0,
          1
         ],
         "title": {
          "text": "Years"
         }
        },
        "yaxis": {
         "anchor": "x",
         "domain": [
          0,
          1
         ],
         "title": {
          "text": "Quantity Measure (Tonnes)"
         }
        }
       }
      }
     },
     "metadata": {},
     "output_type": "display_data"
    }
   ],
   "source": [
    "px.line(countries['Afghanistan'].sort_values('Item').median(), \n",
    "    labels={'value':'Quantity Measure (Tonnes)', 'index':'Years', 'variable': 'Afghanistan'},\n",
    "    title='Afghanistan over the years 1961-2013 (Total Food Production )'\n",
    ")"
   ]
  },
  {
   "cell_type": "code",
   "execution_count": 39,
   "metadata": {},
   "outputs": [
    {
     "ename": "KeyError",
     "evalue": "'AFG'",
     "output_type": "error",
     "traceback": [
      "\u001b[1;31m---------------------------------------------------------------------------\u001b[0m",
      "\u001b[1;31mKeyError\u001b[0m                                  Traceback (most recent call last)",
      "\u001b[1;32me:\\Contains\\NEW\\food22.ipynb Cell 6'\u001b[0m in \u001b[0;36m<cell line: 41>\u001b[1;34m()\u001b[0m\n\u001b[0;32m      <a href='vscode-notebook-cell:/e%3A/Contains/NEW/food22.ipynb#ch0000005?line=0'>1</a>\u001b[0m \u001b[39m# AFG=food[food['Area'] == 'Afghanistan']\u001b[39;00m\n\u001b[0;32m      <a href='vscode-notebook-cell:/e%3A/Contains/NEW/food22.ipynb#ch0000005?line=1'>2</a>\u001b[0m \u001b[39m# ALB=food[food['Area'] == 'Albania']\u001b[39;00m\n\u001b[0;32m      <a href='vscode-notebook-cell:/e%3A/Contains/NEW/food22.ipynb#ch0000005?line=2'>3</a>\u001b[0m \u001b[39m# DZA=food[food['Area'] == 'Algeria']\u001b[39;00m\n\u001b[1;32m   (...)\u001b[0m\n\u001b[0;32m     <a href='vscode-notebook-cell:/e%3A/Contains/NEW/food22.ipynb#ch0000005?line=38'>39</a>\u001b[0m \u001b[39m# CYP=food[food['Area'] == 'Cyprus']\u001b[39;00m\n\u001b[0;32m     <a href='vscode-notebook-cell:/e%3A/Contains/NEW/food22.ipynb#ch0000005?line=39'>40</a>\u001b[0m \u001b[39m# CZE=food[food['Area'] == 'Czechia']\u001b[39;00m\n\u001b[1;32m---> <a href='vscode-notebook-cell:/e%3A/Contains/NEW/food22.ipynb#ch0000005?line=40'>41</a>\u001b[0m countries[\u001b[39m'\u001b[39;49m\u001b[39mAFG\u001b[39;49m\u001b[39m'\u001b[39;49m]\u001b[39m.\u001b[39mindex\n",
      "\u001b[1;31mKeyError\u001b[0m: 'AFG'"
     ]
    }
   ],
   "source": [
    "# AFG=food[food['Area'] == 'Afghanistan']\n",
    "# ALB=food[food['Area'] == 'Albania']\n",
    "# DZA=food[food['Area'] == 'Algeria']\n",
    "# AGO=food[food['Area'] == 'Angola']\n",
    "# ATG=food[food['Area'] == 'Antigua and Barbuda']\n",
    "# ARG=food[food['Area'] == 'Argentina']                       \n",
    "# ARM=food[food['Area'] == 'Armenia']\n",
    "# AUS=food[food['Area'] == 'Australia']\n",
    "# AUT=food[food['Area'] == 'Austria']\n",
    "# AZE=food[food['Area'] == 'Bahamas']\n",
    "# BGD=food[food['Area'] == 'Bangladesh']\n",
    "# BRB=food[food['Area'] == 'Barbados']\n",
    "# BLR=food[food['Area'] == 'Belarus']\n",
    "# BEL=food[food['Area'] == 'Belgium']\n",
    "# BLZ=food[food['Area'] == 'Belize']\n",
    "# BEN=food[food['Area'] == 'Benin']\n",
    "# BMU=food[food['Area'] == 'Bermuda']\n",
    "# BOL=food[food['Area'] == 'Bolivia (Plurinational State of)']\n",
    "# BIH=food[food['Area'] == 'Bosnia and Herzegovina']\n",
    "# BWA=food[food['Area'] == 'Botswana']\n",
    "# BRA=food[food['Area'] == 'Brazil']\n",
    "# BRN=food[food['Area'] == 'Brunei Darussalam']\n",
    "# BGR=food[food['Area'] == 'Bulgaria']\n",
    "# BFA=food[food['Area'] == 'Burkina Faso']\n",
    "# CPV=food[food['Area'] == 'Cabo Verde']\n",
    "# CMR=food[food['Area'] == 'Cameroon']\n",
    "# CAN=food[food['Area'] == 'Canada']\n",
    "# CAF=food[food['Area'] == 'Central African Republic']\n",
    "# CHL=food[food['Area'] == 'Chile']\n",
    "# CHNHK=food[food['Area'] == 'China, Hong Kong SAR']\n",
    "# CHNMA=food[food['Area'] == 'China, Macao SAR']\n",
    "# CHNML=food[food['Area'] == 'China, mainland']\n",
    "# CHNTW=food[food['Area'] == 'China, Taiwan Province']\n",
    "# COL=food[food['Area'] == 'Colombia']\n",
    "# COD=food[food['Area'] == 'Congo']\n",
    "# CRI=food[food['Area'] == 'Costa Rica']\n",
    "# CIV=food[food['Area'] == 'Côte d'+'Ivoire']\n",
    "# CUB=food[food['Area'] == 'Cuba']\n",
    "# CYP=food[food['Area'] == 'Cyprus']\n",
    "# CZE=food[food['Area'] == 'Czechia']\n",
    "countries['AFG'].index"
   ]
  },
  {
   "cell_type": "code",
   "execution_count": null,
   "metadata": {},
   "outputs": [],
   "source": [
    "countries['Afghanistan']"
   ]
  },
  {
   "cell_type": "code",
   "execution_count": null,
   "metadata": {},
   "outputs": [],
   "source": [
    "countries['Afghanistan'].set_index(\"Item\",inplace=True)#.loc[['Wheat','Maize', 'Animal fats', 'Spices', 'Vegetables', 'Honey']][[2001, 2003]]"
   ]
  },
  {
   "cell_type": "code",
   "execution_count": null,
   "metadata": {},
   "outputs": [],
   "source": [
    "countries['Afghanistan'].loc[['Wheat','Maize', 'Animal fats', 'Spices', 'Vegetables', 'Honey']][[2001, 2003]].plot()"
   ]
  },
  {
   "cell_type": "code",
   "execution_count": null,
   "metadata": {},
   "outputs": [],
   "source": [
    "#items=list(food[\"Item\"].unique())\n"
   ]
  },
  {
   "cell_type": "code",
   "execution_count": null,
   "metadata": {},
   "outputs": [],
   "source": [
    "import matplotlib.pyplot as mp\n",
    "import pandas as p\n",
    "foodall=p.read_csv(\"D:\\WORLD FOOD SUPPLY AND WASTE ANALYSIS (PROJECT) - 2022\\datasets\\FOODALL.csv\")"
   ]
  },
  {
   "cell_type": "code",
   "execution_count": null,
   "metadata": {},
   "outputs": [
    {
     "data": {
      "text/html": [
       "<div>\n",
       "<style scoped>\n",
       "    .dataframe tbody tr th:only-of-type {\n",
       "        vertical-align: middle;\n",
       "    }\n",
       "\n",
       "    .dataframe tbody tr th {\n",
       "        vertical-align: top;\n",
       "    }\n",
       "\n",
       "    .dataframe thead th {\n",
       "        text-align: right;\n",
       "    }\n",
       "</style>\n",
       "<table border=\"1\" class=\"dataframe\">\n",
       "  <thead>\n",
       "    <tr style=\"text-align: right;\">\n",
       "      <th></th>\n",
       "      <th>2013</th>\n",
       "      <th>2014</th>\n",
       "      <th>2015</th>\n",
       "      <th>2016</th>\n",
       "      <th>2017</th>\n",
       "      <th>2018</th>\n",
       "      <th>2019</th>\n",
       "    </tr>\n",
       "    <tr>\n",
       "      <th>Commodity</th>\n",
       "      <th></th>\n",
       "      <th></th>\n",
       "      <th></th>\n",
       "      <th></th>\n",
       "      <th></th>\n",
       "      <th></th>\n",
       "      <th></th>\n",
       "    </tr>\n",
       "  </thead>\n",
       "  <tbody>\n",
       "    <tr>\n",
       "      <th>Cereals</th>\n",
       "      <td>265.0</td>\n",
       "      <td>252.0</td>\n",
       "      <td>251.6</td>\n",
       "      <td>275.1</td>\n",
       "      <td>285.0</td>\n",
       "      <td>285.2</td>\n",
       "      <td>296.7</td>\n",
       "    </tr>\n",
       "    <tr>\n",
       "      <th>Rice</th>\n",
       "      <td>245.8</td>\n",
       "      <td>234.9</td>\n",
       "      <td>235.2</td>\n",
       "      <td>252.0</td>\n",
       "      <td>259.6</td>\n",
       "      <td>263.2</td>\n",
       "      <td>273.5</td>\n",
       "    </tr>\n",
       "    <tr>\n",
       "      <th>Wheat</th>\n",
       "      <td>106.6</td>\n",
       "      <td>105.5</td>\n",
       "      <td>104.4</td>\n",
       "      <td>109.7</td>\n",
       "      <td>112.8</td>\n",
       "      <td>116.5</td>\n",
       "      <td>118.4</td>\n",
       "    </tr>\n",
       "    <tr>\n",
       "      <th>Coarse Cereals</th>\n",
       "      <td>95.9</td>\n",
       "      <td>86.5</td>\n",
       "      <td>92.3</td>\n",
       "      <td>98.5</td>\n",
       "      <td>99.9</td>\n",
       "      <td>103.6</td>\n",
       "      <td>107.6</td>\n",
       "    </tr>\n",
       "    <tr>\n",
       "      <th>Pulses</th>\n",
       "      <td>43.3</td>\n",
       "      <td>42.9</td>\n",
       "      <td>38.5</td>\n",
       "      <td>43.8</td>\n",
       "      <td>47.0</td>\n",
       "      <td>43.1</td>\n",
       "      <td>47.5</td>\n",
       "    </tr>\n",
       "    <tr>\n",
       "      <th>Oilseeds</th>\n",
       "      <td>19.3</td>\n",
       "      <td>17.2</td>\n",
       "      <td>16.4</td>\n",
       "      <td>23.1</td>\n",
       "      <td>25.4</td>\n",
       "      <td>22.1</td>\n",
       "      <td>23.2</td>\n",
       "    </tr>\n",
       "    <tr>\n",
       "      <th>Fruits</th>\n",
       "      <td>32.7</td>\n",
       "      <td>27.5</td>\n",
       "      <td>25.3</td>\n",
       "      <td>31.3</td>\n",
       "      <td>31.5</td>\n",
       "      <td>31.5</td>\n",
       "      <td>33.4</td>\n",
       "    </tr>\n",
       "    <tr>\n",
       "      <th>Vegetables</th>\n",
       "      <td>91.5</td>\n",
       "      <td>89.5</td>\n",
       "      <td>90.2</td>\n",
       "      <td>92.9</td>\n",
       "      <td>97.4</td>\n",
       "      <td>98.0</td>\n",
       "      <td>99.1</td>\n",
       "    </tr>\n",
       "    <tr>\n",
       "      <th>Plantation Crops</th>\n",
       "      <td>160.3</td>\n",
       "      <td>166.6</td>\n",
       "      <td>169.1</td>\n",
       "      <td>178.2</td>\n",
       "      <td>184.4</td>\n",
       "      <td>183.2</td>\n",
       "      <td>191.8</td>\n",
       "    </tr>\n",
       "    <tr>\n",
       "      <th>Spices</th>\n",
       "      <td>16.3</td>\n",
       "      <td>15.6</td>\n",
       "      <td>16.7</td>\n",
       "      <td>18.0</td>\n",
       "      <td>18.1</td>\n",
       "      <td>16.4</td>\n",
       "      <td>16.3</td>\n",
       "    </tr>\n",
       "    <tr>\n",
       "      <th>Eggs</th>\n",
       "      <td>5.9</td>\n",
       "      <td>6.1</td>\n",
       "      <td>7.0</td>\n",
       "      <td>8.1</td>\n",
       "      <td>8.1</td>\n",
       "      <td>9.4</td>\n",
       "      <td>9.4</td>\n",
       "    </tr>\n",
       "    <tr>\n",
       "      <th>Fisheries</th>\n",
       "      <td>74.8</td>\n",
       "      <td>78.5</td>\n",
       "      <td>82.9</td>\n",
       "      <td>88.1</td>\n",
       "      <td>95.2</td>\n",
       "      <td>103.3</td>\n",
       "      <td>0.0</td>\n",
       "    </tr>\n",
       "    <tr>\n",
       "      <th>Meat</th>\n",
       "      <td>9.6</td>\n",
       "      <td>10.3</td>\n",
       "      <td>10.8</td>\n",
       "      <td>11.4</td>\n",
       "      <td>12.6</td>\n",
       "      <td>13.8</td>\n",
       "      <td>0.0</td>\n",
       "    </tr>\n",
       "    <tr>\n",
       "      <th>Milk</th>\n",
       "      <td>6.2</td>\n",
       "      <td>6.7</td>\n",
       "      <td>7.0</td>\n",
       "      <td>7.4</td>\n",
       "      <td>7.7</td>\n",
       "      <td>8.1</td>\n",
       "      <td>0.0</td>\n",
       "    </tr>\n",
       "  </tbody>\n",
       "</table>\n",
       "</div>"
      ],
      "text/plain": [
       "                   2013   2014   2015   2016   2017   2018   2019\n",
       "Commodity                                                        \n",
       "Cereals           265.0  252.0  251.6  275.1  285.0  285.2  296.7\n",
       "Rice              245.8  234.9  235.2  252.0  259.6  263.2  273.5\n",
       "Wheat             106.6  105.5  104.4  109.7  112.8  116.5  118.4\n",
       "Coarse Cereals     95.9   86.5   92.3   98.5   99.9  103.6  107.6\n",
       "Pulses             43.3   42.9   38.5   43.8   47.0   43.1   47.5\n",
       "Oilseeds           19.3   17.2   16.4   23.1   25.4   22.1   23.2\n",
       "Fruits             32.7   27.5   25.3   31.3   31.5   31.5   33.4\n",
       "Vegetables         91.5   89.5   90.2   92.9   97.4   98.0   99.1\n",
       "Plantation Crops  160.3  166.6  169.1  178.2  184.4  183.2  191.8\n",
       "Spices             16.3   15.6   16.7   18.0   18.1   16.4   16.3\n",
       "Eggs                5.9    6.1    7.0    8.1    8.1    9.4    9.4\n",
       "Fisheries          74.8   78.5   82.9   88.1   95.2  103.3    0.0\n",
       "Meat                9.6   10.3   10.8   11.4   12.6   13.8    0.0\n",
       "Milk                6.2    6.7    7.0    7.4    7.7    8.1    0.0"
      ]
     },
     "execution_count": 26,
     "metadata": {},
     "output_type": "execute_result"
    }
   ],
   "source": [
    "foodall"
   ]
  },
  {
   "cell_type": "code",
   "execution_count": null,
   "metadata": {},
   "outputs": [],
   "source": [
    "foodall.set_index('Commodity', inplace=True)"
   ]
  },
  {
   "cell_type": "code",
   "execution_count": null,
   "metadata": {},
   "outputs": [
    {
     "ename": "IndexError",
     "evalue": "positional indexers are out-of-bounds",
     "output_type": "error",
     "traceback": [
      "\u001b[1;31m---------------------------------------------------------------------------\u001b[0m",
      "\u001b[1;31mIndexError\u001b[0m                                Traceback (most recent call last)",
      "File \u001b[1;32mc:\\Users\\user\\AppData\\Local\\Programs\\Python\\Python39\\lib\\site-packages\\pandas\\core\\indexing.py:1482\u001b[0m, in \u001b[0;36m_iLocIndexer._get_list_axis\u001b[1;34m(self, key, axis)\u001b[0m\n\u001b[0;32m   <a href='file:///c%3A/Users/user/AppData/Local/Programs/Python/Python39/lib/site-packages/pandas/core/indexing.py?line=1480'>1481</a>\u001b[0m \u001b[39mtry\u001b[39;00m:\n\u001b[1;32m-> <a href='file:///c%3A/Users/user/AppData/Local/Programs/Python/Python39/lib/site-packages/pandas/core/indexing.py?line=1481'>1482</a>\u001b[0m     \u001b[39mreturn\u001b[39;00m \u001b[39mself\u001b[39;49m\u001b[39m.\u001b[39;49mobj\u001b[39m.\u001b[39;49m_take_with_is_copy(key, axis\u001b[39m=\u001b[39;49maxis)\n\u001b[0;32m   <a href='file:///c%3A/Users/user/AppData/Local/Programs/Python/Python39/lib/site-packages/pandas/core/indexing.py?line=1482'>1483</a>\u001b[0m \u001b[39mexcept\u001b[39;00m \u001b[39mIndexError\u001b[39;00m \u001b[39mas\u001b[39;00m err:\n\u001b[0;32m   <a href='file:///c%3A/Users/user/AppData/Local/Programs/Python/Python39/lib/site-packages/pandas/core/indexing.py?line=1483'>1484</a>\u001b[0m     \u001b[39m# re-raise with different error message\u001b[39;00m\n",
      "File \u001b[1;32mc:\\Users\\user\\AppData\\Local\\Programs\\Python\\Python39\\lib\\site-packages\\pandas\\core\\series.py:922\u001b[0m, in \u001b[0;36mSeries._take_with_is_copy\u001b[1;34m(self, indices, axis)\u001b[0m\n\u001b[0;32m    <a href='file:///c%3A/Users/user/AppData/Local/Programs/Python/Python39/lib/site-packages/pandas/core/series.py?line=913'>914</a>\u001b[0m \u001b[39m\"\"\"\u001b[39;00m\n\u001b[0;32m    <a href='file:///c%3A/Users/user/AppData/Local/Programs/Python/Python39/lib/site-packages/pandas/core/series.py?line=914'>915</a>\u001b[0m \u001b[39mInternal version of the `take` method that sets the `_is_copy`\u001b[39;00m\n\u001b[0;32m    <a href='file:///c%3A/Users/user/AppData/Local/Programs/Python/Python39/lib/site-packages/pandas/core/series.py?line=915'>916</a>\u001b[0m \u001b[39mattribute to keep track of the parent dataframe (using in indexing\u001b[39;00m\n\u001b[1;32m   (...)\u001b[0m\n\u001b[0;32m    <a href='file:///c%3A/Users/user/AppData/Local/Programs/Python/Python39/lib/site-packages/pandas/core/series.py?line=919'>920</a>\u001b[0m \u001b[39mSee the docstring of `take` for full explanation of the parameters.\u001b[39;00m\n\u001b[0;32m    <a href='file:///c%3A/Users/user/AppData/Local/Programs/Python/Python39/lib/site-packages/pandas/core/series.py?line=920'>921</a>\u001b[0m \u001b[39m\"\"\"\u001b[39;00m\n\u001b[1;32m--> <a href='file:///c%3A/Users/user/AppData/Local/Programs/Python/Python39/lib/site-packages/pandas/core/series.py?line=921'>922</a>\u001b[0m \u001b[39mreturn\u001b[39;00m \u001b[39mself\u001b[39;49m\u001b[39m.\u001b[39;49mtake(indices\u001b[39m=\u001b[39;49mindices, axis\u001b[39m=\u001b[39;49maxis)\n",
      "File \u001b[1;32mc:\\Users\\user\\AppData\\Local\\Programs\\Python\\Python39\\lib\\site-packages\\pandas\\core\\series.py:907\u001b[0m, in \u001b[0;36mSeries.take\u001b[1;34m(self, indices, axis, is_copy, **kwargs)\u001b[0m\n\u001b[0;32m    <a href='file:///c%3A/Users/user/AppData/Local/Programs/Python/Python39/lib/site-packages/pandas/core/series.py?line=905'>906</a>\u001b[0m indices \u001b[39m=\u001b[39m ensure_platform_int(indices)\n\u001b[1;32m--> <a href='file:///c%3A/Users/user/AppData/Local/Programs/Python/Python39/lib/site-packages/pandas/core/series.py?line=906'>907</a>\u001b[0m new_index \u001b[39m=\u001b[39m \u001b[39mself\u001b[39;49m\u001b[39m.\u001b[39;49mindex\u001b[39m.\u001b[39;49mtake(indices)\n\u001b[0;32m    <a href='file:///c%3A/Users/user/AppData/Local/Programs/Python/Python39/lib/site-packages/pandas/core/series.py?line=907'>908</a>\u001b[0m new_values \u001b[39m=\u001b[39m \u001b[39mself\u001b[39m\u001b[39m.\u001b[39m_values\u001b[39m.\u001b[39mtake(indices)\n",
      "File \u001b[1;32mc:\\Users\\user\\AppData\\Local\\Programs\\Python\\Python39\\lib\\site-packages\\pandas\\core\\indexes\\base.py:1113\u001b[0m, in \u001b[0;36mIndex.take\u001b[1;34m(self, indices, axis, allow_fill, fill_value, **kwargs)\u001b[0m\n\u001b[0;32m   <a href='file:///c%3A/Users/user/AppData/Local/Programs/Python/Python39/lib/site-packages/pandas/core/indexes/base.py?line=1111'>1112</a>\u001b[0m \u001b[39mif\u001b[39;00m \u001b[39misinstance\u001b[39m(values, np\u001b[39m.\u001b[39mndarray):\n\u001b[1;32m-> <a href='file:///c%3A/Users/user/AppData/Local/Programs/Python/Python39/lib/site-packages/pandas/core/indexes/base.py?line=1112'>1113</a>\u001b[0m     taken \u001b[39m=\u001b[39m algos\u001b[39m.\u001b[39;49mtake(\n\u001b[0;32m   <a href='file:///c%3A/Users/user/AppData/Local/Programs/Python/Python39/lib/site-packages/pandas/core/indexes/base.py?line=1113'>1114</a>\u001b[0m         values, indices, allow_fill\u001b[39m=\u001b[39;49mallow_fill, fill_value\u001b[39m=\u001b[39;49m\u001b[39mself\u001b[39;49m\u001b[39m.\u001b[39;49m_na_value\n\u001b[0;32m   <a href='file:///c%3A/Users/user/AppData/Local/Programs/Python/Python39/lib/site-packages/pandas/core/indexes/base.py?line=1114'>1115</a>\u001b[0m     )\n\u001b[0;32m   <a href='file:///c%3A/Users/user/AppData/Local/Programs/Python/Python39/lib/site-packages/pandas/core/indexes/base.py?line=1115'>1116</a>\u001b[0m \u001b[39melse\u001b[39;00m:\n\u001b[0;32m   <a href='file:///c%3A/Users/user/AppData/Local/Programs/Python/Python39/lib/site-packages/pandas/core/indexes/base.py?line=1116'>1117</a>\u001b[0m     \u001b[39m# algos.take passes 'axis' keyword which not all EAs accept\u001b[39;00m\n",
      "File \u001b[1;32mc:\\Users\\user\\AppData\\Local\\Programs\\Python\\Python39\\lib\\site-packages\\pandas\\core\\algorithms.py:1445\u001b[0m, in \u001b[0;36mtake\u001b[1;34m(arr, indices, axis, allow_fill, fill_value)\u001b[0m\n\u001b[0;32m   <a href='file:///c%3A/Users/user/AppData/Local/Programs/Python/Python39/lib/site-packages/pandas/core/algorithms.py?line=1442'>1443</a>\u001b[0m \u001b[39melse\u001b[39;00m:\n\u001b[0;32m   <a href='file:///c%3A/Users/user/AppData/Local/Programs/Python/Python39/lib/site-packages/pandas/core/algorithms.py?line=1443'>1444</a>\u001b[0m     \u001b[39m# NumPy style\u001b[39;00m\n\u001b[1;32m-> <a href='file:///c%3A/Users/user/AppData/Local/Programs/Python/Python39/lib/site-packages/pandas/core/algorithms.py?line=1444'>1445</a>\u001b[0m     result \u001b[39m=\u001b[39m arr\u001b[39m.\u001b[39;49mtake(indices, axis\u001b[39m=\u001b[39;49maxis)\n\u001b[0;32m   <a href='file:///c%3A/Users/user/AppData/Local/Programs/Python/Python39/lib/site-packages/pandas/core/algorithms.py?line=1445'>1446</a>\u001b[0m \u001b[39mreturn\u001b[39;00m result\n",
      "\u001b[1;31mIndexError\u001b[0m: index 2013 is out of bounds for axis 0 with size 7",
      "\nThe above exception was the direct cause of the following exception:\n",
      "\u001b[1;31mIndexError\u001b[0m                                Traceback (most recent call last)",
      "\u001b[1;32me:\\Contains\\NEW\\food22.ipynb Cell 14'\u001b[0m in \u001b[0;36m<cell line: 1>\u001b[1;34m()\u001b[0m\n\u001b[1;32m----> <a href='vscode-notebook-cell:/e%3A/Contains/NEW/food22.ipynb#ch0000011?line=0'>1</a>\u001b[0m foodall\u001b[39m.\u001b[39;49mloc[\u001b[39m'\u001b[39;49m\u001b[39mPulses\u001b[39;49m\u001b[39m'\u001b[39;49m][[\u001b[39m2013\u001b[39;49m,\u001b[39m2014\u001b[39;49m,\u001b[39m2015\u001b[39;49m,\u001b[39m2016\u001b[39;49m,\u001b[39m2017\u001b[39;49m,\u001b[39m2018\u001b[39;49m,\u001b[39m2019\u001b[39;49m]]\u001b[39m.\u001b[39mT\u001b[39m.\u001b[39mplot(kind\u001b[39m=\u001b[39m\u001b[39m'\u001b[39m\u001b[39mline\u001b[39m\u001b[39m'\u001b[39m)\n\u001b[0;32m      <a href='vscode-notebook-cell:/e%3A/Contains/NEW/food22.ipynb#ch0000011?line=1'>2</a>\u001b[0m mp\u001b[39m.\u001b[39mtitle(\u001b[39m\"\u001b[39m\u001b[39mPulses Production from 2013-2019\u001b[39m\u001b[39m\"\u001b[39m)\n\u001b[0;32m      <a href='vscode-notebook-cell:/e%3A/Contains/NEW/food22.ipynb#ch0000011?line=2'>3</a>\u001b[0m mp\u001b[39m.\u001b[39mxlabel(\u001b[39m\"\u001b[39m\u001b[39mYears\u001b[39m\u001b[39m\"\u001b[39m)\n",
      "File \u001b[1;32mc:\\Users\\user\\AppData\\Local\\Programs\\Python\\Python39\\lib\\site-packages\\pandas\\core\\series.py:984\u001b[0m, in \u001b[0;36mSeries.__getitem__\u001b[1;34m(self, key)\u001b[0m\n\u001b[0;32m    <a href='file:///c%3A/Users/user/AppData/Local/Programs/Python/Python39/lib/site-packages/pandas/core/series.py?line=980'>981</a>\u001b[0m     key \u001b[39m=\u001b[39m np\u001b[39m.\u001b[39masarray(key, dtype\u001b[39m=\u001b[39m\u001b[39mbool\u001b[39m)\n\u001b[0;32m    <a href='file:///c%3A/Users/user/AppData/Local/Programs/Python/Python39/lib/site-packages/pandas/core/series.py?line=981'>982</a>\u001b[0m     \u001b[39mreturn\u001b[39;00m \u001b[39mself\u001b[39m\u001b[39m.\u001b[39m_get_values(key)\n\u001b[1;32m--> <a href='file:///c%3A/Users/user/AppData/Local/Programs/Python/Python39/lib/site-packages/pandas/core/series.py?line=983'>984</a>\u001b[0m \u001b[39mreturn\u001b[39;00m \u001b[39mself\u001b[39;49m\u001b[39m.\u001b[39;49m_get_with(key)\n",
      "File \u001b[1;32mc:\\Users\\user\\AppData\\Local\\Programs\\Python\\Python39\\lib\\site-packages\\pandas\\core\\series.py:1021\u001b[0m, in \u001b[0;36mSeries._get_with\u001b[1;34m(self, key)\u001b[0m\n\u001b[0;32m   <a href='file:///c%3A/Users/user/AppData/Local/Programs/Python/Python39/lib/site-packages/pandas/core/series.py?line=1018'>1019</a>\u001b[0m         \u001b[39mreturn\u001b[39;00m \u001b[39mself\u001b[39m\u001b[39m.\u001b[39mloc[key]\n\u001b[0;32m   <a href='file:///c%3A/Users/user/AppData/Local/Programs/Python/Python39/lib/site-packages/pandas/core/series.py?line=1019'>1020</a>\u001b[0m     \u001b[39melse\u001b[39;00m:\n\u001b[1;32m-> <a href='file:///c%3A/Users/user/AppData/Local/Programs/Python/Python39/lib/site-packages/pandas/core/series.py?line=1020'>1021</a>\u001b[0m         \u001b[39mreturn\u001b[39;00m \u001b[39mself\u001b[39;49m\u001b[39m.\u001b[39;49miloc[key]\n\u001b[0;32m   <a href='file:///c%3A/Users/user/AppData/Local/Programs/Python/Python39/lib/site-packages/pandas/core/series.py?line=1022'>1023</a>\u001b[0m \u001b[39m# handle the dup indexing case GH#4246\u001b[39;00m\n\u001b[0;32m   <a href='file:///c%3A/Users/user/AppData/Local/Programs/Python/Python39/lib/site-packages/pandas/core/series.py?line=1023'>1024</a>\u001b[0m \u001b[39mreturn\u001b[39;00m \u001b[39mself\u001b[39m\u001b[39m.\u001b[39mloc[key]\n",
      "File \u001b[1;32mc:\\Users\\user\\AppData\\Local\\Programs\\Python\\Python39\\lib\\site-packages\\pandas\\core\\indexing.py:967\u001b[0m, in \u001b[0;36m_LocationIndexer.__getitem__\u001b[1;34m(self, key)\u001b[0m\n\u001b[0;32m    <a href='file:///c%3A/Users/user/AppData/Local/Programs/Python/Python39/lib/site-packages/pandas/core/indexing.py?line=963'>964</a>\u001b[0m axis \u001b[39m=\u001b[39m \u001b[39mself\u001b[39m\u001b[39m.\u001b[39maxis \u001b[39mor\u001b[39;00m \u001b[39m0\u001b[39m\n\u001b[0;32m    <a href='file:///c%3A/Users/user/AppData/Local/Programs/Python/Python39/lib/site-packages/pandas/core/indexing.py?line=965'>966</a>\u001b[0m maybe_callable \u001b[39m=\u001b[39m com\u001b[39m.\u001b[39mapply_if_callable(key, \u001b[39mself\u001b[39m\u001b[39m.\u001b[39mobj)\n\u001b[1;32m--> <a href='file:///c%3A/Users/user/AppData/Local/Programs/Python/Python39/lib/site-packages/pandas/core/indexing.py?line=966'>967</a>\u001b[0m \u001b[39mreturn\u001b[39;00m \u001b[39mself\u001b[39;49m\u001b[39m.\u001b[39;49m_getitem_axis(maybe_callable, axis\u001b[39m=\u001b[39;49maxis)\n",
      "File \u001b[1;32mc:\\Users\\user\\AppData\\Local\\Programs\\Python\\Python39\\lib\\site-packages\\pandas\\core\\indexing.py:1511\u001b[0m, in \u001b[0;36m_iLocIndexer._getitem_axis\u001b[1;34m(self, key, axis)\u001b[0m\n\u001b[0;32m   <a href='file:///c%3A/Users/user/AppData/Local/Programs/Python/Python39/lib/site-packages/pandas/core/indexing.py?line=1508'>1509</a>\u001b[0m \u001b[39m# a list of integers\u001b[39;00m\n\u001b[0;32m   <a href='file:///c%3A/Users/user/AppData/Local/Programs/Python/Python39/lib/site-packages/pandas/core/indexing.py?line=1509'>1510</a>\u001b[0m \u001b[39melif\u001b[39;00m is_list_like_indexer(key):\n\u001b[1;32m-> <a href='file:///c%3A/Users/user/AppData/Local/Programs/Python/Python39/lib/site-packages/pandas/core/indexing.py?line=1510'>1511</a>\u001b[0m     \u001b[39mreturn\u001b[39;00m \u001b[39mself\u001b[39;49m\u001b[39m.\u001b[39;49m_get_list_axis(key, axis\u001b[39m=\u001b[39;49maxis)\n\u001b[0;32m   <a href='file:///c%3A/Users/user/AppData/Local/Programs/Python/Python39/lib/site-packages/pandas/core/indexing.py?line=1512'>1513</a>\u001b[0m \u001b[39m# a single integer\u001b[39;00m\n\u001b[0;32m   <a href='file:///c%3A/Users/user/AppData/Local/Programs/Python/Python39/lib/site-packages/pandas/core/indexing.py?line=1513'>1514</a>\u001b[0m \u001b[39melse\u001b[39;00m:\n\u001b[0;32m   <a href='file:///c%3A/Users/user/AppData/Local/Programs/Python/Python39/lib/site-packages/pandas/core/indexing.py?line=1514'>1515</a>\u001b[0m     key \u001b[39m=\u001b[39m item_from_zerodim(key)\n",
      "File \u001b[1;32mc:\\Users\\user\\AppData\\Local\\Programs\\Python\\Python39\\lib\\site-packages\\pandas\\core\\indexing.py:1485\u001b[0m, in \u001b[0;36m_iLocIndexer._get_list_axis\u001b[1;34m(self, key, axis)\u001b[0m\n\u001b[0;32m   <a href='file:///c%3A/Users/user/AppData/Local/Programs/Python/Python39/lib/site-packages/pandas/core/indexing.py?line=1481'>1482</a>\u001b[0m     \u001b[39mreturn\u001b[39;00m \u001b[39mself\u001b[39m\u001b[39m.\u001b[39mobj\u001b[39m.\u001b[39m_take_with_is_copy(key, axis\u001b[39m=\u001b[39maxis)\n\u001b[0;32m   <a href='file:///c%3A/Users/user/AppData/Local/Programs/Python/Python39/lib/site-packages/pandas/core/indexing.py?line=1482'>1483</a>\u001b[0m \u001b[39mexcept\u001b[39;00m \u001b[39mIndexError\u001b[39;00m \u001b[39mas\u001b[39;00m err:\n\u001b[0;32m   <a href='file:///c%3A/Users/user/AppData/Local/Programs/Python/Python39/lib/site-packages/pandas/core/indexing.py?line=1483'>1484</a>\u001b[0m     \u001b[39m# re-raise with different error message\u001b[39;00m\n\u001b[1;32m-> <a href='file:///c%3A/Users/user/AppData/Local/Programs/Python/Python39/lib/site-packages/pandas/core/indexing.py?line=1484'>1485</a>\u001b[0m     \u001b[39mraise\u001b[39;00m \u001b[39mIndexError\u001b[39;00m(\u001b[39m\"\u001b[39m\u001b[39mpositional indexers are out-of-bounds\u001b[39m\u001b[39m\"\u001b[39m) \u001b[39mfrom\u001b[39;00m \u001b[39merr\u001b[39;00m\n",
      "\u001b[1;31mIndexError\u001b[0m: positional indexers are out-of-bounds"
     ]
    }
   ],
   "source": [
    "foodall.loc['Pulses'][[2013,2014,2015,2016,2017,2018,2019]].T.plot(kind='line')\n",
    "mp.title(\"Pulses Production from 2013-2019\")\n",
    "mp.xlabel(\"Years\")\n",
    "mp.ylabel(\"Quantity (Millions)\")\n",
    "mp.show()"
   ]
  },
  {
   "cell_type": "code",
   "execution_count": null,
   "metadata": {},
   "outputs": [],
   "source": [
    "foodall.loc['Vegetables'][[2013,2014,2015,2016,2017,2018,2019]].plot(kind='line')\n",
    "mp.title(\"Vegetables Production from 2013-2019\")\n",
    "mp.xlabel(\"Vegetables\")\n",
    "[[2013,2014,2015,2016,2017,2018,2019]]\n",
    "mp.show()"
   ]
  },
  {
   "cell_type": "code",
   "execution_count": null,
   "metadata": {},
   "outputs": [],
   "source": [
    "foodall.loc['Oilseeds'][[2013,2014,2015,2016,2017,2018,2019]].plot(kind='line')\n",
    "mp.title(\"Oilseeds Production from 2013-2019\")\n",
    "mp.xlabel(\"Oilseeds\")\n",
    "mp.ylabel(\"Quantity (Millions)\")\n",
    "mp.show()"
   ]
  },
  {
   "cell_type": "code",
   "execution_count": null,
   "metadata": {},
   "outputs": [],
   "source": [
    "foodall.loc['Eggs'][[2013,2014,2015,2016,2017,2018,2019]].plot(kind='bar')\n",
    "mp.title(\"Eggs Production from 2013-2019\")\n",
    "mp.xlabel(\"Eggs\")\n",
    "mp.ylabel(\"Quantity (Billions)\")\n",
    "mp.show()"
   ]
  },
  {
   "cell_type": "code",
   "execution_count": null,
   "metadata": {},
   "outputs": [],
   "source": [
    "foodall.loc['Meat'][[2013,2014,2015,2016,2017,2018,2019]].plot(kind='line')\n",
    "mp.title(\"Meat Production from 2013-2019\")\n",
    "mp.xlabel(\"Meat\")\n",
    "mp.ylabel(\"Quantity (Millions)\")\n",
    "mp.show()"
   ]
  },
  {
   "cell_type": "code",
   "execution_count": null,
   "metadata": {},
   "outputs": [],
   "source": [
    "foodall.loc['Rice'][[2013,2014,2015,2016,2017,2018,2019]].plot(kind='line')\n",
    "mp.title(\"Rice Production from 2013-2019\")\n",
    "mp.xlabel(\"Rice\")\n",
    "mp.ylabel(\"Quantity (Millions)\")\n",
    "mp.show()"
   ]
  },
  {
   "cell_type": "code",
   "execution_count": null,
   "metadata": {},
   "outputs": [],
   "source": [
    "foodall.loc['Coarse Cereals'][[2013,2014,2015,2016,2017,2018,2019]].plot(kind='line')\n",
    "mp.title(\"Coarse Cereal Production from 2013-2019\")\n",
    "mp.xlabel(\"Coarse Cereal\")\n",
    "mp.ylabel(\"Quantity (Millions)\")\n",
    "mp.show()"
   ]
  },
  {
   "cell_type": "code",
   "execution_count": null,
   "metadata": {},
   "outputs": [],
   "source": [
    "foodall.loc['Wheat'][[2013,2014,2015,2016,2017,2018,2019]].plot(kind='line')\n",
    "mp.title(\"Wheat Production from 2013-2019\")\n",
    "mp.xlabel(\"Wheat\")\n",
    "mp.ylabel(\"Quantity (Millions)\")\n",
    "mp.show()"
   ]
  },
  {
   "cell_type": "code",
   "execution_count": null,
   "metadata": {},
   "outputs": [],
   "source": [
    "foodall.loc['Spices'][[2013,2014,2015,2016,2017,2018,2019]].plot(kind='line')\n",
    "mp.title(\"Spices Production from 2013-2019\")\n",
    "mp.xlabel(\"Spices\")\n",
    "mp.ylabel(\"Quantity (Millions)\")\n",
    "mp.show()"
   ]
  },
  {
   "cell_type": "code",
   "execution_count": null,
   "metadata": {},
   "outputs": [],
   "source": [
    "foodall.loc['Fruits'][[2013,2014,2015,2016,2017,2018,2019]].plot(kind='line')\n",
    "mp.title(\"Fruits Production from 2013-2019\")\n",
    "mp.xlabel(\"Fruits\")\n",
    "mp.ylabel(\"Quantity (Millions)\")\n",
    "mp.show()"
   ]
  },
  {
   "cell_type": "code",
   "execution_count": null,
   "metadata": {},
   "outputs": [],
   "source": [
    "foodall.loc['Milk'][[2013,2014,2015,2016,2017,2018,2019]].plot(kind='line')\n",
    "mp.title(\"Milk Production from 2013-2019\")\n",
    "mp.xlabel(\"Milk\")\n",
    "mp.ylabel(\"Quantity (Millions)\")\n",
    "mp.show()"
   ]
  },
  {
   "cell_type": "code",
   "execution_count": null,
   "metadata": {},
   "outputs": [],
   "source": [
    "foodall.loc['Cereals'][[2013,2014,2015,2016,2017,2018,2019]].plot(kind='line')\n",
    "mp.title(\"Cereals Production from 2013-2019\")\n",
    "mp.xlabel(\"Cereals\")\n",
    "mp.ylabel(\"Quantity (Millions)\")\n",
    "mp.show()"
   ]
  },
  {
   "cell_type": "code",
   "execution_count": null,
   "metadata": {},
   "outputs": [
    {
     "ename": "IndexError",
     "evalue": "positional indexers are out-of-bounds",
     "output_type": "error",
     "traceback": [
      "\u001b[1;31m---------------------------------------------------------------------------\u001b[0m",
      "\u001b[1;31mIndexError\u001b[0m                                Traceback (most recent call last)",
      "File \u001b[1;32mc:\\Users\\user\\AppData\\Local\\Programs\\Python\\Python39\\lib\\site-packages\\pandas\\core\\indexing.py:1482\u001b[0m, in \u001b[0;36m_iLocIndexer._get_list_axis\u001b[1;34m(self, key, axis)\u001b[0m\n\u001b[0;32m   <a href='file:///c%3A/Users/user/AppData/Local/Programs/Python/Python39/lib/site-packages/pandas/core/indexing.py?line=1480'>1481</a>\u001b[0m \u001b[39mtry\u001b[39;00m:\n\u001b[1;32m-> <a href='file:///c%3A/Users/user/AppData/Local/Programs/Python/Python39/lib/site-packages/pandas/core/indexing.py?line=1481'>1482</a>\u001b[0m     \u001b[39mreturn\u001b[39;00m \u001b[39mself\u001b[39;49m\u001b[39m.\u001b[39;49mobj\u001b[39m.\u001b[39;49m_take_with_is_copy(key, axis\u001b[39m=\u001b[39;49maxis)\n\u001b[0;32m   <a href='file:///c%3A/Users/user/AppData/Local/Programs/Python/Python39/lib/site-packages/pandas/core/indexing.py?line=1482'>1483</a>\u001b[0m \u001b[39mexcept\u001b[39;00m \u001b[39mIndexError\u001b[39;00m \u001b[39mas\u001b[39;00m err:\n\u001b[0;32m   <a href='file:///c%3A/Users/user/AppData/Local/Programs/Python/Python39/lib/site-packages/pandas/core/indexing.py?line=1483'>1484</a>\u001b[0m     \u001b[39m# re-raise with different error message\u001b[39;00m\n",
      "File \u001b[1;32mc:\\Users\\user\\AppData\\Local\\Programs\\Python\\Python39\\lib\\site-packages\\pandas\\core\\series.py:922\u001b[0m, in \u001b[0;36mSeries._take_with_is_copy\u001b[1;34m(self, indices, axis)\u001b[0m\n\u001b[0;32m    <a href='file:///c%3A/Users/user/AppData/Local/Programs/Python/Python39/lib/site-packages/pandas/core/series.py?line=913'>914</a>\u001b[0m \u001b[39m\"\"\"\u001b[39;00m\n\u001b[0;32m    <a href='file:///c%3A/Users/user/AppData/Local/Programs/Python/Python39/lib/site-packages/pandas/core/series.py?line=914'>915</a>\u001b[0m \u001b[39mInternal version of the `take` method that sets the `_is_copy`\u001b[39;00m\n\u001b[0;32m    <a href='file:///c%3A/Users/user/AppData/Local/Programs/Python/Python39/lib/site-packages/pandas/core/series.py?line=915'>916</a>\u001b[0m \u001b[39mattribute to keep track of the parent dataframe (using in indexing\u001b[39;00m\n\u001b[1;32m   (...)\u001b[0m\n\u001b[0;32m    <a href='file:///c%3A/Users/user/AppData/Local/Programs/Python/Python39/lib/site-packages/pandas/core/series.py?line=919'>920</a>\u001b[0m \u001b[39mSee the docstring of `take` for full explanation of the parameters.\u001b[39;00m\n\u001b[0;32m    <a href='file:///c%3A/Users/user/AppData/Local/Programs/Python/Python39/lib/site-packages/pandas/core/series.py?line=920'>921</a>\u001b[0m \u001b[39m\"\"\"\u001b[39;00m\n\u001b[1;32m--> <a href='file:///c%3A/Users/user/AppData/Local/Programs/Python/Python39/lib/site-packages/pandas/core/series.py?line=921'>922</a>\u001b[0m \u001b[39mreturn\u001b[39;00m \u001b[39mself\u001b[39;49m\u001b[39m.\u001b[39;49mtake(indices\u001b[39m=\u001b[39;49mindices, axis\u001b[39m=\u001b[39;49maxis)\n",
      "File \u001b[1;32mc:\\Users\\user\\AppData\\Local\\Programs\\Python\\Python39\\lib\\site-packages\\pandas\\core\\series.py:907\u001b[0m, in \u001b[0;36mSeries.take\u001b[1;34m(self, indices, axis, is_copy, **kwargs)\u001b[0m\n\u001b[0;32m    <a href='file:///c%3A/Users/user/AppData/Local/Programs/Python/Python39/lib/site-packages/pandas/core/series.py?line=905'>906</a>\u001b[0m indices \u001b[39m=\u001b[39m ensure_platform_int(indices)\n\u001b[1;32m--> <a href='file:///c%3A/Users/user/AppData/Local/Programs/Python/Python39/lib/site-packages/pandas/core/series.py?line=906'>907</a>\u001b[0m new_index \u001b[39m=\u001b[39m \u001b[39mself\u001b[39;49m\u001b[39m.\u001b[39;49mindex\u001b[39m.\u001b[39;49mtake(indices)\n\u001b[0;32m    <a href='file:///c%3A/Users/user/AppData/Local/Programs/Python/Python39/lib/site-packages/pandas/core/series.py?line=907'>908</a>\u001b[0m new_values \u001b[39m=\u001b[39m \u001b[39mself\u001b[39m\u001b[39m.\u001b[39m_values\u001b[39m.\u001b[39mtake(indices)\n",
      "File \u001b[1;32mc:\\Users\\user\\AppData\\Local\\Programs\\Python\\Python39\\lib\\site-packages\\pandas\\core\\indexes\\base.py:1113\u001b[0m, in \u001b[0;36mIndex.take\u001b[1;34m(self, indices, axis, allow_fill, fill_value, **kwargs)\u001b[0m\n\u001b[0;32m   <a href='file:///c%3A/Users/user/AppData/Local/Programs/Python/Python39/lib/site-packages/pandas/core/indexes/base.py?line=1111'>1112</a>\u001b[0m \u001b[39mif\u001b[39;00m \u001b[39misinstance\u001b[39m(values, np\u001b[39m.\u001b[39mndarray):\n\u001b[1;32m-> <a href='file:///c%3A/Users/user/AppData/Local/Programs/Python/Python39/lib/site-packages/pandas/core/indexes/base.py?line=1112'>1113</a>\u001b[0m     taken \u001b[39m=\u001b[39m algos\u001b[39m.\u001b[39;49mtake(\n\u001b[0;32m   <a href='file:///c%3A/Users/user/AppData/Local/Programs/Python/Python39/lib/site-packages/pandas/core/indexes/base.py?line=1113'>1114</a>\u001b[0m         values, indices, allow_fill\u001b[39m=\u001b[39;49mallow_fill, fill_value\u001b[39m=\u001b[39;49m\u001b[39mself\u001b[39;49m\u001b[39m.\u001b[39;49m_na_value\n\u001b[0;32m   <a href='file:///c%3A/Users/user/AppData/Local/Programs/Python/Python39/lib/site-packages/pandas/core/indexes/base.py?line=1114'>1115</a>\u001b[0m     )\n\u001b[0;32m   <a href='file:///c%3A/Users/user/AppData/Local/Programs/Python/Python39/lib/site-packages/pandas/core/indexes/base.py?line=1115'>1116</a>\u001b[0m \u001b[39melse\u001b[39;00m:\n\u001b[0;32m   <a href='file:///c%3A/Users/user/AppData/Local/Programs/Python/Python39/lib/site-packages/pandas/core/indexes/base.py?line=1116'>1117</a>\u001b[0m     \u001b[39m# algos.take passes 'axis' keyword which not all EAs accept\u001b[39;00m\n",
      "File \u001b[1;32mc:\\Users\\user\\AppData\\Local\\Programs\\Python\\Python39\\lib\\site-packages\\pandas\\core\\algorithms.py:1445\u001b[0m, in \u001b[0;36mtake\u001b[1;34m(arr, indices, axis, allow_fill, fill_value)\u001b[0m\n\u001b[0;32m   <a href='file:///c%3A/Users/user/AppData/Local/Programs/Python/Python39/lib/site-packages/pandas/core/algorithms.py?line=1442'>1443</a>\u001b[0m \u001b[39melse\u001b[39;00m:\n\u001b[0;32m   <a href='file:///c%3A/Users/user/AppData/Local/Programs/Python/Python39/lib/site-packages/pandas/core/algorithms.py?line=1443'>1444</a>\u001b[0m     \u001b[39m# NumPy style\u001b[39;00m\n\u001b[1;32m-> <a href='file:///c%3A/Users/user/AppData/Local/Programs/Python/Python39/lib/site-packages/pandas/core/algorithms.py?line=1444'>1445</a>\u001b[0m     result \u001b[39m=\u001b[39m arr\u001b[39m.\u001b[39;49mtake(indices, axis\u001b[39m=\u001b[39;49maxis)\n\u001b[0;32m   <a href='file:///c%3A/Users/user/AppData/Local/Programs/Python/Python39/lib/site-packages/pandas/core/algorithms.py?line=1445'>1446</a>\u001b[0m \u001b[39mreturn\u001b[39;00m result\n",
      "\u001b[1;31mIndexError\u001b[0m: index 2013 is out of bounds for axis 0 with size 7",
      "\nThe above exception was the direct cause of the following exception:\n",
      "\u001b[1;31mIndexError\u001b[0m                                Traceback (most recent call last)",
      "\u001b[1;32me:\\Contains\\NEW\\food22.ipynb Cell 26'\u001b[0m in \u001b[0;36m<cell line: 1>\u001b[1;34m()\u001b[0m\n\u001b[1;32m----> <a href='vscode-notebook-cell:/e%3A/Contains/NEW/food22.ipynb#ch0000023?line=0'>1</a>\u001b[0m foodall\u001b[39m.\u001b[39;49mloc[\u001b[39m'\u001b[39;49m\u001b[39mPlantation Crops\u001b[39;49m\u001b[39m'\u001b[39;49m][[\u001b[39m2013\u001b[39;49m,\u001b[39m2014\u001b[39;49m,\u001b[39m2015\u001b[39;49m,\u001b[39m2016\u001b[39;49m,\u001b[39m2017\u001b[39;49m,\u001b[39m2018\u001b[39;49m,\u001b[39m2019\u001b[39;49m]]\u001b[39m.\u001b[39mplot(kind\u001b[39m=\u001b[39m\u001b[39m'\u001b[39m\u001b[39mline\u001b[39m\u001b[39m'\u001b[39m)\n\u001b[0;32m      <a href='vscode-notebook-cell:/e%3A/Contains/NEW/food22.ipynb#ch0000023?line=1'>2</a>\u001b[0m mp\u001b[39m.\u001b[39mtitle(\u001b[39m\"\u001b[39m\u001b[39mPlantation Crops Production from 2013-2019\u001b[39m\u001b[39m\"\u001b[39m)\n\u001b[0;32m      <a href='vscode-notebook-cell:/e%3A/Contains/NEW/food22.ipynb#ch0000023?line=2'>3</a>\u001b[0m mp\u001b[39m.\u001b[39mxlabel(\u001b[39m\"\u001b[39m\u001b[39mPlantation Crops\u001b[39m\u001b[39m\"\u001b[39m)\n",
      "File \u001b[1;32mc:\\Users\\user\\AppData\\Local\\Programs\\Python\\Python39\\lib\\site-packages\\pandas\\core\\series.py:984\u001b[0m, in \u001b[0;36mSeries.__getitem__\u001b[1;34m(self, key)\u001b[0m\n\u001b[0;32m    <a href='file:///c%3A/Users/user/AppData/Local/Programs/Python/Python39/lib/site-packages/pandas/core/series.py?line=980'>981</a>\u001b[0m     key \u001b[39m=\u001b[39m np\u001b[39m.\u001b[39masarray(key, dtype\u001b[39m=\u001b[39m\u001b[39mbool\u001b[39m)\n\u001b[0;32m    <a href='file:///c%3A/Users/user/AppData/Local/Programs/Python/Python39/lib/site-packages/pandas/core/series.py?line=981'>982</a>\u001b[0m     \u001b[39mreturn\u001b[39;00m \u001b[39mself\u001b[39m\u001b[39m.\u001b[39m_get_values(key)\n\u001b[1;32m--> <a href='file:///c%3A/Users/user/AppData/Local/Programs/Python/Python39/lib/site-packages/pandas/core/series.py?line=983'>984</a>\u001b[0m \u001b[39mreturn\u001b[39;00m \u001b[39mself\u001b[39;49m\u001b[39m.\u001b[39;49m_get_with(key)\n",
      "File \u001b[1;32mc:\\Users\\user\\AppData\\Local\\Programs\\Python\\Python39\\lib\\site-packages\\pandas\\core\\series.py:1021\u001b[0m, in \u001b[0;36mSeries._get_with\u001b[1;34m(self, key)\u001b[0m\n\u001b[0;32m   <a href='file:///c%3A/Users/user/AppData/Local/Programs/Python/Python39/lib/site-packages/pandas/core/series.py?line=1018'>1019</a>\u001b[0m         \u001b[39mreturn\u001b[39;00m \u001b[39mself\u001b[39m\u001b[39m.\u001b[39mloc[key]\n\u001b[0;32m   <a href='file:///c%3A/Users/user/AppData/Local/Programs/Python/Python39/lib/site-packages/pandas/core/series.py?line=1019'>1020</a>\u001b[0m     \u001b[39melse\u001b[39;00m:\n\u001b[1;32m-> <a href='file:///c%3A/Users/user/AppData/Local/Programs/Python/Python39/lib/site-packages/pandas/core/series.py?line=1020'>1021</a>\u001b[0m         \u001b[39mreturn\u001b[39;00m \u001b[39mself\u001b[39;49m\u001b[39m.\u001b[39;49miloc[key]\n\u001b[0;32m   <a href='file:///c%3A/Users/user/AppData/Local/Programs/Python/Python39/lib/site-packages/pandas/core/series.py?line=1022'>1023</a>\u001b[0m \u001b[39m# handle the dup indexing case GH#4246\u001b[39;00m\n\u001b[0;32m   <a href='file:///c%3A/Users/user/AppData/Local/Programs/Python/Python39/lib/site-packages/pandas/core/series.py?line=1023'>1024</a>\u001b[0m \u001b[39mreturn\u001b[39;00m \u001b[39mself\u001b[39m\u001b[39m.\u001b[39mloc[key]\n",
      "File \u001b[1;32mc:\\Users\\user\\AppData\\Local\\Programs\\Python\\Python39\\lib\\site-packages\\pandas\\core\\indexing.py:967\u001b[0m, in \u001b[0;36m_LocationIndexer.__getitem__\u001b[1;34m(self, key)\u001b[0m\n\u001b[0;32m    <a href='file:///c%3A/Users/user/AppData/Local/Programs/Python/Python39/lib/site-packages/pandas/core/indexing.py?line=963'>964</a>\u001b[0m axis \u001b[39m=\u001b[39m \u001b[39mself\u001b[39m\u001b[39m.\u001b[39maxis \u001b[39mor\u001b[39;00m \u001b[39m0\u001b[39m\n\u001b[0;32m    <a href='file:///c%3A/Users/user/AppData/Local/Programs/Python/Python39/lib/site-packages/pandas/core/indexing.py?line=965'>966</a>\u001b[0m maybe_callable \u001b[39m=\u001b[39m com\u001b[39m.\u001b[39mapply_if_callable(key, \u001b[39mself\u001b[39m\u001b[39m.\u001b[39mobj)\n\u001b[1;32m--> <a href='file:///c%3A/Users/user/AppData/Local/Programs/Python/Python39/lib/site-packages/pandas/core/indexing.py?line=966'>967</a>\u001b[0m \u001b[39mreturn\u001b[39;00m \u001b[39mself\u001b[39;49m\u001b[39m.\u001b[39;49m_getitem_axis(maybe_callable, axis\u001b[39m=\u001b[39;49maxis)\n",
      "File \u001b[1;32mc:\\Users\\user\\AppData\\Local\\Programs\\Python\\Python39\\lib\\site-packages\\pandas\\core\\indexing.py:1511\u001b[0m, in \u001b[0;36m_iLocIndexer._getitem_axis\u001b[1;34m(self, key, axis)\u001b[0m\n\u001b[0;32m   <a href='file:///c%3A/Users/user/AppData/Local/Programs/Python/Python39/lib/site-packages/pandas/core/indexing.py?line=1508'>1509</a>\u001b[0m \u001b[39m# a list of integers\u001b[39;00m\n\u001b[0;32m   <a href='file:///c%3A/Users/user/AppData/Local/Programs/Python/Python39/lib/site-packages/pandas/core/indexing.py?line=1509'>1510</a>\u001b[0m \u001b[39melif\u001b[39;00m is_list_like_indexer(key):\n\u001b[1;32m-> <a href='file:///c%3A/Users/user/AppData/Local/Programs/Python/Python39/lib/site-packages/pandas/core/indexing.py?line=1510'>1511</a>\u001b[0m     \u001b[39mreturn\u001b[39;00m \u001b[39mself\u001b[39;49m\u001b[39m.\u001b[39;49m_get_list_axis(key, axis\u001b[39m=\u001b[39;49maxis)\n\u001b[0;32m   <a href='file:///c%3A/Users/user/AppData/Local/Programs/Python/Python39/lib/site-packages/pandas/core/indexing.py?line=1512'>1513</a>\u001b[0m \u001b[39m# a single integer\u001b[39;00m\n\u001b[0;32m   <a href='file:///c%3A/Users/user/AppData/Local/Programs/Python/Python39/lib/site-packages/pandas/core/indexing.py?line=1513'>1514</a>\u001b[0m \u001b[39melse\u001b[39;00m:\n\u001b[0;32m   <a href='file:///c%3A/Users/user/AppData/Local/Programs/Python/Python39/lib/site-packages/pandas/core/indexing.py?line=1514'>1515</a>\u001b[0m     key \u001b[39m=\u001b[39m item_from_zerodim(key)\n",
      "File \u001b[1;32mc:\\Users\\user\\AppData\\Local\\Programs\\Python\\Python39\\lib\\site-packages\\pandas\\core\\indexing.py:1485\u001b[0m, in \u001b[0;36m_iLocIndexer._get_list_axis\u001b[1;34m(self, key, axis)\u001b[0m\n\u001b[0;32m   <a href='file:///c%3A/Users/user/AppData/Local/Programs/Python/Python39/lib/site-packages/pandas/core/indexing.py?line=1481'>1482</a>\u001b[0m     \u001b[39mreturn\u001b[39;00m \u001b[39mself\u001b[39m\u001b[39m.\u001b[39mobj\u001b[39m.\u001b[39m_take_with_is_copy(key, axis\u001b[39m=\u001b[39maxis)\n\u001b[0;32m   <a href='file:///c%3A/Users/user/AppData/Local/Programs/Python/Python39/lib/site-packages/pandas/core/indexing.py?line=1482'>1483</a>\u001b[0m \u001b[39mexcept\u001b[39;00m \u001b[39mIndexError\u001b[39;00m \u001b[39mas\u001b[39;00m err:\n\u001b[0;32m   <a href='file:///c%3A/Users/user/AppData/Local/Programs/Python/Python39/lib/site-packages/pandas/core/indexing.py?line=1483'>1484</a>\u001b[0m     \u001b[39m# re-raise with different error message\u001b[39;00m\n\u001b[1;32m-> <a href='file:///c%3A/Users/user/AppData/Local/Programs/Python/Python39/lib/site-packages/pandas/core/indexing.py?line=1484'>1485</a>\u001b[0m     \u001b[39mraise\u001b[39;00m \u001b[39mIndexError\u001b[39;00m(\u001b[39m\"\u001b[39m\u001b[39mpositional indexers are out-of-bounds\u001b[39m\u001b[39m\"\u001b[39m) \u001b[39mfrom\u001b[39;00m \u001b[39merr\u001b[39;00m\n",
      "\u001b[1;31mIndexError\u001b[0m: positional indexers are out-of-bounds"
     ]
    }
   ],
   "source": [
    "foodall.loc['Plantation Crops'][[2013,2014,2015,2016,2017,2018,2019]].plot(kind='line')\n",
    "mp.title(\"Plantation Crops Production from 2013-2019\")\n",
    "mp.xlabel(\"Plantation Crops\")\n",
    "mp.ylabel(\"Quantity (Millions)\")\n",
    "mp.show()"
   ]
  },
  {
   "cell_type": "code",
   "execution_count": null,
   "metadata": {},
   "outputs": [],
   "source": [
    "foodall.loc['Fisheries'][[2013,2014,2015,2016,2017,2018]].plot(kind='bar')\n",
    "mp.title(\"Fisheries Production from 2013-2019\")\n",
    "mp.xlabel(\"Fisheries\")\n",
    "mp.ylabel(\"Quantity (Millions)\")\n",
    "mp.show()"
   ]
  },
  {
   "cell_type": "code",
   "execution_count": null,
   "metadata": {},
   "outputs": [
    {
     "ename": "ValueError",
     "evalue": "All arguments should have the same length. The length of argument `y` is 7, whereas the length of  previously-processed arguments ['Commodity'] is 14",
     "output_type": "error",
     "traceback": [
      "\u001b[1;31m---------------------------------------------------------------------------\u001b[0m",
      "\u001b[1;31mValueError\u001b[0m                                Traceback (most recent call last)",
      "\u001b[1;32me:\\Contains\\NEW\\food22.ipynb Cell 28'\u001b[0m in \u001b[0;36m<cell line: 2>\u001b[1;34m()\u001b[0m\n\u001b[0;32m      <a href='vscode-notebook-cell:/e%3A/Contains/NEW/food22.ipynb#ch0000025?line=0'>1</a>\u001b[0m \u001b[39mimport\u001b[39;00m \u001b[39mplotly\u001b[39;00m\u001b[39m.\u001b[39;00m\u001b[39mexpress\u001b[39;00m \u001b[39mas\u001b[39;00m \u001b[39mpx\u001b[39;00m\n\u001b[1;32m----> <a href='vscode-notebook-cell:/e%3A/Contains/NEW/food22.ipynb#ch0000025?line=1'>2</a>\u001b[0m px\u001b[39m.\u001b[39;49mline(data_frame\u001b[39m=\u001b[39;49mfoodall, y\u001b[39m=\u001b[39;49m[\u001b[39m2013\u001b[39;49m,\u001b[39m2014\u001b[39;49m,\u001b[39m2015\u001b[39;49m,\u001b[39m2016\u001b[39;49m,\u001b[39m2017\u001b[39;49m,\u001b[39m2018\u001b[39;49m,\u001b[39m2019\u001b[39;49m])\n",
      "File \u001b[1;32mc:\\Users\\user\\AppData\\Local\\Programs\\Python\\Python39\\lib\\site-packages\\plotly\\express\\_chart_types.py:264\u001b[0m, in \u001b[0;36mline\u001b[1;34m(data_frame, x, y, line_group, color, line_dash, symbol, hover_name, hover_data, custom_data, text, facet_row, facet_col, facet_col_wrap, facet_row_spacing, facet_col_spacing, error_x, error_x_minus, error_y, error_y_minus, animation_frame, animation_group, category_orders, labels, orientation, color_discrete_sequence, color_discrete_map, line_dash_sequence, line_dash_map, symbol_sequence, symbol_map, markers, log_x, log_y, range_x, range_y, line_shape, render_mode, title, template, width, height)\u001b[0m\n\u001b[0;32m    <a href='file:///c%3A/Users/user/AppData/Local/Programs/Python/Python39/lib/site-packages/plotly/express/_chart_types.py?line=215'>216</a>\u001b[0m \u001b[39mdef\u001b[39;00m \u001b[39mline\u001b[39m(\n\u001b[0;32m    <a href='file:///c%3A/Users/user/AppData/Local/Programs/Python/Python39/lib/site-packages/plotly/express/_chart_types.py?line=216'>217</a>\u001b[0m     data_frame\u001b[39m=\u001b[39m\u001b[39mNone\u001b[39;00m,\n\u001b[0;32m    <a href='file:///c%3A/Users/user/AppData/Local/Programs/Python/Python39/lib/site-packages/plotly/express/_chart_types.py?line=217'>218</a>\u001b[0m     x\u001b[39m=\u001b[39m\u001b[39mNone\u001b[39;00m,\n\u001b[1;32m   (...)\u001b[0m\n\u001b[0;32m    <a href='file:///c%3A/Users/user/AppData/Local/Programs/Python/Python39/lib/site-packages/plotly/express/_chart_types.py?line=257'>258</a>\u001b[0m     height\u001b[39m=\u001b[39m\u001b[39mNone\u001b[39;00m,\n\u001b[0;32m    <a href='file:///c%3A/Users/user/AppData/Local/Programs/Python/Python39/lib/site-packages/plotly/express/_chart_types.py?line=258'>259</a>\u001b[0m ):\n\u001b[0;32m    <a href='file:///c%3A/Users/user/AppData/Local/Programs/Python/Python39/lib/site-packages/plotly/express/_chart_types.py?line=259'>260</a>\u001b[0m     \u001b[39m\"\"\"\u001b[39;00m\n\u001b[0;32m    <a href='file:///c%3A/Users/user/AppData/Local/Programs/Python/Python39/lib/site-packages/plotly/express/_chart_types.py?line=260'>261</a>\u001b[0m \u001b[39m    In a 2D line plot, each row of `data_frame` is represented as vertex of\u001b[39;00m\n\u001b[0;32m    <a href='file:///c%3A/Users/user/AppData/Local/Programs/Python/Python39/lib/site-packages/plotly/express/_chart_types.py?line=261'>262</a>\u001b[0m \u001b[39m    a polyline mark in 2D space.\u001b[39;00m\n\u001b[0;32m    <a href='file:///c%3A/Users/user/AppData/Local/Programs/Python/Python39/lib/site-packages/plotly/express/_chart_types.py?line=262'>263</a>\u001b[0m \u001b[39m    \"\"\"\u001b[39;00m\n\u001b[1;32m--> <a href='file:///c%3A/Users/user/AppData/Local/Programs/Python/Python39/lib/site-packages/plotly/express/_chart_types.py?line=263'>264</a>\u001b[0m     \u001b[39mreturn\u001b[39;00m make_figure(args\u001b[39m=\u001b[39;49m\u001b[39mlocals\u001b[39;49m(), constructor\u001b[39m=\u001b[39;49mgo\u001b[39m.\u001b[39;49mScatter)\n",
      "File \u001b[1;32mc:\\Users\\user\\AppData\\Local\\Programs\\Python\\Python39\\lib\\site-packages\\plotly\\express\\_core.py:1948\u001b[0m, in \u001b[0;36mmake_figure\u001b[1;34m(args, constructor, trace_patch, layout_patch)\u001b[0m\n\u001b[0;32m   <a href='file:///c%3A/Users/user/AppData/Local/Programs/Python/Python39/lib/site-packages/plotly/express/_core.py?line=1944'>1945</a>\u001b[0m layout_patch \u001b[39m=\u001b[39m layout_patch \u001b[39mor\u001b[39;00m {}\n\u001b[0;32m   <a href='file:///c%3A/Users/user/AppData/Local/Programs/Python/Python39/lib/site-packages/plotly/express/_core.py?line=1945'>1946</a>\u001b[0m apply_default_cascade(args)\n\u001b[1;32m-> <a href='file:///c%3A/Users/user/AppData/Local/Programs/Python/Python39/lib/site-packages/plotly/express/_core.py?line=1947'>1948</a>\u001b[0m args \u001b[39m=\u001b[39m build_dataframe(args, constructor)\n\u001b[0;32m   <a href='file:///c%3A/Users/user/AppData/Local/Programs/Python/Python39/lib/site-packages/plotly/express/_core.py?line=1948'>1949</a>\u001b[0m \u001b[39mif\u001b[39;00m constructor \u001b[39min\u001b[39;00m [go\u001b[39m.\u001b[39mTreemap, go\u001b[39m.\u001b[39mSunburst, go\u001b[39m.\u001b[39mIcicle] \u001b[39mand\u001b[39;00m args[\u001b[39m\"\u001b[39m\u001b[39mpath\u001b[39m\u001b[39m\"\u001b[39m] \u001b[39mis\u001b[39;00m \u001b[39mnot\u001b[39;00m \u001b[39mNone\u001b[39;00m:\n\u001b[0;32m   <a href='file:///c%3A/Users/user/AppData/Local/Programs/Python/Python39/lib/site-packages/plotly/express/_core.py?line=1949'>1950</a>\u001b[0m     args \u001b[39m=\u001b[39m process_dataframe_hierarchy(args)\n",
      "File \u001b[1;32mc:\\Users\\user\\AppData\\Local\\Programs\\Python\\Python39\\lib\\site-packages\\plotly\\express\\_core.py:1405\u001b[0m, in \u001b[0;36mbuild_dataframe\u001b[1;34m(args, constructor)\u001b[0m\n\u001b[0;32m   <a href='file:///c%3A/Users/user/AppData/Local/Programs/Python/Python39/lib/site-packages/plotly/express/_core.py?line=1401'>1402</a>\u001b[0m     args[\u001b[39m\"\u001b[39m\u001b[39mcolor\u001b[39m\u001b[39m\"\u001b[39m] \u001b[39m=\u001b[39m \u001b[39mNone\u001b[39;00m\n\u001b[0;32m   <a href='file:///c%3A/Users/user/AppData/Local/Programs/Python/Python39/lib/site-packages/plotly/express/_core.py?line=1402'>1403</a>\u001b[0m \u001b[39m# now that things have been prepped, we do the systematic rewriting of `args`\u001b[39;00m\n\u001b[1;32m-> <a href='file:///c%3A/Users/user/AppData/Local/Programs/Python/Python39/lib/site-packages/plotly/express/_core.py?line=1404'>1405</a>\u001b[0m df_output, wide_id_vars \u001b[39m=\u001b[39m process_args_into_dataframe(\n\u001b[0;32m   <a href='file:///c%3A/Users/user/AppData/Local/Programs/Python/Python39/lib/site-packages/plotly/express/_core.py?line=1405'>1406</a>\u001b[0m     args, wide_mode, var_name, value_name\n\u001b[0;32m   <a href='file:///c%3A/Users/user/AppData/Local/Programs/Python/Python39/lib/site-packages/plotly/express/_core.py?line=1406'>1407</a>\u001b[0m )\n\u001b[0;32m   <a href='file:///c%3A/Users/user/AppData/Local/Programs/Python/Python39/lib/site-packages/plotly/express/_core.py?line=1408'>1409</a>\u001b[0m \u001b[39m# now that `df_output` exists and `args` contains only references, we complete\u001b[39;00m\n\u001b[0;32m   <a href='file:///c%3A/Users/user/AppData/Local/Programs/Python/Python39/lib/site-packages/plotly/express/_core.py?line=1409'>1410</a>\u001b[0m \u001b[39m# the special-case and wide-mode handling by further rewriting args and/or mutating\u001b[39;00m\n\u001b[0;32m   <a href='file:///c%3A/Users/user/AppData/Local/Programs/Python/Python39/lib/site-packages/plotly/express/_core.py?line=1410'>1411</a>\u001b[0m \u001b[39m# df_output\u001b[39;00m\n\u001b[0;32m   <a href='file:///c%3A/Users/user/AppData/Local/Programs/Python/Python39/lib/site-packages/plotly/express/_core.py?line=1412'>1413</a>\u001b[0m count_name \u001b[39m=\u001b[39m _escape_col_name(df_output, \u001b[39m\"\u001b[39m\u001b[39mcount\u001b[39m\u001b[39m\"\u001b[39m, [var_name, value_name])\n",
      "File \u001b[1;32mc:\\Users\\user\\AppData\\Local\\Programs\\Python\\Python39\\lib\\site-packages\\plotly\\express\\_core.py:1245\u001b[0m, in \u001b[0;36mprocess_args_into_dataframe\u001b[1;34m(args, wide_mode, var_name, value_name)\u001b[0m\n\u001b[0;32m   <a href='file:///c%3A/Users/user/AppData/Local/Programs/Python/Python39/lib/site-packages/plotly/express/_core.py?line=1241'>1242</a>\u001b[0m         col_name \u001b[39m=\u001b[39m _check_name_not_reserved(field, reserved_names)\n\u001b[0;32m   <a href='file:///c%3A/Users/user/AppData/Local/Programs/Python/Python39/lib/site-packages/plotly/express/_core.py?line=1243'>1244</a>\u001b[0m     \u001b[39mif\u001b[39;00m length \u001b[39mand\u001b[39;00m \u001b[39mlen\u001b[39m(argument) \u001b[39m!=\u001b[39m length:\n\u001b[1;32m-> <a href='file:///c%3A/Users/user/AppData/Local/Programs/Python/Python39/lib/site-packages/plotly/express/_core.py?line=1244'>1245</a>\u001b[0m         \u001b[39mraise\u001b[39;00m \u001b[39mValueError\u001b[39;00m(\n\u001b[0;32m   <a href='file:///c%3A/Users/user/AppData/Local/Programs/Python/Python39/lib/site-packages/plotly/express/_core.py?line=1245'>1246</a>\u001b[0m             \u001b[39m\"\u001b[39m\u001b[39mAll arguments should have the same length. \u001b[39m\u001b[39m\"\u001b[39m\n\u001b[0;32m   <a href='file:///c%3A/Users/user/AppData/Local/Programs/Python/Python39/lib/site-packages/plotly/express/_core.py?line=1246'>1247</a>\u001b[0m             \u001b[39m\"\u001b[39m\u001b[39mThe length of argument `\u001b[39m\u001b[39m%s\u001b[39;00m\u001b[39m` is \u001b[39m\u001b[39m%d\u001b[39;00m\u001b[39m, whereas the \u001b[39m\u001b[39m\"\u001b[39m\n\u001b[0;32m   <a href='file:///c%3A/Users/user/AppData/Local/Programs/Python/Python39/lib/site-packages/plotly/express/_core.py?line=1247'>1248</a>\u001b[0m             \u001b[39m\"\u001b[39m\u001b[39mlength of  previously-processed arguments \u001b[39m\u001b[39m%s\u001b[39;00m\u001b[39m is \u001b[39m\u001b[39m%d\u001b[39;00m\u001b[39m\"\u001b[39m\n\u001b[0;32m   <a href='file:///c%3A/Users/user/AppData/Local/Programs/Python/Python39/lib/site-packages/plotly/express/_core.py?line=1248'>1249</a>\u001b[0m             \u001b[39m%\u001b[39m (field, \u001b[39mlen\u001b[39m(argument), \u001b[39mstr\u001b[39m(\u001b[39mlist\u001b[39m(df_output\u001b[39m.\u001b[39mcolumns)), length)\n\u001b[0;32m   <a href='file:///c%3A/Users/user/AppData/Local/Programs/Python/Python39/lib/site-packages/plotly/express/_core.py?line=1249'>1250</a>\u001b[0m         )\n\u001b[0;32m   <a href='file:///c%3A/Users/user/AppData/Local/Programs/Python/Python39/lib/site-packages/plotly/express/_core.py?line=1250'>1251</a>\u001b[0m     df_output[\u001b[39mstr\u001b[39m(col_name)] \u001b[39m=\u001b[39m to_unindexed_series(argument)\n\u001b[0;32m   <a href='file:///c%3A/Users/user/AppData/Local/Programs/Python/Python39/lib/site-packages/plotly/express/_core.py?line=1252'>1253</a>\u001b[0m \u001b[39m# Finally, update argument with column name now that column exists\u001b[39;00m\n",
      "\u001b[1;31mValueError\u001b[0m: All arguments should have the same length. The length of argument `y` is 7, whereas the length of  previously-processed arguments ['Commodity'] is 14"
     ]
    }
   ],
   "source": [
    "import plotly.express as px\n",
    "px.line(data_frame=foodall, y=[2013,2014,2015,2016,2017,2018,2019])\n"
   ]
  },
  {
   "cell_type": "code",
   "execution_count": null,
   "metadata": {},
   "outputs": [],
   "source": [
    "px.bar(data_frame=foodall, x=[2013,2014,2015,2016,2017,2018,2019])"
   ]
  },
  {
   "cell_type": "code",
   "execution_count": null,
   "metadata": {},
   "outputs": [
    {
     "ename": "KeyError",
     "evalue": "\"None of [Int64Index([2013, 2014, 2015, 2016, 2017, 2018, 2019], dtype='int64')] are in the [columns]\"",
     "output_type": "error",
     "traceback": [
      "\u001b[1;31m---------------------------------------------------------------------------\u001b[0m",
      "\u001b[1;31mKeyError\u001b[0m                                  Traceback (most recent call last)",
      "\u001b[1;32me:\\Contains\\NEW\\food22.ipynb Cell 30'\u001b[0m in \u001b[0;36m<cell line: 1>\u001b[1;34m()\u001b[0m\n\u001b[1;32m----> <a href='vscode-notebook-cell:/e%3A/Contains/NEW/food22.ipynb#ch0000027?line=0'>1</a>\u001b[0m foodall[[\u001b[39m2013\u001b[39;49m,\u001b[39m2014\u001b[39;49m,\u001b[39m2015\u001b[39;49m,\u001b[39m2016\u001b[39;49m,\u001b[39m2017\u001b[39;49m,\u001b[39m2018\u001b[39;49m,\u001b[39m2019\u001b[39;49m]]\u001b[39m.\u001b[39mplot(kind\u001b[39m=\u001b[39m\u001b[39m'\u001b[39m\u001b[39mbar\u001b[39m\u001b[39m'\u001b[39m)\n\u001b[0;32m      <a href='vscode-notebook-cell:/e%3A/Contains/NEW/food22.ipynb#ch0000027?line=1'>2</a>\u001b[0m mp\u001b[39m.\u001b[39mtitle(\u001b[39m\"\u001b[39m\u001b[39mAgriculture and Horticulture Production from 2013-2019\u001b[39m\u001b[39m\"\u001b[39m)\n\u001b[0;32m      <a href='vscode-notebook-cell:/e%3A/Contains/NEW/food22.ipynb#ch0000027?line=2'>3</a>\u001b[0m mp\u001b[39m.\u001b[39mxlabel(\u001b[39m\"\u001b[39m\u001b[39mCommodities\u001b[39m\u001b[39m\"\u001b[39m)\n",
      "File \u001b[1;32mc:\\Users\\user\\AppData\\Local\\Programs\\Python\\Python39\\lib\\site-packages\\pandas\\core\\frame.py:3511\u001b[0m, in \u001b[0;36mDataFrame.__getitem__\u001b[1;34m(self, key)\u001b[0m\n\u001b[0;32m   <a href='file:///c%3A/Users/user/AppData/Local/Programs/Python/Python39/lib/site-packages/pandas/core/frame.py?line=3508'>3509</a>\u001b[0m     \u001b[39mif\u001b[39;00m is_iterator(key):\n\u001b[0;32m   <a href='file:///c%3A/Users/user/AppData/Local/Programs/Python/Python39/lib/site-packages/pandas/core/frame.py?line=3509'>3510</a>\u001b[0m         key \u001b[39m=\u001b[39m \u001b[39mlist\u001b[39m(key)\n\u001b[1;32m-> <a href='file:///c%3A/Users/user/AppData/Local/Programs/Python/Python39/lib/site-packages/pandas/core/frame.py?line=3510'>3511</a>\u001b[0m     indexer \u001b[39m=\u001b[39m \u001b[39mself\u001b[39;49m\u001b[39m.\u001b[39;49mcolumns\u001b[39m.\u001b[39;49m_get_indexer_strict(key, \u001b[39m\"\u001b[39;49m\u001b[39mcolumns\u001b[39;49m\u001b[39m\"\u001b[39;49m)[\u001b[39m1\u001b[39m]\n\u001b[0;32m   <a href='file:///c%3A/Users/user/AppData/Local/Programs/Python/Python39/lib/site-packages/pandas/core/frame.py?line=3512'>3513</a>\u001b[0m \u001b[39m# take() does not accept boolean indexers\u001b[39;00m\n\u001b[0;32m   <a href='file:///c%3A/Users/user/AppData/Local/Programs/Python/Python39/lib/site-packages/pandas/core/frame.py?line=3513'>3514</a>\u001b[0m \u001b[39mif\u001b[39;00m \u001b[39mgetattr\u001b[39m(indexer, \u001b[39m\"\u001b[39m\u001b[39mdtype\u001b[39m\u001b[39m\"\u001b[39m, \u001b[39mNone\u001b[39;00m) \u001b[39m==\u001b[39m \u001b[39mbool\u001b[39m:\n",
      "File \u001b[1;32mc:\\Users\\user\\AppData\\Local\\Programs\\Python\\Python39\\lib\\site-packages\\pandas\\core\\indexes\\base.py:5782\u001b[0m, in \u001b[0;36mIndex._get_indexer_strict\u001b[1;34m(self, key, axis_name)\u001b[0m\n\u001b[0;32m   <a href='file:///c%3A/Users/user/AppData/Local/Programs/Python/Python39/lib/site-packages/pandas/core/indexes/base.py?line=5778'>5779</a>\u001b[0m \u001b[39melse\u001b[39;00m:\n\u001b[0;32m   <a href='file:///c%3A/Users/user/AppData/Local/Programs/Python/Python39/lib/site-packages/pandas/core/indexes/base.py?line=5779'>5780</a>\u001b[0m     keyarr, indexer, new_indexer \u001b[39m=\u001b[39m \u001b[39mself\u001b[39m\u001b[39m.\u001b[39m_reindex_non_unique(keyarr)\n\u001b[1;32m-> <a href='file:///c%3A/Users/user/AppData/Local/Programs/Python/Python39/lib/site-packages/pandas/core/indexes/base.py?line=5781'>5782</a>\u001b[0m \u001b[39mself\u001b[39;49m\u001b[39m.\u001b[39;49m_raise_if_missing(keyarr, indexer, axis_name)\n\u001b[0;32m   <a href='file:///c%3A/Users/user/AppData/Local/Programs/Python/Python39/lib/site-packages/pandas/core/indexes/base.py?line=5783'>5784</a>\u001b[0m keyarr \u001b[39m=\u001b[39m \u001b[39mself\u001b[39m\u001b[39m.\u001b[39mtake(indexer)\n\u001b[0;32m   <a href='file:///c%3A/Users/user/AppData/Local/Programs/Python/Python39/lib/site-packages/pandas/core/indexes/base.py?line=5784'>5785</a>\u001b[0m \u001b[39mif\u001b[39;00m \u001b[39misinstance\u001b[39m(key, Index):\n\u001b[0;32m   <a href='file:///c%3A/Users/user/AppData/Local/Programs/Python/Python39/lib/site-packages/pandas/core/indexes/base.py?line=5785'>5786</a>\u001b[0m     \u001b[39m# GH 42790 - Preserve name from an Index\u001b[39;00m\n",
      "File \u001b[1;32mc:\\Users\\user\\AppData\\Local\\Programs\\Python\\Python39\\lib\\site-packages\\pandas\\core\\indexes\\base.py:5842\u001b[0m, in \u001b[0;36mIndex._raise_if_missing\u001b[1;34m(self, key, indexer, axis_name)\u001b[0m\n\u001b[0;32m   <a href='file:///c%3A/Users/user/AppData/Local/Programs/Python/Python39/lib/site-packages/pandas/core/indexes/base.py?line=5839'>5840</a>\u001b[0m     \u001b[39mif\u001b[39;00m use_interval_msg:\n\u001b[0;32m   <a href='file:///c%3A/Users/user/AppData/Local/Programs/Python/Python39/lib/site-packages/pandas/core/indexes/base.py?line=5840'>5841</a>\u001b[0m         key \u001b[39m=\u001b[39m \u001b[39mlist\u001b[39m(key)\n\u001b[1;32m-> <a href='file:///c%3A/Users/user/AppData/Local/Programs/Python/Python39/lib/site-packages/pandas/core/indexes/base.py?line=5841'>5842</a>\u001b[0m     \u001b[39mraise\u001b[39;00m \u001b[39mKeyError\u001b[39;00m(\u001b[39mf\u001b[39m\u001b[39m\"\u001b[39m\u001b[39mNone of [\u001b[39m\u001b[39m{\u001b[39;00mkey\u001b[39m}\u001b[39;00m\u001b[39m] are in the [\u001b[39m\u001b[39m{\u001b[39;00maxis_name\u001b[39m}\u001b[39;00m\u001b[39m]\u001b[39m\u001b[39m\"\u001b[39m)\n\u001b[0;32m   <a href='file:///c%3A/Users/user/AppData/Local/Programs/Python/Python39/lib/site-packages/pandas/core/indexes/base.py?line=5843'>5844</a>\u001b[0m not_found \u001b[39m=\u001b[39m \u001b[39mlist\u001b[39m(ensure_index(key)[missing_mask\u001b[39m.\u001b[39mnonzero()[\u001b[39m0\u001b[39m]]\u001b[39m.\u001b[39munique())\n\u001b[0;32m   <a href='file:///c%3A/Users/user/AppData/Local/Programs/Python/Python39/lib/site-packages/pandas/core/indexes/base.py?line=5844'>5845</a>\u001b[0m \u001b[39mraise\u001b[39;00m \u001b[39mKeyError\u001b[39;00m(\u001b[39mf\u001b[39m\u001b[39m\"\u001b[39m\u001b[39m{\u001b[39;00mnot_found\u001b[39m}\u001b[39;00m\u001b[39m not in index\u001b[39m\u001b[39m\"\u001b[39m)\n",
      "\u001b[1;31mKeyError\u001b[0m: \"None of [Int64Index([2013, 2014, 2015, 2016, 2017, 2018, 2019], dtype='int64')] are in the [columns]\""
     ]
    }
   ],
   "source": [
    "\n",
    "foodall[[2013,2014,2015,2016,2017,2018,2019]].plot(kind='bar')\n",
    "mp.title(\"Agriculture and Horticulture Production from 2013-2019\")\n",
    "mp.xlabel(\"Commodities\")\n",
    "mp.ylabel(\"Quantity (Millions)\")\n",
    "mp.show()"
   ]
  },
  {
   "cell_type": "code",
   "execution_count": null,
   "metadata": {},
   "outputs": [],
   "source": []
  }
 ],
 "metadata": {
  "interpreter": {
   "hash": "82ed002fa2d4956f5c6aec99bcefe0f73a9f79882f3c9e2319b14958a5896ac5"
  },
  "kernelspec": {
   "display_name": "Python 3.9.10 64-bit",
   "language": "python",
   "name": "python3"
  },
  "language_info": {
   "codemirror_mode": {
    "name": "ipython",
    "version": 3
   },
   "file_extension": ".py",
   "mimetype": "text/x-python",
   "name": "python",
   "nbconvert_exporter": "python",
   "pygments_lexer": "ipython3",
   "version": "3.9.10"
  },
  "orig_nbformat": 4
 },
 "nbformat": 4,
 "nbformat_minor": 2
}
